{
  "nbformat": 4,
  "nbformat_minor": 0,
  "metadata": {
    "colab": {
      "name": " Plot types of DatasetShifts.ipynb",
      "provenance": [],
      "collapsed_sections": []
    },
    "kernelspec": {
      "name": "python3",
      "display_name": "Python 3"
    },
    "language_info": {
      "name": "python"
    }
  },
  "cells": [
    {
      "cell_type": "code",
      "metadata": {
        "id": "wkD2wm7dqrOZ"
      },
      "source": [
        "\n",
        "from scipy.stats import norm\n",
        "import seaborn as sns\n",
        "import matplotlib.pyplot as plt\n",
        "import numpy as np\n",
        "import math\n",
        "import pandas as pd\n",
        "from scipy.interpolate import interp1d\n",
        "from google.colab import files\n"
      ],
      "execution_count": null,
      "outputs": []
    },
    {
      "cell_type": "code",
      "metadata": {
        "colab": {
          "base_uri": "https://localhost:8080/",
          "height": 295
        },
        "id": "_RuAONo7XV9u",
        "outputId": "02dfec6a-6106-4d98-df85-e4e03da91311"
      },
      "source": [
        "# Covariate Shift\n",
        "\n",
        "x1 = np.random.normal(0, 1, 100)\n",
        "y1 = x1*x1*x1 + 5.3*x1*x1 - 0.4*x1 + 3 + np.random.normal(0, 0.7, 100)\n",
        "y1 = np.log(y1)\n",
        "# df = pd.DataFrame({'x': x})\n",
        "# df['y'] = y\n",
        "\n",
        "# sns.displot(x,kind=\"kde\")\n",
        "# sns.displot(y,kind=\"kde\")\n",
        "# sns.jointplot(x,y,kind=\"kde\")\n",
        "\n",
        "x2 = np.random.normal(10, 3, 100)\n",
        "y2 = 1.2*x2*x2*x2 + 5.2*x2*x2 - x2 + 3.3 + np.random.normal(1, 0, 100)\n",
        "y2 = np.log(y2)\n",
        "# df['xt'] = x\n",
        "# df['yt'] = y\n",
        "\n",
        "# sns.displot(x,kind=\"kde\")\n",
        "# sns.displot(y,kind=\"kde\")\n",
        "# sns.jointplot(x,y,kind=\"kde\")\n",
        "\n",
        "x = np.random.normal(3, 3, 100)\n",
        "y = x*x*x + 5*x*x - x + 3\n",
        "y = np.log(y)\n",
        "\n",
        "p = plt.figure()\n",
        "plt.scatter(x1,y1,color='r', marker='v', label='train data')\n",
        "plt.scatter(x2,y2,color='orange', marker='.', label='test data')\n",
        "\n",
        "x_new = np.linspace(x.min(), x.max(),100)\n",
        "\n",
        "f = interp1d(x, y, kind='quadratic')\n",
        "y_smooth=f(x_new)\n",
        "\n",
        "plt.plot (x_new,y_smooth,color='b',label='Ground Truth SCM')\n",
        "\n",
        "\n",
        "# Naming the x-axis, y-axis and the whole graph\n",
        "plt.xlabel(\"x\")\n",
        "plt.ylabel(\"y\")\n",
        "plt.title(\"Covariate Shift\")\n",
        "\n",
        "# Adding legend, which helps us recognize the curve according to it's color\n",
        "plt.legend()\n",
        "\n",
        "# p.savefig(\"Cov.pdf\", bbox_inches='tight')\n",
        "# files.download('Cov.pdf')\n",
        "\n",
        "plt.show()  "
      ],
      "execution_count": null,
      "outputs": [
        {
          "output_type": "display_data",
          "data": {
            "application/javascript": [
              "\n",
              "    async function download(id, filename, size) {\n",
              "      if (!google.colab.kernel.accessAllowed) {\n",
              "        return;\n",
              "      }\n",
              "      const div = document.createElement('div');\n",
              "      const label = document.createElement('label');\n",
              "      label.textContent = `Downloading \"${filename}\": `;\n",
              "      div.appendChild(label);\n",
              "      const progress = document.createElement('progress');\n",
              "      progress.max = size;\n",
              "      div.appendChild(progress);\n",
              "      document.body.appendChild(div);\n",
              "\n",
              "      const buffers = [];\n",
              "      let downloaded = 0;\n",
              "\n",
              "      const channel = await google.colab.kernel.comms.open(id);\n",
              "      // Send a message to notify the kernel that we're ready.\n",
              "      channel.send({})\n",
              "\n",
              "      for await (const message of channel.messages) {\n",
              "        // Send a message to notify the kernel that we're ready.\n",
              "        channel.send({})\n",
              "        if (message.buffers) {\n",
              "          for (const buffer of message.buffers) {\n",
              "            buffers.push(buffer);\n",
              "            downloaded += buffer.byteLength;\n",
              "            progress.value = downloaded;\n",
              "          }\n",
              "        }\n",
              "      }\n",
              "      const blob = new Blob(buffers, {type: 'application/binary'});\n",
              "      const a = document.createElement('a');\n",
              "      a.href = window.URL.createObjectURL(blob);\n",
              "      a.download = filename;\n",
              "      div.appendChild(a);\n",
              "      a.click();\n",
              "      div.remove();\n",
              "    }\n",
              "  "
            ],
            "text/plain": [
              "<IPython.core.display.Javascript object>"
            ]
          },
          "metadata": {
            "tags": []
          }
        },
        {
          "output_type": "display_data",
          "data": {
            "application/javascript": [
              "download(\"download_807b65cc-4e8a-4a3d-b1f2-8b316a43f78a\", \"Cov.pdf\", 17214)"
            ],
            "text/plain": [
              "<IPython.core.display.Javascript object>"
            ]
          },
          "metadata": {
            "tags": []
          }
        },
        {
          "output_type": "display_data",
          "data": {
            "image/png": "[encoded data removed]",
            "text/plain": [
              "<Figure size 432x288 with 1 Axes>"
            ]
          },
          "metadata": {
            "tags": [],
            "needs_background": "light"
          }
        }
      ]
    },
    {
      "cell_type": "code",
      "metadata": {
        "colab": {
          "base_uri": "https://localhost:8080/",
          "height": 295
        },
        "id": "U5RVawCGeUk7",
        "outputId": "7731d06f-887a-4312-cb45-d09bd75bce2e"
      },
      "source": [
        "# Target Shift\n",
        "\n",
        "x1 = np.random.normal(0, 1, 100)\n",
        "y1 = x1*x1*x1 + 5.3*x1*x1 - 0.4*x1 + 3 + np.random.normal(-1, 0.7, 100)\n",
        "y1 = np.log(y1)\n",
        "# df = pd.DataFrame({'x': x})\n",
        "# df['y'] = y\n",
        "\n",
        "# sns.displot(x,kind=\"kde\")\n",
        "# sns.displot(y,kind=\"kde\")\n",
        "# sns.jointplot(x,y,kind=\"kde\")\n",
        "\n",
        "x2 = np.random.normal(0, 1, 100)\n",
        "y2 = 0.8*x2*x2*x2 + 5*x2*x2 - x2 + 3 + np.random.normal(5, 0.8, 100)\n",
        "y2 = np.log(y2)\n",
        "# df['xt'] = x\n",
        "# df['yt'] = y\n",
        "\n",
        "# sns.displot(x,kind=\"kde\")\n",
        "# sns.displot(y,kind=\"kde\")\n",
        "# sns.jointplot(x,y,kind=\"kde\")\n",
        "\n",
        "x = np.random.normal(0, 1, 100)\n",
        "y = x*x*x + 5*x*x - x + 3\n",
        "y = np.log(y)\n",
        "\n",
        "p = plt.figure()\n",
        "plt.scatter(x1,y1,color='r', marker='v', label='train data')\n",
        "plt.scatter(x2,y2,color='orange', marker='.', label='test data')\n",
        "\n",
        "x_new = np.linspace(x.min(), x.max(),100)\n",
        "\n",
        "f = interp1d(x, y, kind='quadratic')\n",
        "y_smooth=f(x_new)\n",
        "\n",
        "plt.plot (x_new,y_smooth,color='b',label='Ground Truth SCM')\n",
        "\n",
        "\n",
        "# Naming the x-axis, y-axis and the whole graph\n",
        "plt.xlabel(\"x\")\n",
        "plt.ylabel(\"y\")\n",
        "plt.title(\"Target Shift\")\n",
        "  \n",
        "# Adding legend, which helps us recognize the curve according to it's color\n",
        "plt.legend()\n",
        "\n",
        "# p.savefig(\"Tar.pdf\", bbox_inches='tight')\n",
        "# files.download('Tar.pdf')\n",
        "\n",
        "plt.show()  "
      ],
      "execution_count": null,
      "outputs": [
        {
          "output_type": "display_data",
          "data": {
            "application/javascript": [
              "\n",
              "    async function download(id, filename, size) {\n",
              "      if (!google.colab.kernel.accessAllowed) {\n",
              "        return;\n",
              "      }\n",
              "      const div = document.createElement('div');\n",
              "      const label = document.createElement('label');\n",
              "      label.textContent = `Downloading \"${filename}\": `;\n",
              "      div.appendChild(label);\n",
              "      const progress = document.createElement('progress');\n",
              "      progress.max = size;\n",
              "      div.appendChild(progress);\n",
              "      document.body.appendChild(div);\n",
              "\n",
              "      const buffers = [];\n",
              "      let downloaded = 0;\n",
              "\n",
              "      const channel = await google.colab.kernel.comms.open(id);\n",
              "      // Send a message to notify the kernel that we're ready.\n",
              "      channel.send({})\n",
              "\n",
              "      for await (const message of channel.messages) {\n",
              "        // Send a message to notify the kernel that we're ready.\n",
              "        channel.send({})\n",
              "        if (message.buffers) {\n",
              "          for (const buffer of message.buffers) {\n",
              "            buffers.push(buffer);\n",
              "            downloaded += buffer.byteLength;\n",
              "            progress.value = downloaded;\n",
              "          }\n",
              "        }\n",
              "      }\n",
              "      const blob = new Blob(buffers, {type: 'application/binary'});\n",
              "      const a = document.createElement('a');\n",
              "      a.href = window.URL.createObjectURL(blob);\n",
              "      a.download = filename;\n",
              "      div.appendChild(a);\n",
              "      a.click();\n",
              "      div.remove();\n",
              "    }\n",
              "  "
            ],
            "text/plain": [
              "<IPython.core.display.Javascript object>"
            ]
          },
          "metadata": {
            "tags": []
          }
        },
        {
          "output_type": "display_data",
          "data": {
            "application/javascript": [
              "download(\"download_f7195dfa-6bdf-403a-95e9-57fb6877c642\", \"Tar.pdf\", 17035)"
            ],
            "text/plain": [
              "<IPython.core.display.Javascript object>"
            ]
          },
          "metadata": {
            "tags": []
          }
        },
        {
          "output_type": "display_data",
          "data": {
            "image/png": "[encoded data removed]",
            "text/plain": [
              "<Figure size 432x288 with 1 Axes>"
            ]
          },
          "metadata": {
            "tags": [],
            "needs_background": "light"
          }
        }
      ]
    },
    {
      "cell_type": "code",
      "metadata": {
        "id": "M-g5BZr9koCJ"
      },
      "source": [
        "# # Concept Shift\n",
        "\n",
        "# x = np.random.normal(0, 2, 1000)\n",
        "# y = x*x*x + 2  \n",
        "\n",
        "# # sns.displot(x,kind=\"kde\")\n",
        "# # sns.displot(y,kind=\"kde\")\n",
        "# sns.jointplot(x,y,kind=\"kde\")\n",
        "\n",
        "# x = np.random.normal(0, 2, 1000)\n",
        "# y = x*x*x + 2 \n",
        "\n",
        "# # sns.displot(x,kind=\"kde\")\n",
        "# # sns.displot(y,kind=\"kde\")\n",
        "# sns.jointplot(x,y,kind=\"kde\")"
      ],
      "execution_count": null,
      "outputs": []
    },
    {
      "cell_type": "code",
      "metadata": {
        "colab": {
          "base_uri": "https://localhost:8080/",
          "height": 295
        },
        "id": "ghC0fihbsPuO",
        "outputId": "e7f10104-142d-47af-fdc0-dd97aed9f099"
      },
      "source": [
        "# Sample Selection Bias\n",
        "\n",
        "x1 = np.random.normal(0, 1, 100)\n",
        "\n",
        "xt = x1\n",
        "for i in range(0,99):\n",
        "  if (xt[i]<0):\n",
        "    xt[i]=0\n",
        "\n",
        "y1 = xt*xt*xt + 5.3*xt*xt - 0.4*xt + 3 + np.random.normal(0, 0.7, 100)\n",
        "y1 = np.log(y1)\n",
        "# df = pd.DataFrame({'x': x})\n",
        "# df['y'] = y\n",
        "\n",
        "# sns.displot(x,kind=\"kde\")\n",
        "# sns.displot(y,kind=\"kde\")\n",
        "# sns.jointplot(x,y,kind=\"kde\")\n",
        "\n",
        "x2 = np.random.normal(0, 1, 100)\n",
        "y2 = 0.8*x2*x2*x2 + 5*x2*x2 - x2 + 3 + np.random.normal(0, 0.8, 100)\n",
        "y2 = np.log(y2)\n",
        "# df['xt'] = x\n",
        "# df['yt'] = y\n",
        "\n",
        "# sns.displot(x,kind=\"kde\")\n",
        "# sns.displot(y,kind=\"kde\")\n",
        "# sns.jointplot(x,y,kind=\"kde\")\n",
        "\n",
        "x = np.random.normal(0, 1, 100)\n",
        "y = x*x*x + 5*x*x - x + 3\n",
        "y = np.log(y)\n",
        "\n",
        "p = plt.figure()\n",
        "plt.scatter(x1,y1,color='r', marker='v', label='train data')\n",
        "plt.scatter(x2,y2,color='orange', marker='.', label='test data')\n",
        "\n",
        "x_new = np.linspace(x.min(), x.max(),100)\n",
        "\n",
        "f = interp1d(x, y, kind='quadratic')\n",
        "y_smooth=f(x_new)\n",
        "\n",
        "plt.plot (x_new,y_smooth,color='b',label='Ground Truth SCM')\n",
        "\n",
        "\n",
        "# Naming the x-axis, y-axis and the whole graph\n",
        "plt.xlabel(\"x\")\n",
        "plt.ylabel(\"y\")\n",
        "plt.title(\"Sample Selection Bias\")\n",
        "  \n",
        "# Adding legend, which helps us recognize the curve according to it's color\n",
        "plt.legend()\n",
        "\n",
        "# p.savefig(\"Bias.pdf\", bbox_inches='tight')\n",
        "# files.download('Bias.pdf')\n",
        "plt.show()  "
      ],
      "execution_count": null,
      "outputs": [
        {
          "output_type": "display_data",
          "data": {
            "image/png": "[encoded data removed]",
            "text/plain": [
              "<Figure size 432x288 with 1 Axes>"
            ]
          },
          "metadata": {
            "tags": [],
            "needs_background": "light"
          }
        }
      ]
    },
    {
      "cell_type": "code",
      "metadata": {
        "colab": {
          "base_uri": "https://localhost:8080/",
          "height": 362
        },
        "id": "hUDug3q3O9b5",
        "outputId": "fc069c43-197d-49d9-bd9e-635717c6e934"
      },
      "source": [
        "# Domain Shift\n",
        "x0 = np.random.normal(5, 2, 200)\n",
        "\n",
        "x1 = 2*x0*x0 - 30*x0 + np.random.normal(100, 4, 200)\n",
        "y1 = x1*x1*x1 + 5*x1*x1 - x1 + 3 + np.random.normal(0, 5, 200)\n",
        "y1 = np.log(y1)\n",
        "x1 = np.log(x1)\n",
        "# df = pd.DataFrame({'x': x})\n",
        "# df['y'] = y\n",
        "\n",
        "# sns.displot(x,kind=\"kde\")\n",
        "# sns.displot(y,kind=\"kde\")\n",
        "# sns.jointplot(x,y,kind=\"kde\")\n",
        "\n",
        "x2 = (5)*x0*x0*x0 + 40 + np.random.normal(-30, 1, 200)\n",
        "y2 = x2*x2*x2 + 5*x2*x2 - x2 + 3 - np.random.normal(0, 2, 200)\n",
        "y2 = np.log(y2)\n",
        "x2 = np.log(x2)\n",
        "# df['xt'] = x\n",
        "# df['yt'] = y\n",
        "\n",
        "# sns.displot(x,kind=\"kde\")\n",
        "# sns.displot(y,kind=\"kde\")\n",
        "# sns.jointplot(x,y,kind=\"kde\")\n",
        "\n",
        "#x = 2*x0*x0*x0 - 2.6*x0 + x0*x0 + np.random.normal(10, 0, 200)\n",
        "x = 3*x0*x0 + np.random.normal(10, 0, 200)\n",
        "y = x*x*x + 5*x*x - x + 3 + np.random.normal(0, 1, 200)\n",
        "y = np.log(y)\n",
        "x = np.log(x)\n",
        "\n",
        "p = plt.figure()\n",
        "plt.scatter(x1,y1,color='r', marker='v', label='train data')\n",
        "plt.scatter(x2,y2,color='orange', marker='.', label='test data')\n",
        "\n",
        "x_new = np.linspace(x.min(), x.max(),200)\n",
        "\n",
        "f = interp1d(x, y, kind='quadratic')\n",
        "y_smooth=f(x_new)\n",
        "\n",
        "plt.plot (x_new,y_smooth,color='b',label='Ground Truth SCM')\n",
        "\n",
        "\n",
        "# Naming the x-axis, y-axis and the whole graph\n",
        "plt.xlabel(\"x\")\n",
        "plt.ylabel(\"y\")\n",
        "plt.title(\"Domain Shift\")\n",
        "\n",
        "# Adding legend, which helps us recognize the curve according to it's color\n",
        "plt.legend()\n",
        "\n",
        "# p.savefig(\"Dom.pdf\", bbox_inches='tight')\n",
        "# files.download('Dom.pdf')\n",
        "\n",
        "plt.show()  "
      ],
      "execution_count": null,
      "outputs": [
        {
          "output_type": "stream",
          "text": [
            "/usr/local/lib/python3.7/dist-packages/ipykernel_launcher.py:6: RuntimeWarning: invalid value encountered in log\n",
            "  \n",
            "/usr/local/lib/python3.7/dist-packages/ipykernel_launcher.py:7: RuntimeWarning: invalid value encountered in log\n",
            "  import sys\n"
          ],
          "name": "stderr"
        },
        {
          "output_type": "display_data",
          "data": {
            "application/javascript": [
              "\n",
              "    async function download(id, filename, size) {\n",
              "      if (!google.colab.kernel.accessAllowed) {\n",
              "        return;\n",
              "      }\n",
              "      const div = document.createElement('div');\n",
              "      const label = document.createElement('label');\n",
              "      label.textContent = `Downloading \"${filename}\": `;\n",
              "      div.appendChild(label);\n",
              "      const progress = document.createElement('progress');\n",
              "      progress.max = size;\n",
              "      div.appendChild(progress);\n",
              "      document.body.appendChild(div);\n",
              "\n",
              "      const buffers = [];\n",
              "      let downloaded = 0;\n",
              "\n",
              "      const channel = await google.colab.kernel.comms.open(id);\n",
              "      // Send a message to notify the kernel that we're ready.\n",
              "      channel.send({})\n",
              "\n",
              "      for await (const message of channel.messages) {\n",
              "        // Send a message to notify the kernel that we're ready.\n",
              "        channel.send({})\n",
              "        if (message.buffers) {\n",
              "          for (const buffer of message.buffers) {\n",
              "            buffers.push(buffer);\n",
              "            downloaded += buffer.byteLength;\n",
              "            progress.value = downloaded;\n",
              "          }\n",
              "        }\n",
              "      }\n",
              "      const blob = new Blob(buffers, {type: 'application/binary'});\n",
              "      const a = document.createElement('a');\n",
              "      a.href = window.URL.createObjectURL(blob);\n",
              "      a.download = filename;\n",
              "      div.appendChild(a);\n",
              "      a.click();\n",
              "      div.remove();\n",
              "    }\n",
              "  "
            ],
            "text/plain": [
              "<IPython.core.display.Javascript object>"
            ]
          },
          "metadata": {
            "tags": []
          }
        },
        {
          "output_type": "display_data",
          "data": {
            "application/javascript": [
              "download(\"download_134a2315-3c15-4d24-9248-1e0749e33bc8\", \"Dom.pdf\", 18375)"
            ],
            "text/plain": [
              "<IPython.core.display.Javascript object>"
            ]
          },
          "metadata": {
            "tags": []
          }
        },
        {
          "output_type": "display_data",
          "data": {
            "image/png": "[encoded data removed]",
            "text/plain": [
              "<Figure size 432x288 with 1 Axes>"
            ]
          },
          "metadata": {
            "tags": [],
            "needs_background": "light"
          }
        }
      ]
    },
    {
      "cell_type": "code",
      "metadata": {
        "colab": {
          "base_uri": "https://localhost:8080/",
          "height": 403
        },
        "id": "7M7T0DV9BrRR",
        "outputId": "56f50cb0-6c01-4efd-842e-ae5b87459888"
      },
      "source": [
        "# Domain Shift\n",
        "x0 = np.random.normal(-5, 2, 200)\n",
        "x0 = np.log(abs(x0))\n",
        "\n",
        "x1 = (5)*x0*x0*x0 - 3*x0*x0 + np.random.normal(1, 4, 200)\n",
        "y1 = x1*x1*x1 + 5*x1*x1 - x1 + 3 + np.random.normal(0, 5, 200)\n",
        "y1 = np.log(abs(y1))\n",
        "# x1 = np.log(x1)\n",
        "# df = pd.DataFrame({'x': x})\n",
        "# df['y'] = y\n",
        "\n",
        "# sns.displot(x,kind=\"kde\")\n",
        "# sns.displot(y,kind=\"kde\")\n",
        "# sns.jointplot(x,y,kind=\"kde\")\n",
        "\n",
        "x0 = 0 + np.random.normal(2, 2, 200)\n",
        "x0 = -(np.log(abs(x0)))\n",
        "\n",
        "x2 = (5)*x0*x0*x0 - 3*x0*x0 + np.random.normal(0, 1, 200)\n",
        "y2 = x2*x2*x2 + 5*x2*x2 - x2 + 3 - np.random.normal(0, 2, 200)\n",
        "y2 = np.log(abs(y2))\n",
        "# x2 = np.log(x2)\n",
        "# df['xt'] = x\n",
        "# df['yt'] = y\n",
        "\n",
        "# sns.displot(x,kind=\"kde\")\n",
        "# sns.displot(y,kind=\"kde\")\n",
        "# sns.jointplot(x,y,kind=\"kde\")\n",
        "\n",
        "x0 = 5 + np.random.normal(0, 2, 200)\n",
        "x0 = np.log(abs(x0))\n",
        "\n",
        "x = (5)*x0*x0*x0 - 3*x0*x0 + np.random.normal(2, 1, 200)\n",
        "y = x*x*x + 5*x*x - x + 3 + np.random.normal(0, 0, 200)\n",
        "y = np.log(abs(y))\n",
        "# x = np.log(x)\n",
        "\n",
        "p = plt.figure()\n",
        "p.add_axes([0,0,1,1]).set_ylim(-5,20)\n",
        "p.add_axes([0,0,1,1]).set_xlim(-100,100)\n",
        "\n",
        "plt.scatter(x1,y1,color='r', marker='v', label='train data')\n",
        "plt.scatter(x2,y2,color='orange', marker='.', label='test data')\n",
        "\n",
        "x_new = np.linspace(x.min(), x.max(),200)\n",
        "\n",
        "f = interp1d(x, y, kind='quadratic')\n",
        "y_smooth=f(x_new)\n",
        "\n",
        "plt.plot (x_new,y_smooth,color='b',label='Ground Truth SCM')\n",
        "\n",
        "\n",
        "# Naming the x-axis, y-axis and the whole graph\n",
        "plt.xlabel(\"x\")\n",
        "plt.ylabel(\"y\")\n",
        "plt.title(\"Domain Shift\")\n",
        "\n",
        "# Adding legend, which helps us recognize the curve according to it's color\n",
        "plt.legend()\n",
        "# p.add_axes([0,0,1,1]).set_ylim(-10,20)\n",
        "# p.add_axes([0,0,1,1]).set_xlim(-100,100)\n",
        "\n",
        "# p.savefig(\"Dom.pdf\", bbox_inches='tight')\n",
        "# files.download('Dom.pdf')\n",
        "\n",
        "plt.show()  "
      ],
      "execution_count": null,
      "outputs": [
        {
          "output_type": "stream",
          "text": [
            "/usr/local/lib/python3.7/dist-packages/ipykernel_launcher.py:40: MatplotlibDeprecationWarning: Adding an axes using the same arguments as a previous axes currently reuses the earlier instance.  In a future version, a new instance will always be created and returned.  Meanwhile, this warning can be suppressed, and the future behavior ensured, by passing a unique label to each axes instance.\n"
          ],
          "name": "stderr"
        },
        {
          "output_type": "display_data",
          "data": {
            "image/png": "[encoded data removed]",
            "text/plain": [
              "<Figure size 432x288 with 1 Axes>"
            ]
          },
          "metadata": {
            "tags": [],
            "needs_background": "light"
          }
        }
      ]
    }
  ]
}