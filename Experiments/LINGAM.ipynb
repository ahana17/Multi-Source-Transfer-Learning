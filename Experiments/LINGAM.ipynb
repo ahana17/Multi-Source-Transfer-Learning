{
  "nbformat": 4,
  "nbformat_minor": 0,
  "metadata": {
    "colab": {
      "name": "Lingam.ipynb",
      "provenance": []
    },
    "kernelspec": {
      "name": "python3",
      "display_name": "Python 3"
    },
    "language_info": {
      "name": "python"
    }
  },
  "cells": [
    {
      "cell_type": "code",
      "metadata": {
        "colab": {
          "base_uri": "https://localhost:8080/"
        },
        "id": "Gf0RXpxfU3HI",
        "outputId": "9fd9167a-08f0-44bc-b0fb-555b9a31532a"
      },
      "source": [
        "import pandas as pd\n",
        "import csv\n",
        "import numpy as np\n",
        "import os\n",
        "from google.colab import drive\n",
        "import matplotlib.pyplot as plt\n",
        "import re\n",
        "import sys\n",
        "from sklearn.model_selection import train_test_split\n",
        "from sklearn.preprocessing import LabelEncoder\n",
        "\n",
        "drive.mount(\"/content/drive\")"
      ],
      "execution_count": null,
      "outputs": [
        {
          "output_type": "stream",
          "name": "stdout",
          "text": [
            "Mounted at /content/drive\n"
          ]
        }
      ]
    },
    {
      "cell_type": "code",
      "metadata": {
        "colab": {
          "base_uri": "https://localhost:8080/"
        },
        "id": "GM2SO0BOVJrn",
        "outputId": "b49dd16a-41d9-4e62-c5e8-c0e73655084a"
      },
      "source": [
        "!pip install lingam"
      ],
      "execution_count": null,
      "outputs": [
        {
          "output_type": "stream",
          "name": "stdout",
          "text": [
            "Collecting lingam\n",
            "  Downloading lingam-1.5.4-py3-none-any.whl (58 kB)\n",
            "\u001b[?25l\r\u001b[K     |█████▋                          | 10 kB 22.2 MB/s eta 0:00:01\r\u001b[K     |███████████▏                    | 20 kB 25.1 MB/s eta 0:00:01\r\u001b[K     |████████████████▊               | 30 kB 29.1 MB/s eta 0:00:01\r\u001b[K     |██████████████████████▍         | 40 kB 19.9 MB/s eta 0:00:01\r\u001b[K     |████████████████████████████    | 51 kB 8.4 MB/s eta 0:00:01\r\u001b[K     |████████████████████████████████| 58 kB 4.0 MB/s \n",
            "\u001b[?25hRequirement already satisfied: statsmodels in /usr/local/lib/python3.7/dist-packages (from lingam) (0.10.2)\n",
            "Requirement already satisfied: numpy in /usr/local/lib/python3.7/dist-packages (from lingam) (1.19.5)\n",
            "Requirement already satisfied: graphviz in /usr/local/lib/python3.7/dist-packages (from lingam) (0.10.1)\n",
            "Requirement already satisfied: scipy in /usr/local/lib/python3.7/dist-packages (from lingam) (1.4.1)\n",
            "Requirement already satisfied: scikit-learn in /usr/local/lib/python3.7/dist-packages (from lingam) (0.22.2.post1)\n",
            "Requirement already satisfied: joblib>=0.11 in /usr/local/lib/python3.7/dist-packages (from scikit-learn->lingam) (1.0.1)\n",
            "Requirement already satisfied: patsy>=0.4.0 in /usr/local/lib/python3.7/dist-packages (from statsmodels->lingam) (0.5.2)\n",
            "Requirement already satisfied: pandas>=0.19 in /usr/local/lib/python3.7/dist-packages (from statsmodels->lingam) (1.1.5)\n",
            "Requirement already satisfied: python-dateutil>=2.7.3 in /usr/local/lib/python3.7/dist-packages (from pandas>=0.19->statsmodels->lingam) (2.8.2)\n",
            "Requirement already satisfied: pytz>=2017.2 in /usr/local/lib/python3.7/dist-packages (from pandas>=0.19->statsmodels->lingam) (2018.9)\n",
            "Requirement already satisfied: six in /usr/local/lib/python3.7/dist-packages (from patsy>=0.4.0->statsmodels->lingam) (1.15.0)\n",
            "Installing collected packages: lingam\n",
            "Successfully installed lingam-1.5.4\n"
          ]
        }
      ]
    },
    {
      "cell_type": "code",
      "metadata": {
        "id": "Wgiq6OTzU3VG"
      },
      "source": [
        "# ALARM DATASET\n",
        "\n",
        "# df = pd.read_csv(\"/content/drive/MyDrive/Alarm_Reg_train1.csv\")\n",
        "df = pd.read_csv(\"/content/drive/MyDrive/Alarm_Reg_softINT2.csv\")\n",
        "# df = pd.read_csv(\"/content/drive/MyDrive/Alarm_Reg_Ntrain1.csv\") # Non linear training 1\n",
        "# df = pd.read_csv(\"/content/drive/MyDrive/Alarm_Reg_N2train1.csv\") # Non linear training 2\n",
        "# df = pd.read_csv(\"/content/drive/MyDrive/Alarm_Reg_N3train1.csv\") # Non linear training 3\n",
        "\n",
        "X_train,X_test,y_train,y_test = train_test_split(df.drop(['ECO2'],axis = 1), df['ECO2'],test_size=0.2)\n",
        "# X_train,X_test,y_train,y_test = train_test_split(df[['CCHL', 'ECO2', 'VALV', 'TPR', 'SAO2', 'ANES', 'VLNG']], df['ACO2'],test_size=0.2)\n",
        "\n",
        "# X_train,X_test,y_train,y_test = train_test_split(df[['CCHL', 'ECO2', 'VALV', 'TPR', 'SAO2', 'ANES', 'VLNG','MINV']], df['ACO2'],test_size=0.2) # for non linear 3\n"
      ],
      "execution_count": null,
      "outputs": []
    },
    {
      "cell_type": "code",
      "metadata": {
        "id": "JODc11m0XMQ2"
      },
      "source": [
        "df['CCHL'] = df['CCHL'].astype(float)"
      ],
      "execution_count": null,
      "outputs": []
    },
    {
      "cell_type": "markdown",
      "metadata": {
        "id": "NpcRfq9cUsPq"
      },
      "source": [
        "NON LINEAR REGRESSION\n"
      ]
    },
    {
      "cell_type": "code",
      "metadata": {
        "colab": {
          "base_uri": "https://localhost:8080/"
        },
        "id": "NHwikVBQUil8",
        "outputId": "9a1473f4-7f6a-40bb-a6dd-30a2f8faf04a"
      },
      "source": [
        "import numpy as np\n",
        "import pandas as pd\n",
        "import graphviz\n",
        "import lingam\n",
        "\n",
        "print([np.__version__, pd.__version__, graphviz.__version__, lingam.__version__])\n",
        "\n",
        "np.set_printoptions(precision=3, suppress=True)\n",
        "np.random.seed(0)"
      ],
      "execution_count": null,
      "outputs": [
        {
          "output_type": "stream",
          "name": "stdout",
          "text": [
            "['1.19.5', '1.1.5', '0.10.1', '1.5.4']\n"
          ]
        }
      ]
    },
    {
      "cell_type": "code",
      "metadata": {
        "id": "8En1RvIWVajg"
      },
      "source": [
        "def make_graph(adjacency_matrix, labels=None):\n",
        "    idx = np.abs(adjacency_matrix) > 0.01\n",
        "    dirs = np.where(idx)\n",
        "    d = graphviz.Digraph(engine='dot')\n",
        "    names = labels if labels else [f'x{i}' for i in range(len(adjacency_matrix))]\n",
        "    for to, from_, coef in zip(dirs[0], dirs[1], adjacency_matrix[idx]):\n",
        "        d.edge(names[from_], names[to], label=f'{coef:.2f}')\n",
        "    return d"
      ],
      "execution_count": null,
      "outputs": []
    },
    {
      "cell_type": "code",
      "metadata": {
        "colab": {
          "base_uri": "https://localhost:8080/",
          "height": 240
        },
        "id": "YmT8dZiSVb4W",
        "outputId": "ccd765e3-c522-47a5-ad56-b1a8b471a1f2"
      },
      "source": [
        "# X = pd.read_csv('http://archive.ics.uci.edu/ml/machine-learning-databases/auto-mpg/auto-mpg.data-original',\n",
        "#                    delim_whitespace=True, header=None,\n",
        "#                    names = ['mpg', 'cylinders', 'displacement',\n",
        "#                             'horsepower', 'weight', 'acceleration',\n",
        "#                             'model year', 'origin', 'car name'])\n",
        "# X.dropna(inplace=True)\n",
        "# X.drop(['model year', 'origin', 'car name'], axis=1, inplace=True)\n",
        "\n",
        "X = df\n",
        "print(X.shape)\n",
        "X.head()"
      ],
      "execution_count": null,
      "outputs": [
        {
          "output_type": "stream",
          "name": "stdout",
          "text": [
            "(1000, 22)\n"
          ]
        },
        {
          "output_type": "execute_result",
          "data": {
            "text/html": [
              "<div>\n",
              "<style scoped>\n",
              "    .dataframe tbody tr th:only-of-type {\n",
              "        vertical-align: middle;\n",
              "    }\n",
              "\n",
              "    .dataframe tbody tr th {\n",
              "        vertical-align: top;\n",
              "    }\n",
              "\n",
              "    .dataframe thead th {\n",
              "        text-align: right;\n",
              "    }\n",
              "</style>\n",
              "<table border=\"1\" class=\"dataframe\">\n",
              "  <thead>\n",
              "    <tr style=\"text-align: right;\">\n",
              "      <th></th>\n",
              "      <th>PMB</th>\n",
              "      <th>INT</th>\n",
              "      <th>DISC</th>\n",
              "      <th>KINK</th>\n",
              "      <th>MVS</th>\n",
              "      <th>FIO2</th>\n",
              "      <th>APL</th>\n",
              "      <th>ANES</th>\n",
              "      <th>SHNT</th>\n",
              "      <th>PAP</th>\n",
              "      <th>TPR</th>\n",
              "      <th>VMCH</th>\n",
              "      <th>VTUB</th>\n",
              "      <th>PRSS</th>\n",
              "      <th>VLNG</th>\n",
              "      <th>VALV</th>\n",
              "      <th>MINV</th>\n",
              "      <th>ACO2</th>\n",
              "      <th>PVS</th>\n",
              "      <th>SAO2</th>\n",
              "      <th>ECO2</th>\n",
              "      <th>CCHL</th>\n",
              "    </tr>\n",
              "  </thead>\n",
              "  <tbody>\n",
              "    <tr>\n",
              "      <th>0</th>\n",
              "      <td>9.015258</td>\n",
              "      <td>2.393196</td>\n",
              "      <td>-1.134601</td>\n",
              "      <td>-1.881843</td>\n",
              "      <td>-0.180523</td>\n",
              "      <td>-0.885157</td>\n",
              "      <td>-1.201275</td>\n",
              "      <td>-0.842026</td>\n",
              "      <td>4.720395</td>\n",
              "      <td>35.448460</td>\n",
              "      <td>-2.712142</td>\n",
              "      <td>1.766710</td>\n",
              "      <td>-7.396188</td>\n",
              "      <td>-17.351660</td>\n",
              "      <td>-17.586587</td>\n",
              "      <td>-92.885169</td>\n",
              "      <td>-11.350115</td>\n",
              "      <td>6847.946052</td>\n",
              "      <td>191.801093</td>\n",
              "      <td>99.621940</td>\n",
              "      <td>54677.810463</td>\n",
              "      <td>55171.262394</td>\n",
              "    </tr>\n",
              "    <tr>\n",
              "      <th>1</th>\n",
              "      <td>9.725567</td>\n",
              "      <td>2.298064</td>\n",
              "      <td>-0.624368</td>\n",
              "      <td>-1.617671</td>\n",
              "      <td>-0.013453</td>\n",
              "      <td>-0.925555</td>\n",
              "      <td>-0.941004</td>\n",
              "      <td>-0.652237</td>\n",
              "      <td>3.912842</td>\n",
              "      <td>38.559544</td>\n",
              "      <td>-1.804929</td>\n",
              "      <td>0.951898</td>\n",
              "      <td>-4.411388</td>\n",
              "      <td>-14.900596</td>\n",
              "      <td>-15.074488</td>\n",
              "      <td>-78.430320</td>\n",
              "      <td>-8.274874</td>\n",
              "      <td>4100.957409</td>\n",
              "      <td>163.031503</td>\n",
              "      <td>84.791359</td>\n",
              "      <td>32717.364858</td>\n",
              "      <td>33139.350355</td>\n",
              "    </tr>\n",
              "    <tr>\n",
              "      <th>2</th>\n",
              "      <td>9.631839</td>\n",
              "      <td>2.157401</td>\n",
              "      <td>-0.882806</td>\n",
              "      <td>-1.729947</td>\n",
              "      <td>0.063028</td>\n",
              "      <td>-0.875867</td>\n",
              "      <td>-2.100459</td>\n",
              "      <td>-0.706984</td>\n",
              "      <td>3.447750</td>\n",
              "      <td>38.160559</td>\n",
              "      <td>-4.087862</td>\n",
              "      <td>0.202503</td>\n",
              "      <td>-2.354724</td>\n",
              "      <td>-13.994433</td>\n",
              "      <td>-14.553311</td>\n",
              "      <td>-76.142971</td>\n",
              "      <td>-8.893873</td>\n",
              "      <td>4306.279660</td>\n",
              "      <td>158.187735</td>\n",
              "      <td>81.973426</td>\n",
              "      <td>34362.883335</td>\n",
              "      <td>34763.988704</td>\n",
              "    </tr>\n",
              "    <tr>\n",
              "      <th>3</th>\n",
              "      <td>9.962971</td>\n",
              "      <td>2.161428</td>\n",
              "      <td>-1.465565</td>\n",
              "      <td>-1.569508</td>\n",
              "      <td>0.167436</td>\n",
              "      <td>-1.031459</td>\n",
              "      <td>-2.421381</td>\n",
              "      <td>-0.916518</td>\n",
              "      <td>2.841994</td>\n",
              "      <td>40.035216</td>\n",
              "      <td>-4.352110</td>\n",
              "      <td>-0.159092</td>\n",
              "      <td>-1.300472</td>\n",
              "      <td>-13.420859</td>\n",
              "      <td>-13.018174</td>\n",
              "      <td>-66.454821</td>\n",
              "      <td>-7.347925</td>\n",
              "      <td>3041.320927</td>\n",
              "      <td>136.087653</td>\n",
              "      <td>70.411764</td>\n",
              "      <td>24251.700434</td>\n",
              "      <td>24596.573790</td>\n",
              "    </tr>\n",
              "    <tr>\n",
              "      <th>4</th>\n",
              "      <td>9.355180</td>\n",
              "      <td>2.514578</td>\n",
              "      <td>-0.631080</td>\n",
              "      <td>-2.135985</td>\n",
              "      <td>-0.009864</td>\n",
              "      <td>-1.023517</td>\n",
              "      <td>-0.780608</td>\n",
              "      <td>-1.265153</td>\n",
              "      <td>5.874272</td>\n",
              "      <td>36.506449</td>\n",
              "      <td>-1.122500</td>\n",
              "      <td>-0.555265</td>\n",
              "      <td>1.360993</td>\n",
              "      <td>-15.497971</td>\n",
              "      <td>-15.533768</td>\n",
              "      <td>-79.857319</td>\n",
              "      <td>-8.758725</td>\n",
              "      <td>4444.103055</td>\n",
              "      <td>164.415901</td>\n",
              "      <td>86.422438</td>\n",
              "      <td>35459.880966</td>\n",
              "      <td>35891.395852</td>\n",
              "    </tr>\n",
              "  </tbody>\n",
              "</table>\n",
              "</div>"
            ],
            "text/plain": [
              "        PMB       INT      DISC  ...       SAO2          ECO2          CCHL\n",
              "0  9.015258  2.393196 -1.134601  ...  99.621940  54677.810463  55171.262394\n",
              "1  9.725567  2.298064 -0.624368  ...  84.791359  32717.364858  33139.350355\n",
              "2  9.631839  2.157401 -0.882806  ...  81.973426  34362.883335  34763.988704\n",
              "3  9.962971  2.161428 -1.465565  ...  70.411764  24251.700434  24596.573790\n",
              "4  9.355180  2.514578 -0.631080  ...  86.422438  35459.880966  35891.395852\n",
              "\n",
              "[5 rows x 22 columns]"
            ]
          },
          "metadata": {},
          "execution_count": 49
        }
      ]
    },
    {
      "cell_type": "code",
      "metadata": {
        "colab": {
          "base_uri": "https://localhost:8080/",
          "height": 892
        },
        "id": "0lqKna9OVb58",
        "outputId": "d4ff4b51-7490-43d9-ef62-a30da6507798"
      },
      "source": [
        "model = lingam.DirectLiNGAM()\n",
        "model.fit(X)\n",
        "labels = [f'{i}. {col}' for i, col in enumerate(X.columns)]\n",
        "make_graph(model.adjacency_matrix_, labels)"
      ],
      "execution_count": null,
      "outputs": [
        {
          "output_type": "execute_result",
          "data": {
            "text/plain": [
              "<graphviz.dot.Digraph at 0x7f6a90bf5b10>"
            ],
            "image/svg+xml": "<?xml version=\"1.0\" encoding=\"UTF-8\" standalone=\"no\"?>\n<!DOCTYPE svg PUBLIC \"-//W3C//DTD SVG 1.1//EN\"\n \"http://www.w3.org/Graphics/SVG/1.1/DTD/svg11.dtd\">\n<!-- Generated by graphviz version 2.40.1 (20161225.0304)\n -->\n<!-- Title: %3 Pages: 1 -->\n<svg width=\"888pt\" height=\"653pt\"\n viewBox=\"0.00 0.00 888.40 653.00\" xmlns=\"http://www.w3.org/2000/svg\" xmlns:xlink=\"http://www.w3.org/1999/xlink\">\n<g id=\"graph0\" class=\"graph\" transform=\"scale(1 1) rotate(0) translate(4 649)\">\n<title>%3</title>\n<polygon fill=\"#ffffff\" stroke=\"transparent\" points=\"-4,4 -4,-649 884.3968,-649 884.3968,4 -4,4\"/>\n<!-- 8. SHNT -->\n<g id=\"node1\" class=\"node\">\n<title>8. SHNT</title>\n<ellipse fill=\"none\" stroke=\"#000000\" cx=\"655.3968\" cy=\"-627\" rx=\"45.4919\" ry=\"18\"/>\n<text text-anchor=\"middle\" x=\"655.3968\" y=\"-623.3\" font-family=\"Times,serif\" font-size=\"14.00\" fill=\"#000000\">8. SHNT</text>\n</g>\n<!-- 0. PMB -->\n<g id=\"node2\" class=\"node\">\n<title>0. PMB</title>\n<ellipse fill=\"none\" stroke=\"#000000\" cx=\"345.3968\" cy=\"-540\" rx=\"40.0939\" ry=\"18\"/>\n<text text-anchor=\"middle\" x=\"345.3968\" y=\"-536.3\" font-family=\"Times,serif\" font-size=\"14.00\" fill=\"#000000\">0. PMB</text>\n</g>\n<!-- 8. SHNT&#45;&gt;0. PMB -->\n<g id=\"edge1\" class=\"edge\">\n<title>8. SHNT&#45;&gt;0. PMB</title>\n<path fill=\"none\" stroke=\"#000000\" d=\"M618.0035,-616.5058C560.4944,-600.3661 450.5861,-569.5209 389.3537,-552.3363\"/>\n<polygon fill=\"#000000\" stroke=\"#000000\" points=\"390.171,-548.9305 379.5972,-549.5982 388.2795,-555.6701 390.171,-548.9305\"/>\n<text text-anchor=\"middle\" x=\"533.8968\" y=\"-579.8\" font-family=\"Times,serif\" font-size=\"14.00\" fill=\"#000000\">&#45;0.02</text>\n</g>\n<!-- 1. INT -->\n<g id=\"node3\" class=\"node\">\n<title>1. INT</title>\n<ellipse fill=\"none\" stroke=\"#000000\" cx=\"36.3968\" cy=\"-453\" rx=\"36.2938\" ry=\"18\"/>\n<text text-anchor=\"middle\" x=\"36.3968\" y=\"-449.3\" font-family=\"Times,serif\" font-size=\"14.00\" fill=\"#000000\">1. INT</text>\n</g>\n<!-- 8. SHNT&#45;&gt;1. INT -->\n<g id=\"edge3\" class=\"edge\">\n<title>8. SHNT&#45;&gt;1. INT</title>\n<path fill=\"none\" stroke=\"#000000\" d=\"M611.1448,-622.6779C538.5134,-614.7927 390.0327,-595.3354 269.3968,-558 195.3991,-535.0986 113.967,-494.6005 69.6546,-471.157\"/>\n<polygon fill=\"#000000\" stroke=\"#000000\" points=\"71.2493,-468.0409 60.7782,-466.4257 67.9566,-474.2181 71.2493,-468.0409\"/>\n<text text-anchor=\"middle\" x=\"282.8968\" y=\"-536.3\" font-family=\"Times,serif\" font-size=\"14.00\" fill=\"#000000\">0.16</text>\n</g>\n<!-- 15. VALV -->\n<g id=\"node6\" class=\"node\">\n<title>15. VALV</title>\n<ellipse fill=\"none\" stroke=\"#000000\" cx=\"375.3968\" cy=\"-366\" rx=\"50.0912\" ry=\"18\"/>\n<text text-anchor=\"middle\" x=\"375.3968\" y=\"-362.3\" font-family=\"Times,serif\" font-size=\"14.00\" fill=\"#000000\">15. VALV</text>\n</g>\n<!-- 8. SHNT&#45;&gt;15. VALV -->\n<g id=\"edge23\" class=\"edge\">\n<title>8. SHNT&#45;&gt;15. VALV</title>\n<path fill=\"none\" stroke=\"#000000\" d=\"M680.9345,-611.8325C698.6523,-599.7321 720.8863,-581.0201 731.3968,-558 754.1047,-508.2649 763.704,-480.505 733.3968,-435 700.9726,-386.3164 528.7677,-371.9634 435.5144,-367.7455\"/>\n<polygon fill=\"#000000\" stroke=\"#000000\" points=\"435.5115,-364.2423 425.3713,-367.3126 435.2129,-371.236 435.5115,-364.2423\"/>\n<text text-anchor=\"middle\" x=\"765.8968\" y=\"-492.8\" font-family=\"Times,serif\" font-size=\"14.00\" fill=\"#000000\">0.56</text>\n</g>\n<!-- 19. SAO2 -->\n<g id=\"node14\" class=\"node\">\n<title>19. SAO2</title>\n<ellipse fill=\"none\" stroke=\"#000000\" cx=\"642.3968\" cy=\"-192\" rx=\"49.2915\" ry=\"18\"/>\n<text text-anchor=\"middle\" x=\"642.3968\" y=\"-188.3\" font-family=\"Times,serif\" font-size=\"14.00\" fill=\"#000000\">19. SAO2</text>\n</g>\n<!-- 8. SHNT&#45;&gt;19. SAO2 -->\n<g id=\"edge33\" class=\"edge\">\n<title>8. SHNT&#45;&gt;19. SAO2</title>\n<path fill=\"none\" stroke=\"#000000\" d=\"M694.9891,-618.0761C752.7706,-603.8882 853.3968,-574.2616 853.3968,-540 853.3968,-540 853.3968,-540 853.3968,-279 853.3968,-244.9847 758.4889,-217.463 695.9772,-203.0248\"/>\n<polygon fill=\"#000000\" stroke=\"#000000\" points=\"696.3861,-199.5289 685.8603,-200.7362 694.8416,-206.3564 696.3861,-199.5289\"/>\n<text text-anchor=\"middle\" x=\"866.8968\" y=\"-405.8\" font-family=\"Times,serif\" font-size=\"14.00\" fill=\"#000000\">0.78</text>\n</g>\n<!-- 0. PMB&#45;&gt;1. INT -->\n<g id=\"edge2\" class=\"edge\">\n<title>0. PMB&#45;&gt;1. INT</title>\n<path fill=\"none\" stroke=\"#000000\" d=\"M317.9024,-526.602C304.42,-519.9434 287.9831,-511.6937 273.3968,-504 261.2548,-497.5956 259.4788,-493.16 246.3968,-489 176.0971,-466.6453 152.9697,-488.8632 81.3968,-471 78.7333,-470.3352 76.0178,-469.5476 73.3069,-468.6791\"/>\n<polygon fill=\"#000000\" stroke=\"#000000\" points=\"74.2054,-465.2847 63.6106,-465.2558 71.8749,-471.8854 74.2054,-465.2847\"/>\n<text text-anchor=\"middle\" x=\"286.8968\" y=\"-492.8\" font-family=\"Times,serif\" font-size=\"14.00\" fill=\"#000000\">0.15</text>\n</g>\n<!-- 0. PMB&#45;&gt;15. VALV -->\n<g id=\"edge19\" class=\"edge\">\n<title>0. PMB&#45;&gt;15. VALV</title>\n<path fill=\"none\" stroke=\"#000000\" d=\"M336.0404,-522.2042C326.1956,-501.048 313.4086,-464.8495 323.3968,-435 328.9413,-418.4303 340.2062,-402.6538 350.8379,-390.3793\"/>\n<polygon fill=\"#000000\" stroke=\"#000000\" points=\"353.5438,-392.6056 357.6664,-382.8457 348.3573,-387.9044 353.5438,-392.6056\"/>\n<text text-anchor=\"middle\" x=\"338.8968\" y=\"-449.3\" font-family=\"Times,serif\" font-size=\"14.00\" fill=\"#000000\">&#45;0.11</text>\n</g>\n<!-- 9. PAP -->\n<g id=\"node9\" class=\"node\">\n<title>9. PAP</title>\n<ellipse fill=\"none\" stroke=\"#000000\" cx=\"400.3968\" cy=\"-453\" rx=\"37.0935\" ry=\"18\"/>\n<text text-anchor=\"middle\" x=\"400.3968\" y=\"-449.3\" font-family=\"Times,serif\" font-size=\"14.00\" fill=\"#000000\">9. PAP</text>\n</g>\n<!-- 0. PMB&#45;&gt;9. PAP -->\n<g id=\"edge9\" class=\"edge\">\n<title>0. PMB&#45;&gt;9. PAP</title>\n<path fill=\"none\" stroke=\"#000000\" d=\"M356.5268,-522.3943C364.406,-509.9309 375.1039,-493.0087 383.963,-478.9953\"/>\n<polygon fill=\"#000000\" stroke=\"#000000\" points=\"387.0857,-480.6055 389.471,-470.2827 381.1689,-476.865 387.0857,-480.6055\"/>\n<text text-anchor=\"middle\" x=\"389.8968\" y=\"-492.8\" font-family=\"Times,serif\" font-size=\"14.00\" fill=\"#000000\">4.04</text>\n</g>\n<!-- 3. KINK -->\n<g id=\"node4\" class=\"node\">\n<title>3. KINK</title>\n<ellipse fill=\"none\" stroke=\"#000000\" cx=\"266.3968\" cy=\"-192\" rx=\"44.393\" ry=\"18\"/>\n<text text-anchor=\"middle\" x=\"266.3968\" y=\"-188.3\" font-family=\"Times,serif\" font-size=\"14.00\" fill=\"#000000\">3. KINK</text>\n</g>\n<!-- 1. INT&#45;&gt;3. KINK -->\n<g id=\"edge4\" class=\"edge\">\n<title>1. INT&#45;&gt;3. KINK</title>\n<path fill=\"none\" stroke=\"#000000\" d=\"M28.6048,-435.1754C13.8666,-398.4155 -13.2336,-313.2621 26.3968,-261 77.1544,-194.0638 127.8297,-233.7851 208.3968,-210 212.6643,-208.7402 217.101,-207.4065 221.5352,-206.0576\"/>\n<polygon fill=\"#000000\" stroke=\"#000000\" points=\"222.637,-209.3807 231.1717,-203.1031 220.585,-202.6882 222.637,-209.3807\"/>\n<text text-anchor=\"middle\" x=\"20.8968\" y=\"-318.8\" font-family=\"Times,serif\" font-size=\"14.00\" fill=\"#000000\">0.48</text>\n</g>\n<!-- 12. VTUB -->\n<g id=\"node5\" class=\"node\">\n<title>12. VTUB</title>\n<ellipse fill=\"none\" stroke=\"#000000\" cx=\"375.3968\" cy=\"-279\" rx=\"51.1914\" ry=\"18\"/>\n<text text-anchor=\"middle\" x=\"375.3968\" y=\"-275.3\" font-family=\"Times,serif\" font-size=\"14.00\" fill=\"#000000\">12. VTUB</text>\n</g>\n<!-- 1. INT&#45;&gt;12. VTUB -->\n<g id=\"edge12\" class=\"edge\">\n<title>1. INT&#45;&gt;12. VTUB</title>\n<path fill=\"none\" stroke=\"#000000\" d=\"M48.0353,-435.6756C57.162,-421.8744 70.0131,-401.9569 80.3968,-384 97.7119,-354.0562 87.6389,-334.2206 116.3968,-315 154.0493,-289.8346 275.0089,-305.9849 319.3968,-297 322.7514,-296.321 326.1875,-295.5112 329.6262,-294.6166\"/>\n<polygon fill=\"#000000\" stroke=\"#000000\" points=\"330.5792,-297.9845 339.2588,-291.9088 328.6848,-291.2457 330.5792,-297.9845\"/>\n<text text-anchor=\"middle\" x=\"106.8968\" y=\"-362.3\" font-family=\"Times,serif\" font-size=\"14.00\" fill=\"#000000\">1.76</text>\n</g>\n<!-- 1. INT&#45;&gt;15. VALV -->\n<g id=\"edge20\" class=\"edge\">\n<title>1. INT&#45;&gt;15. VALV</title>\n<path fill=\"none\" stroke=\"#000000\" d=\"M64.9458,-441.5296C70.4032,-439.3513 76.0735,-437.0979 81.3968,-435 119.0994,-420.1412 127.3449,-412.8268 166.3968,-402 216.5473,-388.0962 275.0319,-378.5713 317.3593,-372.8284\"/>\n<polygon fill=\"#000000\" stroke=\"#000000\" points=\"318.0333,-376.2697 327.486,-371.4846 317.1125,-369.3305 318.0333,-376.2697\"/>\n<text text-anchor=\"middle\" x=\"179.8968\" y=\"-405.8\" font-family=\"Times,serif\" font-size=\"14.00\" fill=\"#000000\">0.65</text>\n</g>\n<!-- 16. MINV -->\n<g id=\"node20\" class=\"node\">\n<title>16. MINV</title>\n<ellipse fill=\"none\" stroke=\"#000000\" cx=\"85.3968\" cy=\"-279\" rx=\"50.0912\" ry=\"18\"/>\n<text text-anchor=\"middle\" x=\"85.3968\" y=\"-275.3\" font-family=\"Times,serif\" font-size=\"14.00\" fill=\"#000000\">16. MINV</text>\n</g>\n<!-- 1. INT&#45;&gt;16. MINV -->\n<g id=\"edge28\" class=\"edge\">\n<title>1. INT&#45;&gt;16. MINV</title>\n<path fill=\"none\" stroke=\"#000000\" d=\"M37.8196,-434.8233C39.8258,-413.6124 44.3064,-377.6621 53.3968,-348 57.8058,-333.6133 64.6302,-318.3628 70.8459,-305.8681\"/>\n<polygon fill=\"#000000\" stroke=\"#000000\" points=\"73.9901,-307.4069 75.4305,-296.9104 67.7588,-304.2177 73.9901,-307.4069\"/>\n<text text-anchor=\"middle\" x=\"66.8968\" y=\"-362.3\" font-family=\"Times,serif\" font-size=\"14.00\" fill=\"#000000\">1.39</text>\n</g>\n<!-- 12. VTUB&#45;&gt;3. KINK -->\n<g id=\"edge5\" class=\"edge\">\n<title>12. VTUB&#45;&gt;3. KINK</title>\n<path fill=\"none\" stroke=\"#000000\" d=\"M354.6381,-262.4312C337.6355,-248.8602 313.4094,-229.5238 294.6414,-214.5439\"/>\n<polygon fill=\"#000000\" stroke=\"#000000\" points=\"296.7082,-211.7154 286.7091,-208.2126 292.3415,-217.1864 296.7082,-211.7154\"/>\n<text text-anchor=\"middle\" x=\"343.8968\" y=\"-231.8\" font-family=\"Times,serif\" font-size=\"14.00\" fill=\"#000000\">&#45;0.09</text>\n</g>\n<!-- 4. MVS -->\n<g id=\"node8\" class=\"node\">\n<title>4. MVS</title>\n<ellipse fill=\"none\" stroke=\"#000000\" cx=\"493.3968\" cy=\"-192\" rx=\"40.8928\" ry=\"18\"/>\n<text text-anchor=\"middle\" x=\"493.3968\" y=\"-188.3\" font-family=\"Times,serif\" font-size=\"14.00\" fill=\"#000000\">4. MVS</text>\n</g>\n<!-- 12. VTUB&#45;&gt;4. MVS -->\n<g id=\"edge8\" class=\"edge\">\n<title>12. VTUB&#45;&gt;4. MVS</title>\n<path fill=\"none\" stroke=\"#000000\" d=\"M397.5917,-262.636C416.3682,-248.7922 443.4253,-228.8434 463.9998,-213.674\"/>\n<polygon fill=\"#000000\" stroke=\"#000000\" points=\"466.1244,-216.4561 472.0962,-207.7047 461.9703,-210.8219 466.1244,-216.4561\"/>\n<text text-anchor=\"middle\" x=\"455.8968\" y=\"-231.8\" font-family=\"Times,serif\" font-size=\"14.00\" fill=\"#000000\">0.04</text>\n</g>\n<!-- 11. VMCH -->\n<g id=\"node12\" class=\"node\">\n<title>11. VMCH</title>\n<ellipse fill=\"none\" stroke=\"#000000\" cx=\"381.3968\" cy=\"-192\" rx=\"53.0913\" ry=\"18\"/>\n<text text-anchor=\"middle\" x=\"381.3968\" y=\"-188.3\" font-family=\"Times,serif\" font-size=\"14.00\" fill=\"#000000\">11. VMCH</text>\n</g>\n<!-- 12. VTUB&#45;&gt;11. VMCH -->\n<g id=\"edge11\" class=\"edge\">\n<title>12. VTUB&#45;&gt;11. VMCH</title>\n<path fill=\"none\" stroke=\"#000000\" d=\"M376.64,-260.9735C377.4525,-249.1918 378.5305,-233.5607 379.4548,-220.1581\"/>\n<polygon fill=\"#000000\" stroke=\"#000000\" points=\"382.9588,-220.2205 380.1552,-210.0034 375.9753,-219.7388 382.9588,-220.2205\"/>\n<text text-anchor=\"middle\" x=\"394.8968\" y=\"-231.8\" font-family=\"Times,serif\" font-size=\"14.00\" fill=\"#000000\">&#45;0.26</text>\n</g>\n<!-- 15. VALV&#45;&gt;3. KINK -->\n<g id=\"edge6\" class=\"edge\">\n<title>15. VALV&#45;&gt;3. KINK</title>\n<path fill=\"none\" stroke=\"#000000\" d=\"M347.5644,-350.9922C327.9788,-338.9712 302.7845,-320.2886 288.3968,-297 274.0114,-273.7152 268.8921,-242.5638 267.141,-220.2499\"/>\n<polygon fill=\"#000000\" stroke=\"#000000\" points=\"270.6233,-219.8494 266.5261,-210.0789 263.636,-220.2719 270.6233,-219.8494\"/>\n<text text-anchor=\"middle\" x=\"301.8968\" y=\"-275.3\" font-family=\"Times,serif\" font-size=\"14.00\" fill=\"#000000\">0.03</text>\n</g>\n<!-- 15. VALV&#45;&gt;12. VTUB -->\n<g id=\"edge13\" class=\"edge\">\n<title>15. VALV&#45;&gt;12. VTUB</title>\n<path fill=\"none\" stroke=\"#000000\" d=\"M375.3968,-347.9735C375.3968,-336.1918 375.3968,-320.5607 375.3968,-307.1581\"/>\n<polygon fill=\"#000000\" stroke=\"#000000\" points=\"378.8969,-307.0033 375.3968,-297.0034 371.8969,-307.0034 378.8969,-307.0033\"/>\n<text text-anchor=\"middle\" x=\"388.8968\" y=\"-318.8\" font-family=\"Times,serif\" font-size=\"14.00\" fill=\"#000000\">0.20</text>\n</g>\n<!-- 13. PRSS -->\n<g id=\"node13\" class=\"node\">\n<title>13. PRSS</title>\n<ellipse fill=\"none\" stroke=\"#000000\" cx=\"560.3968\" cy=\"-105\" rx=\"48.1917\" ry=\"18\"/>\n<text text-anchor=\"middle\" x=\"560.3968\" y=\"-101.3\" font-family=\"Times,serif\" font-size=\"14.00\" fill=\"#000000\">13. PRSS</text>\n</g>\n<!-- 15. VALV&#45;&gt;13. PRSS -->\n<g id=\"edge14\" class=\"edge\">\n<title>15. VALV&#45;&gt;13. PRSS</title>\n<path fill=\"none\" stroke=\"#000000\" d=\"M422.7523,-360.048C461.789,-352.4563 515.1662,-335.3392 543.3968,-297 579.0966,-248.517 573.0126,-173.3442 566.2436,-132.9462\"/>\n<polygon fill=\"#000000\" stroke=\"#000000\" points=\"569.6672,-132.2097 564.4419,-122.9931 562.7792,-133.4566 569.6672,-132.2097\"/>\n<text text-anchor=\"middle\" x=\"581.8968\" y=\"-231.8\" font-family=\"Times,serif\" font-size=\"14.00\" fill=\"#000000\">0.02</text>\n</g>\n<!-- 14. VLNG -->\n<g id=\"node15\" class=\"node\">\n<title>14. VLNG</title>\n<ellipse fill=\"none\" stroke=\"#000000\" cx=\"560.3968\" cy=\"-18\" rx=\"51.9908\" ry=\"18\"/>\n<text text-anchor=\"middle\" x=\"560.3968\" y=\"-14.3\" font-family=\"Times,serif\" font-size=\"14.00\" fill=\"#000000\">14. VLNG</text>\n</g>\n<!-- 15. VALV&#45;&gt;14. VLNG -->\n<g id=\"edge17\" class=\"edge\">\n<title>15. VALV&#45;&gt;14. VLNG</title>\n<path fill=\"none\" stroke=\"#000000\" d=\"M332.9208,-356.3639C274.7419,-341.9129 177.3968,-312.6984 177.3968,-279 177.3968,-279 177.3968,-279 177.3968,-105 177.3968,-72.2196 393.501,-39.5969 501.0519,-25.391\"/>\n<polygon fill=\"#000000\" stroke=\"#000000\" points=\"501.6492,-28.8428 511.1103,-24.0743 500.7406,-21.902 501.6492,-28.8428\"/>\n<text text-anchor=\"middle\" x=\"190.8968\" y=\"-188.3\" font-family=\"Times,serif\" font-size=\"14.00\" fill=\"#000000\">0.01</text>\n</g>\n<!-- 15. VALV&#45;&gt;16. MINV -->\n<g id=\"edge29\" class=\"edge\">\n<title>15. VALV&#45;&gt;16. MINV</title>\n<path fill=\"none\" stroke=\"#000000\" d=\"M326.2761,-362.2363C266.272,-357.0152 168.7524,-346.332 136.3968,-330 124.3451,-323.9168 113.399,-313.9119 104.7647,-304.3675\"/>\n<polygon fill=\"#000000\" stroke=\"#000000\" points=\"107.2419,-301.8791 98.0821,-296.5547 101.9224,-306.4291 107.2419,-301.8791\"/>\n<text text-anchor=\"middle\" x=\"149.8968\" y=\"-318.8\" font-family=\"Times,serif\" font-size=\"14.00\" fill=\"#000000\">0.07</text>\n</g>\n<!-- 18. PVS -->\n<g id=\"node22\" class=\"node\">\n<title>18. PVS</title>\n<ellipse fill=\"none\" stroke=\"#000000\" cx=\"636.3968\" cy=\"-279\" rx=\"42.7926\" ry=\"18\"/>\n<text text-anchor=\"middle\" x=\"636.3968\" y=\"-275.3\" font-family=\"Times,serif\" font-size=\"14.00\" fill=\"#000000\">18. PVS</text>\n</g>\n<!-- 15. VALV&#45;&gt;18. PVS -->\n<g id=\"edge32\" class=\"edge\">\n<title>15. VALV&#45;&gt;18. PVS</title>\n<path fill=\"none\" stroke=\"#000000\" d=\"M423.0484,-360.3771C473.6323,-353.8966 549.8659,-342.5181 576.3968,-330 590.1904,-323.4917 603.3566,-312.9703 613.8226,-303.1696\"/>\n<polygon fill=\"#000000\" stroke=\"#000000\" points=\"616.5612,-305.387 621.2654,-295.8938 611.6679,-300.3815 616.5612,-305.387\"/>\n<text text-anchor=\"middle\" x=\"614.8968\" y=\"-318.8\" font-family=\"Times,serif\" font-size=\"14.00\" fill=\"#000000\">&#45;2.08</text>\n</g>\n<!-- 2. DISC -->\n<g id=\"node7\" class=\"node\">\n<title>2. DISC</title>\n<ellipse fill=\"none\" stroke=\"#000000\" cx=\"492.3968\" cy=\"-279\" rx=\"42.4939\" ry=\"18\"/>\n<text text-anchor=\"middle\" x=\"492.3968\" y=\"-275.3\" font-family=\"Times,serif\" font-size=\"14.00\" fill=\"#000000\">2. DISC</text>\n</g>\n<!-- 2. DISC&#45;&gt;4. MVS -->\n<g id=\"edge7\" class=\"edge\">\n<title>2. DISC&#45;&gt;4. MVS</title>\n<path fill=\"none\" stroke=\"#000000\" d=\"M492.604,-260.9735C492.7394,-249.1918 492.9191,-233.5607 493.0731,-220.1581\"/>\n<polygon fill=\"#000000\" stroke=\"#000000\" points=\"496.5746,-220.043 493.1898,-210.0034 489.575,-219.9624 496.5746,-220.043\"/>\n<text text-anchor=\"middle\" x=\"508.8968\" y=\"-231.8\" font-family=\"Times,serif\" font-size=\"14.00\" fill=\"#000000\">&#45;0.04</text>\n</g>\n<!-- 9. PAP&#45;&gt;15. VALV -->\n<g id=\"edge24\" class=\"edge\">\n<title>9. PAP&#45;&gt;15. VALV</title>\n<path fill=\"none\" stroke=\"#000000\" d=\"M395.2168,-434.9735C391.7977,-423.0751 387.2504,-407.2508 383.374,-393.7606\"/>\n<polygon fill=\"#000000\" stroke=\"#000000\" points=\"386.6959,-392.6478 380.5702,-384.0034 379.9681,-394.5811 386.6959,-392.6478\"/>\n<text text-anchor=\"middle\" x=\"402.8968\" y=\"-405.8\" font-family=\"Times,serif\" font-size=\"14.00\" fill=\"#000000\">0.02</text>\n</g>\n<!-- 6. APL -->\n<g id=\"node10\" class=\"node\">\n<title>6. APL</title>\n<ellipse fill=\"none\" stroke=\"#000000\" cx=\"498.3968\" cy=\"-540\" rx=\"38.1938\" ry=\"18\"/>\n<text text-anchor=\"middle\" x=\"498.3968\" y=\"-536.3\" font-family=\"Times,serif\" font-size=\"14.00\" fill=\"#000000\">6. APL</text>\n</g>\n<!-- 10. TPR -->\n<g id=\"node11\" class=\"node\">\n<title>10. TPR</title>\n<ellipse fill=\"none\" stroke=\"#000000\" cx=\"498.3968\" cy=\"-453\" rx=\"42.7926\" ry=\"18\"/>\n<text text-anchor=\"middle\" x=\"498.3968\" y=\"-449.3\" font-family=\"Times,serif\" font-size=\"14.00\" fill=\"#000000\">10. TPR</text>\n</g>\n<!-- 6. APL&#45;&gt;10. TPR -->\n<g id=\"edge10\" class=\"edge\">\n<title>6. APL&#45;&gt;10. TPR</title>\n<path fill=\"none\" stroke=\"#000000\" d=\"M498.3968,-521.9735C498.3968,-510.1918 498.3968,-494.5607 498.3968,-481.1581\"/>\n<polygon fill=\"#000000\" stroke=\"#000000\" points=\"501.8969,-481.0033 498.3968,-471.0034 494.8969,-481.0034 501.8969,-481.0033\"/>\n<text text-anchor=\"middle\" x=\"511.8968\" y=\"-492.8\" font-family=\"Times,serif\" font-size=\"14.00\" fill=\"#000000\">1.92</text>\n</g>\n<!-- 10. TPR&#45;&gt;15. VALV -->\n<g id=\"edge25\" class=\"edge\">\n<title>10. TPR&#45;&gt;15. VALV</title>\n<path fill=\"none\" stroke=\"#000000\" d=\"M476.4068,-437.4461C457.0081,-423.7251 428.5144,-403.571 406.7315,-388.1636\"/>\n<polygon fill=\"#000000\" stroke=\"#000000\" points=\"408.634,-385.2222 398.4487,-382.305 404.5917,-390.9372 408.634,-385.2222\"/>\n<text text-anchor=\"middle\" x=\"457.8968\" y=\"-405.8\" font-family=\"Times,serif\" font-size=\"14.00\" fill=\"#000000\">0.53</text>\n</g>\n<!-- 13. PRSS&#45;&gt;14. VLNG -->\n<g id=\"edge16\" class=\"edge\">\n<title>13. PRSS&#45;&gt;14. VLNG</title>\n<path fill=\"none\" stroke=\"#000000\" d=\"M560.3968,-86.9735C560.3968,-75.1918 560.3968,-59.5607 560.3968,-46.1581\"/>\n<polygon fill=\"#000000\" stroke=\"#000000\" points=\"563.8969,-46.0033 560.3968,-36.0034 556.8969,-46.0034 563.8969,-46.0033\"/>\n<text text-anchor=\"middle\" x=\"573.8968\" y=\"-57.8\" font-family=\"Times,serif\" font-size=\"14.00\" fill=\"#000000\">0.06</text>\n</g>\n<!-- 19. SAO2&#45;&gt;13. PRSS -->\n<g id=\"edge15\" class=\"edge\">\n<title>19. SAO2&#45;&gt;13. PRSS</title>\n<path fill=\"none\" stroke=\"#000000\" d=\"M621.0144,-175.6661C613.8404,-169.7856 605.9929,-162.8942 599.3968,-156 592.0764,-148.3489 584.8184,-139.3531 578.5846,-131.0643\"/>\n<polygon fill=\"#000000\" stroke=\"#000000\" points=\"581.2362,-128.7616 572.4994,-122.7684 575.5918,-132.9018 581.2362,-128.7616\"/>\n<text text-anchor=\"middle\" x=\"614.8968\" y=\"-144.8\" font-family=\"Times,serif\" font-size=\"14.00\" fill=\"#000000\">&#45;0.13</text>\n</g>\n<!-- 19. SAO2&#45;&gt;14. VLNG -->\n<g id=\"edge18\" class=\"edge\">\n<title>19. SAO2&#45;&gt;14. VLNG</title>\n<path fill=\"none\" stroke=\"#000000\" d=\"M640.4874,-173.7336C637.6888,-152.1248 631.2221,-115.4913 617.3968,-87 609.4953,-70.7166 596.9831,-54.9658 585.6921,-42.6343\"/>\n<polygon fill=\"#000000\" stroke=\"#000000\" points=\"587.9279,-39.9052 578.5093,-35.0533 582.8464,-44.7197 587.9279,-39.9052\"/>\n<text text-anchor=\"middle\" x=\"644.8968\" y=\"-101.3\" font-family=\"Times,serif\" font-size=\"14.00\" fill=\"#000000\">&#45;0.13</text>\n</g>\n<!-- 5. FIO2 -->\n<g id=\"node16\" class=\"node\">\n<title>5. FIO2</title>\n<ellipse fill=\"none\" stroke=\"#000000\" cx=\"238.3968\" cy=\"-453\" rx=\"40.0939\" ry=\"18\"/>\n<text text-anchor=\"middle\" x=\"238.3968\" y=\"-449.3\" font-family=\"Times,serif\" font-size=\"14.00\" fill=\"#000000\">5. FIO2</text>\n</g>\n<!-- 5. FIO2&#45;&gt;15. VALV -->\n<g id=\"edge21\" class=\"edge\">\n<title>5. FIO2&#45;&gt;15. VALV</title>\n<path fill=\"none\" stroke=\"#000000\" d=\"M246.8879,-435.2587C252.9247,-424.3207 261.979,-410.7579 273.3968,-402 287.5964,-391.1084 305.3587,-383.337 322.0636,-377.8721\"/>\n<polygon fill=\"#000000\" stroke=\"#000000\" points=\"323.2013,-381.1843 331.742,-374.9149 321.1557,-374.4899 323.2013,-381.1843\"/>\n<text text-anchor=\"middle\" x=\"286.8968\" y=\"-405.8\" font-family=\"Times,serif\" font-size=\"14.00\" fill=\"#000000\">0.84</text>\n</g>\n<!-- 7. ANES -->\n<g id=\"node17\" class=\"node\">\n<title>7. ANES</title>\n<ellipse fill=\"none\" stroke=\"#000000\" cx=\"135.3968\" cy=\"-453\" rx=\"44.6926\" ry=\"18\"/>\n<text text-anchor=\"middle\" x=\"135.3968\" y=\"-449.3\" font-family=\"Times,serif\" font-size=\"14.00\" fill=\"#000000\">7. ANES</text>\n</g>\n<!-- 7. ANES&#45;&gt;15. VALV -->\n<g id=\"edge22\" class=\"edge\">\n<title>7. ANES&#45;&gt;15. VALV</title>\n<path fill=\"none\" stroke=\"#000000\" d=\"M159.4152,-437.5405C177.7123,-426.3389 203.8549,-411.544 228.3968,-402 257.8403,-390.5499 292.0527,-381.9141 320.0596,-375.9748\"/>\n<polygon fill=\"#000000\" stroke=\"#000000\" points=\"320.9902,-379.3567 330.0769,-373.9085 319.5759,-372.501 320.9902,-379.3567\"/>\n<text text-anchor=\"middle\" x=\"241.8968\" y=\"-405.8\" font-family=\"Times,serif\" font-size=\"14.00\" fill=\"#000000\">0.45</text>\n</g>\n<!-- 20. ECO2 -->\n<g id=\"node18\" class=\"node\">\n<title>20. ECO2</title>\n<ellipse fill=\"none\" stroke=\"#000000\" cx=\"673.3968\" cy=\"-540\" rx=\"49.2915\" ry=\"18\"/>\n<text text-anchor=\"middle\" x=\"673.3968\" y=\"-536.3\" font-family=\"Times,serif\" font-size=\"14.00\" fill=\"#000000\">20. ECO2</text>\n</g>\n<!-- 20. ECO2&#45;&gt;15. VALV -->\n<g id=\"edge26\" class=\"edge\">\n<title>20. ECO2&#45;&gt;15. VALV</title>\n<path fill=\"none\" stroke=\"#000000\" d=\"M651.3817,-523.6559C633.4461,-510.0788 607.6963,-489.9832 586.3968,-471 569.5046,-455.9449 569.0726,-447.7755 550.3968,-435 520.3393,-414.4387 509.2158,-415.509 475.3968,-402 457.9214,-395.0195 438.4992,-387.8874 421.4547,-381.8323\"/>\n<polygon fill=\"#000000\" stroke=\"#000000\" points=\"422.3214,-378.4267 411.7266,-378.4009 419.9929,-385.0281 422.3214,-378.4267\"/>\n<text text-anchor=\"middle\" x=\"599.8968\" y=\"-449.3\" font-family=\"Times,serif\" font-size=\"14.00\" fill=\"#000000\">0.18</text>\n</g>\n<!-- 21. CCHL -->\n<g id=\"node19\" class=\"node\">\n<title>21. CCHL</title>\n<ellipse fill=\"none\" stroke=\"#000000\" cx=\"673.3968\" cy=\"-453\" rx=\"50.8918\" ry=\"18\"/>\n<text text-anchor=\"middle\" x=\"673.3968\" y=\"-449.3\" font-family=\"Times,serif\" font-size=\"14.00\" fill=\"#000000\">21. CCHL</text>\n</g>\n<!-- 20. ECO2&#45;&gt;21. CCHL -->\n<g id=\"edge35\" class=\"edge\">\n<title>20. ECO2&#45;&gt;21. CCHL</title>\n<path fill=\"none\" stroke=\"#000000\" d=\"M673.3968,-521.9735C673.3968,-510.1918 673.3968,-494.5607 673.3968,-481.1581\"/>\n<polygon fill=\"#000000\" stroke=\"#000000\" points=\"676.8969,-481.0033 673.3968,-471.0034 669.8969,-481.0034 676.8969,-481.0033\"/>\n<text text-anchor=\"middle\" x=\"686.8968\" y=\"-492.8\" font-family=\"Times,serif\" font-size=\"14.00\" fill=\"#000000\">1.00</text>\n</g>\n<!-- 17. ACO2 -->\n<g id=\"node21\" class=\"node\">\n<title>17. ACO2</title>\n<ellipse fill=\"none\" stroke=\"#000000\" cx=\"765.3968\" cy=\"-366\" rx=\"50.0912\" ry=\"18\"/>\n<text text-anchor=\"middle\" x=\"765.3968\" y=\"-362.3\" font-family=\"Times,serif\" font-size=\"14.00\" fill=\"#000000\">17. ACO2</text>\n</g>\n<!-- 20. ECO2&#45;&gt;17. ACO2 -->\n<g id=\"edge30\" class=\"edge\">\n<title>20. ECO2&#45;&gt;17. ACO2</title>\n<path fill=\"none\" stroke=\"#000000\" d=\"M690.9254,-523.1167C703.9352,-509.8707 721.4228,-490.4727 733.3968,-471 746.9713,-448.9243 747.98,-441.8314 755.3968,-417 757.5731,-409.7136 759.4003,-401.6971 760.8724,-394.221\"/>\n<polygon fill=\"#000000\" stroke=\"#000000\" points=\"764.3591,-394.6111 762.7164,-384.1444 757.4734,-393.351 764.3591,-394.6111\"/>\n<text text-anchor=\"middle\" x=\"762.8968\" y=\"-449.3\" font-family=\"Times,serif\" font-size=\"14.00\" fill=\"#000000\">0.10</text>\n</g>\n<!-- 21. CCHL&#45;&gt;15. VALV -->\n<g id=\"edge27\" class=\"edge\">\n<title>21. CCHL&#45;&gt;15. VALV</title>\n<path fill=\"none\" stroke=\"#000000\" d=\"M652.0107,-436.4231C636.1428,-424.9683 613.5136,-410.3444 591.3968,-402 540.7428,-382.8888 479.604,-373.8998 435.32,-369.6854\"/>\n<polygon fill=\"#000000\" stroke=\"#000000\" points=\"435.5642,-366.1934 425.2912,-368.785 434.9381,-373.1653 435.5642,-366.1934\"/>\n<text text-anchor=\"middle\" x=\"634.8968\" y=\"-405.8\" font-family=\"Times,serif\" font-size=\"14.00\" fill=\"#000000\">&#45;0.18</text>\n</g>\n<!-- 21. CCHL&#45;&gt;17. ACO2 -->\n<g id=\"edge31\" class=\"edge\">\n<title>21. CCHL&#45;&gt;17. ACO2</title>\n<path fill=\"none\" stroke=\"#000000\" d=\"M691.573,-435.8116C705.3969,-422.739 724.5909,-404.5881 739.9425,-390.0709\"/>\n<polygon fill=\"#000000\" stroke=\"#000000\" points=\"742.7104,-392.2706 747.5713,-382.8567 737.9007,-387.1845 742.7104,-392.2706\"/>\n<text text-anchor=\"middle\" x=\"737.8968\" y=\"-405.8\" font-family=\"Times,serif\" font-size=\"14.00\" fill=\"#000000\">0.02</text>\n</g>\n<!-- 18. PVS&#45;&gt;19. SAO2 -->\n<g id=\"edge34\" class=\"edge\">\n<title>18. PVS&#45;&gt;19. SAO2</title>\n<path fill=\"none\" stroke=\"#000000\" d=\"M637.64,-260.9735C638.4525,-249.1918 639.5305,-233.5607 640.4548,-220.1581\"/>\n<polygon fill=\"#000000\" stroke=\"#000000\" points=\"643.9588,-220.2205 641.1552,-210.0034 636.9753,-219.7388 643.9588,-220.2205\"/>\n<text text-anchor=\"middle\" x=\"652.8968\" y=\"-231.8\" font-family=\"Times,serif\" font-size=\"14.00\" fill=\"#000000\">0.50</text>\n</g>\n</g>\n</svg>\n"
          },
          "metadata": {},
          "execution_count": 50
        }
      ]
    },
    {
      "cell_type": "code",
      "metadata": {
        "colab": {
          "base_uri": "https://localhost:8080/"
        },
        "id": "2JL55CJVVb-j",
        "outputId": "b905fdca-3158-46f0-a6c6-30ddace905f0"
      },
      "source": [
        "import lightgbm as lgb\n",
        "\n",
        "target = 17 # ACO2\n",
        "features = [i for i in range(X.shape[1]) if i != target]\n",
        "reg = lgb.LGBMRegressor(random_state=0)\n",
        "reg.fit(X.iloc[:, features], X.iloc[:, target])"
      ],
      "execution_count": null,
      "outputs": [
        {
          "output_type": "execute_result",
          "data": {
            "text/plain": [
              "LGBMRegressor(boosting_type='gbdt', class_weight=None, colsample_bytree=1.0,\n",
              "              importance_type='split', learning_rate=0.1, max_depth=-1,\n",
              "              min_child_samples=20, min_child_weight=0.001, min_split_gain=0.0,\n",
              "              n_estimators=100, n_jobs=-1, num_leaves=31, objective=None,\n",
              "              random_state=0, reg_alpha=0.0, reg_lambda=0.0, silent=True,\n",
              "              subsample=1.0, subsample_for_bin=200000, subsample_freq=0)"
            ]
          },
          "metadata": {},
          "execution_count": 51
        }
      ]
    },
    {
      "cell_type": "code",
      "metadata": {
        "colab": {
          "base_uri": "https://localhost:8080/",
          "height": 726
        },
        "id": "IcHPgRemVoWy",
        "outputId": "99bc3ed8-4605-4dc5-8d1f-d15d30e02100"
      },
      "source": [
        "ce = lingam.CausalEffect(model)\n",
        "effects = ce.estimate_effects_on_prediction(X, target, reg)\n",
        "\n",
        "df_effects = pd.DataFrame()\n",
        "df_effects['feature'] = X.columns\n",
        "df_effects['effect_plus'] = effects[:, 0]\n",
        "df_effects['effect_minus'] = effects[:, 1]\n",
        "df_effects"
      ],
      "execution_count": null,
      "outputs": [
        {
          "output_type": "execute_result",
          "data": {
            "text/html": [
              "<div>\n",
              "<style scoped>\n",
              "    .dataframe tbody tr th:only-of-type {\n",
              "        vertical-align: middle;\n",
              "    }\n",
              "\n",
              "    .dataframe tbody tr th {\n",
              "        vertical-align: top;\n",
              "    }\n",
              "\n",
              "    .dataframe thead th {\n",
              "        text-align: right;\n",
              "    }\n",
              "</style>\n",
              "<table border=\"1\" class=\"dataframe\">\n",
              "  <thead>\n",
              "    <tr style=\"text-align: right;\">\n",
              "      <th></th>\n",
              "      <th>feature</th>\n",
              "      <th>effect_plus</th>\n",
              "      <th>effect_minus</th>\n",
              "    </tr>\n",
              "  </thead>\n",
              "  <tbody>\n",
              "    <tr>\n",
              "      <th>0</th>\n",
              "      <td>PMB</td>\n",
              "      <td>0.720307</td>\n",
              "      <td>2.170572</td>\n",
              "    </tr>\n",
              "    <tr>\n",
              "      <th>1</th>\n",
              "      <td>INT</td>\n",
              "      <td>1.201832</td>\n",
              "      <td>2.088741</td>\n",
              "    </tr>\n",
              "    <tr>\n",
              "      <th>2</th>\n",
              "      <td>DISC</td>\n",
              "      <td>1.360224</td>\n",
              "      <td>0.790068</td>\n",
              "    </tr>\n",
              "    <tr>\n",
              "      <th>3</th>\n",
              "      <td>KINK</td>\n",
              "      <td>0.201543</td>\n",
              "      <td>2.588390</td>\n",
              "    </tr>\n",
              "    <tr>\n",
              "      <th>4</th>\n",
              "      <td>MVS</td>\n",
              "      <td>0.254507</td>\n",
              "      <td>1.294680</td>\n",
              "    </tr>\n",
              "    <tr>\n",
              "      <th>5</th>\n",
              "      <td>FIO2</td>\n",
              "      <td>0.566558</td>\n",
              "      <td>1.346378</td>\n",
              "    </tr>\n",
              "    <tr>\n",
              "      <th>6</th>\n",
              "      <td>APL</td>\n",
              "      <td>1.878922</td>\n",
              "      <td>0.817098</td>\n",
              "    </tr>\n",
              "    <tr>\n",
              "      <th>7</th>\n",
              "      <td>ANES</td>\n",
              "      <td>1.336556</td>\n",
              "      <td>1.508800</td>\n",
              "    </tr>\n",
              "    <tr>\n",
              "      <th>8</th>\n",
              "      <td>SHNT</td>\n",
              "      <td>0.886308</td>\n",
              "      <td>3.116761</td>\n",
              "    </tr>\n",
              "    <tr>\n",
              "      <th>9</th>\n",
              "      <td>PAP</td>\n",
              "      <td>0.321253</td>\n",
              "      <td>0.597794</td>\n",
              "    </tr>\n",
              "    <tr>\n",
              "      <th>10</th>\n",
              "      <td>TPR</td>\n",
              "      <td>0.546775</td>\n",
              "      <td>0.618884</td>\n",
              "    </tr>\n",
              "    <tr>\n",
              "      <th>11</th>\n",
              "      <td>VMCH</td>\n",
              "      <td>0.624872</td>\n",
              "      <td>0.056065</td>\n",
              "    </tr>\n",
              "    <tr>\n",
              "      <th>12</th>\n",
              "      <td>VTUB</td>\n",
              "      <td>2.546954</td>\n",
              "      <td>0.554823</td>\n",
              "    </tr>\n",
              "    <tr>\n",
              "      <th>13</th>\n",
              "      <td>PRSS</td>\n",
              "      <td>0.734183</td>\n",
              "      <td>0.201251</td>\n",
              "    </tr>\n",
              "    <tr>\n",
              "      <th>14</th>\n",
              "      <td>VLNG</td>\n",
              "      <td>0.732113</td>\n",
              "      <td>1.167821</td>\n",
              "    </tr>\n",
              "    <tr>\n",
              "      <th>15</th>\n",
              "      <td>VALV</td>\n",
              "      <td>4.499266</td>\n",
              "      <td>9.578713</td>\n",
              "    </tr>\n",
              "    <tr>\n",
              "      <th>16</th>\n",
              "      <td>MINV</td>\n",
              "      <td>19.360158</td>\n",
              "      <td>21.029266</td>\n",
              "    </tr>\n",
              "    <tr>\n",
              "      <th>17</th>\n",
              "      <td>ACO2</td>\n",
              "      <td>0.000000</td>\n",
              "      <td>0.000000</td>\n",
              "    </tr>\n",
              "    <tr>\n",
              "      <th>18</th>\n",
              "      <td>PVS</td>\n",
              "      <td>2.689711</td>\n",
              "      <td>2.486781</td>\n",
              "    </tr>\n",
              "    <tr>\n",
              "      <th>19</th>\n",
              "      <td>SAO2</td>\n",
              "      <td>2.041870</td>\n",
              "      <td>1.838888</td>\n",
              "    </tr>\n",
              "    <tr>\n",
              "      <th>20</th>\n",
              "      <td>ECO2</td>\n",
              "      <td>2029.181107</td>\n",
              "      <td>2026.369693</td>\n",
              "    </tr>\n",
              "    <tr>\n",
              "      <th>21</th>\n",
              "      <td>CCHL</td>\n",
              "      <td>2062.252911</td>\n",
              "      <td>1166.257594</td>\n",
              "    </tr>\n",
              "  </tbody>\n",
              "</table>\n",
              "</div>"
            ],
            "text/plain": [
              "   feature  effect_plus  effect_minus\n",
              "0      PMB     0.720307      2.170572\n",
              "1      INT     1.201832      2.088741\n",
              "2     DISC     1.360224      0.790068\n",
              "3     KINK     0.201543      2.588390\n",
              "4      MVS     0.254507      1.294680\n",
              "5     FIO2     0.566558      1.346378\n",
              "6      APL     1.878922      0.817098\n",
              "7     ANES     1.336556      1.508800\n",
              "8     SHNT     0.886308      3.116761\n",
              "9      PAP     0.321253      0.597794\n",
              "10     TPR     0.546775      0.618884\n",
              "11    VMCH     0.624872      0.056065\n",
              "12    VTUB     2.546954      0.554823\n",
              "13    PRSS     0.734183      0.201251\n",
              "14    VLNG     0.732113      1.167821\n",
              "15    VALV     4.499266      9.578713\n",
              "16    MINV    19.360158     21.029266\n",
              "17    ACO2     0.000000      0.000000\n",
              "18     PVS     2.689711      2.486781\n",
              "19    SAO2     2.041870      1.838888\n",
              "20    ECO2  2029.181107   2026.369693\n",
              "21    CCHL  2062.252911   1166.257594"
            ]
          },
          "metadata": {},
          "execution_count": 52
        }
      ]
    },
    {
      "cell_type": "code",
      "metadata": {
        "colab": {
          "base_uri": "https://localhost:8080/"
        },
        "id": "WePF8AvuZ3uD",
        "outputId": "c1c661e7-5ed7-4c57-bf34-52e02c36dbc0"
      },
      "source": [
        "print(df_effects.sort_values(by='effect_plus', ascending=False))"
      ],
      "execution_count": null,
      "outputs": [
        {
          "output_type": "stream",
          "name": "stdout",
          "text": [
            "   feature  effect_plus  effect_minus\n",
            "21    CCHL  2062.252911   1166.257594\n",
            "20    ECO2  2029.181107   2026.369693\n",
            "16    MINV    19.360158     21.029266\n",
            "15    VALV     4.499266      9.578713\n",
            "18     PVS     2.689711      2.486781\n",
            "12    VTUB     2.546954      0.554823\n",
            "19    SAO2     2.041870      1.838888\n",
            "6      APL     1.878922      0.817098\n",
            "2     DISC     1.360224      0.790068\n",
            "7     ANES     1.336556      1.508800\n",
            "1      INT     1.201832      2.088741\n",
            "8     SHNT     0.886308      3.116761\n",
            "13    PRSS     0.734183      0.201251\n",
            "14    VLNG     0.732113      1.167821\n",
            "0      PMB     0.720307      2.170572\n",
            "11    VMCH     0.624872      0.056065\n",
            "5     FIO2     0.566558      1.346378\n",
            "10     TPR     0.546775      0.618884\n",
            "9      PAP     0.321253      0.597794\n",
            "4      MVS     0.254507      1.294680\n",
            "3     KINK     0.201543      2.588390\n",
            "17    ACO2     0.000000      0.000000\n"
          ]
        }
      ]
    },
    {
      "cell_type": "code",
      "metadata": {
        "id": "utVXJDBBaCD1"
      },
      "source": [
        "print(df_effects.sort_values(by='effect_minus', ascending=False))"
      ],
      "execution_count": null,
      "outputs": []
    },
    {
      "cell_type": "code",
      "metadata": {
        "colab": {
          "base_uri": "https://localhost:8080/"
        },
        "id": "5dgKtoGSVoZt",
        "outputId": "dd0b76c9-39c9-4c78-a42d-ee13ea7c109b"
      },
      "source": [
        "max_index = np.unravel_index(np.argmax(effects), effects.shape)\n",
        "print(X.columns[max_index[0]])"
      ],
      "execution_count": null,
      "outputs": [
        {
          "output_type": "stream",
          "name": "stdout",
          "text": [
            "ECO2\n"
          ]
        }
      ]
    },
    {
      "cell_type": "markdown",
      "metadata": {
        "id": "K4ADnHoDfSJI"
      },
      "source": [
        "LINEAR CASE"
      ]
    },
    {
      "cell_type": "code",
      "metadata": {
        "colab": {
          "base_uri": "https://localhost:8080/"
        },
        "id": "ie0w3KrKVod8",
        "outputId": "97f66406-ffb7-499a-a599-be55de253173"
      },
      "source": [
        "import numpy as np\n",
        "import pandas as pd\n",
        "import graphviz\n",
        "import lingam\n",
        "\n",
        "print([np.__version__, pd.__version__, graphviz.__version__, lingam.__version__])\n",
        "\n",
        "np.set_printoptions(precision=3, suppress=True)\n",
        "np.random.seed(0)"
      ],
      "execution_count": null,
      "outputs": [
        {
          "output_type": "stream",
          "name": "stdout",
          "text": [
            "['1.19.5', '1.1.5', '0.10.1', '1.5.4']\n"
          ]
        }
      ]
    },
    {
      "cell_type": "code",
      "metadata": {
        "id": "Hjsbrn__fjXC"
      },
      "source": [
        "def make_graph(adjacency_matrix, labels=None):\n",
        "    idx = np.abs(adjacency_matrix) > 0.01\n",
        "    dirs = np.where(idx)\n",
        "    d = graphviz.Digraph(engine='dot')\n",
        "    names = labels if labels else [f'x{i}' for i in range(len(adjacency_matrix))]\n",
        "    for to, from_, coef in zip(dirs[0], dirs[1], adjacency_matrix[idx]):\n",
        "        d.edge(names[from_], names[to], label=f'{coef:.2f}')\n",
        "    return d"
      ],
      "execution_count": null,
      "outputs": []
    },
    {
      "cell_type": "code",
      "metadata": {
        "colab": {
          "base_uri": "https://localhost:8080/",
          "height": 240
        },
        "id": "jouWomHvfjaB",
        "outputId": "f98f4db2-4a0a-4619-8d29-58fc414a98ea"
      },
      "source": [
        "# X = pd.read_csv('http://archive.ics.uci.edu/ml/machine-learning-databases/auto-mpg/auto-mpg.data-original',\n",
        "#                    delim_whitespace=True, header=None,\n",
        "#                    names = ['mpg', 'cylinders', 'displacement',\n",
        "#                             'horsepower', 'weight', 'acceleration',\n",
        "#                             'model year', 'origin', 'car name'])\n",
        "# X.dropna(inplace=True)\n",
        "# X.drop(['model year', 'origin', 'car name'], axis=1, inplace=True)\n",
        "\n",
        "X = df\n",
        "print(X.shape)\n",
        "X.head()"
      ],
      "execution_count": null,
      "outputs": [
        {
          "output_type": "stream",
          "name": "stdout",
          "text": [
            "(1000, 22)\n"
          ]
        },
        {
          "output_type": "execute_result",
          "data": {
            "text/html": [
              "<div>\n",
              "<style scoped>\n",
              "    .dataframe tbody tr th:only-of-type {\n",
              "        vertical-align: middle;\n",
              "    }\n",
              "\n",
              "    .dataframe tbody tr th {\n",
              "        vertical-align: top;\n",
              "    }\n",
              "\n",
              "    .dataframe thead th {\n",
              "        text-align: right;\n",
              "    }\n",
              "</style>\n",
              "<table border=\"1\" class=\"dataframe\">\n",
              "  <thead>\n",
              "    <tr style=\"text-align: right;\">\n",
              "      <th></th>\n",
              "      <th>PMB</th>\n",
              "      <th>INT</th>\n",
              "      <th>DISC</th>\n",
              "      <th>KINK</th>\n",
              "      <th>MVS</th>\n",
              "      <th>FIO2</th>\n",
              "      <th>APL</th>\n",
              "      <th>ANES</th>\n",
              "      <th>SHNT</th>\n",
              "      <th>PAP</th>\n",
              "      <th>TPR</th>\n",
              "      <th>VMCH</th>\n",
              "      <th>VTUB</th>\n",
              "      <th>PRSS</th>\n",
              "      <th>VLNG</th>\n",
              "      <th>VALV</th>\n",
              "      <th>MINV</th>\n",
              "      <th>ACO2</th>\n",
              "      <th>PVS</th>\n",
              "      <th>SAO2</th>\n",
              "      <th>ECO2</th>\n",
              "      <th>CCHL</th>\n",
              "    </tr>\n",
              "  </thead>\n",
              "  <tbody>\n",
              "    <tr>\n",
              "      <th>0</th>\n",
              "      <td>9.634172</td>\n",
              "      <td>2.092500</td>\n",
              "      <td>-0.820810</td>\n",
              "      <td>-1.655160</td>\n",
              "      <td>0.023484</td>\n",
              "      <td>-1.173725</td>\n",
              "      <td>-1.367037</td>\n",
              "      <td>-0.865120</td>\n",
              "      <td>2.892519</td>\n",
              "      <td>38.734281</td>\n",
              "      <td>-2.761450</td>\n",
              "      <td>0.648474</td>\n",
              "      <td>-3.203860</td>\n",
              "      <td>-14.032993</td>\n",
              "      <td>-14.178243</td>\n",
              "      <td>-73.866562</td>\n",
              "      <td>-8.245791</td>\n",
              "      <td>-738.570604</td>\n",
              "      <td>150.291648</td>\n",
              "      <td>78.226727</td>\n",
              "      <td>-5993.981357</td>\n",
              "      <td>-5606.616034</td>\n",
              "    </tr>\n",
              "    <tr>\n",
              "      <th>1</th>\n",
              "      <td>9.407365</td>\n",
              "      <td>2.065089</td>\n",
              "      <td>-0.897676</td>\n",
              "      <td>-1.219134</td>\n",
              "      <td>-0.099184</td>\n",
              "      <td>-0.968851</td>\n",
              "      <td>-2.407337</td>\n",
              "      <td>-1.043939</td>\n",
              "      <td>2.896333</td>\n",
              "      <td>37.207914</td>\n",
              "      <td>-4.739510</td>\n",
              "      <td>0.755557</td>\n",
              "      <td>-3.883371</td>\n",
              "      <td>-12.419035</td>\n",
              "      <td>-12.773126</td>\n",
              "      <td>-65.575416</td>\n",
              "      <td>-6.760452</td>\n",
              "      <td>-655.917825</td>\n",
              "      <td>134.135415</td>\n",
              "      <td>68.908152</td>\n",
              "      <td>-5324.112482</td>\n",
              "      <td>-4989.128290</td>\n",
              "    </tr>\n",
              "    <tr>\n",
              "      <th>2</th>\n",
              "      <td>9.707179</td>\n",
              "      <td>2.550885</td>\n",
              "      <td>-0.512960</td>\n",
              "      <td>-0.849870</td>\n",
              "      <td>-0.265847</td>\n",
              "      <td>-0.794231</td>\n",
              "      <td>-0.535513</td>\n",
              "      <td>-0.989653</td>\n",
              "      <td>5.662722</td>\n",
              "      <td>38.785668</td>\n",
              "      <td>-0.810877</td>\n",
              "      <td>1.241027</td>\n",
              "      <td>-5.231297</td>\n",
              "      <td>-13.205503</td>\n",
              "      <td>-13.019669</td>\n",
              "      <td>-64.076344</td>\n",
              "      <td>-5.682553</td>\n",
              "      <td>-640.500168</td>\n",
              "      <td>131.640330</td>\n",
              "      <td>70.093936</td>\n",
              "      <td>-5201.799966</td>\n",
              "      <td>-4849.138081</td>\n",
              "    </tr>\n",
              "    <tr>\n",
              "      <th>3</th>\n",
              "      <td>9.750950</td>\n",
              "      <td>2.240138</td>\n",
              "      <td>-1.344655</td>\n",
              "      <td>-1.957273</td>\n",
              "      <td>-0.104020</td>\n",
              "      <td>-0.863502</td>\n",
              "      <td>-2.021747</td>\n",
              "      <td>-0.922381</td>\n",
              "      <td>3.611668</td>\n",
              "      <td>39.626073</td>\n",
              "      <td>-4.349381</td>\n",
              "      <td>1.441020</td>\n",
              "      <td>-6.378893</td>\n",
              "      <td>-17.544519</td>\n",
              "      <td>-16.945620</td>\n",
              "      <td>-90.503496</td>\n",
              "      <td>-11.313400</td>\n",
              "      <td>-904.509154</td>\n",
              "      <td>187.639977</td>\n",
              "      <td>96.551917</td>\n",
              "      <td>-7337.969189</td>\n",
              "      <td>-6864.874160</td>\n",
              "    </tr>\n",
              "    <tr>\n",
              "      <th>4</th>\n",
              "      <td>9.983332</td>\n",
              "      <td>2.175081</td>\n",
              "      <td>-0.925939</td>\n",
              "      <td>-1.882428</td>\n",
              "      <td>0.346551</td>\n",
              "      <td>-1.065333</td>\n",
              "      <td>-1.693710</td>\n",
              "      <td>-0.898171</td>\n",
              "      <td>3.048958</td>\n",
              "      <td>39.472825</td>\n",
              "      <td>-3.493447</td>\n",
              "      <td>-1.936263</td>\n",
              "      <td>6.007108</td>\n",
              "      <td>-12.138160</td>\n",
              "      <td>-11.940216</td>\n",
              "      <td>-59.828340</td>\n",
              "      <td>-5.917730</td>\n",
              "      <td>-598.193593</td>\n",
              "      <td>122.654385</td>\n",
              "      <td>64.099181</td>\n",
              "      <td>-4857.222147</td>\n",
              "      <td>-4542.361825</td>\n",
              "    </tr>\n",
              "  </tbody>\n",
              "</table>\n",
              "</div>"
            ],
            "text/plain": [
              "        PMB       INT      DISC  ...       SAO2         ECO2         CCHL\n",
              "0  9.634172  2.092500 -0.820810  ...  78.226727 -5993.981357 -5606.616034\n",
              "1  9.407365  2.065089 -0.897676  ...  68.908152 -5324.112482 -4989.128290\n",
              "2  9.707179  2.550885 -0.512960  ...  70.093936 -5201.799966 -4849.138081\n",
              "3  9.750950  2.240138 -1.344655  ...  96.551917 -7337.969189 -6864.874160\n",
              "4  9.983332  2.175081 -0.925939  ...  64.099181 -4857.222147 -4542.361825\n",
              "\n",
              "[5 rows x 22 columns]"
            ]
          },
          "metadata": {},
          "execution_count": 18
        }
      ]
    },
    {
      "cell_type": "code",
      "metadata": {
        "colab": {
          "base_uri": "https://localhost:8080/",
          "height": 920
        },
        "id": "HX7FcIuvfrS4",
        "outputId": "6c6073ce-d4af-492d-e1ca-7d4bcad30e3d"
      },
      "source": [
        "model = lingam.DirectLiNGAM()\n",
        "model.fit(X)\n",
        "labels = [f'{i}. {col}' for i, col in enumerate(X.columns)]\n",
        "make_graph(model.adjacency_matrix_, labels)"
      ],
      "execution_count": null,
      "outputs": [
        {
          "output_type": "execute_result",
          "data": {
            "text/plain": [
              "<graphviz.dot.Digraph at 0x7f658f4b5710>"
            ],
            "image/svg+xml": "<?xml version=\"1.0\" encoding=\"UTF-8\" standalone=\"no\"?>\n<!DOCTYPE svg PUBLIC \"-//W3C//DTD SVG 1.1//EN\"\n \"http://www.w3.org/Graphics/SVG/1.1/DTD/svg11.dtd\">\n<!-- Generated by graphviz version 2.40.1 (20161225.0304)\n -->\n<!-- Title: %3 Pages: 1 -->\n<svg width=\"903pt\" height=\"674pt\"\n viewBox=\"0.00 0.00 903.19 674.00\" xmlns=\"http://www.w3.org/2000/svg\" xmlns:xlink=\"http://www.w3.org/1999/xlink\">\n<g id=\"graph0\" class=\"graph\" transform=\"scale(1 1) rotate(0) translate(4 670)\">\n<title>%3</title>\n<polygon fill=\"#ffffff\" stroke=\"transparent\" points=\"-4,4 -4,-670 899.1926,-670 899.1926,4 -4,4\"/>\n<!-- 9. PAP -->\n<g id=\"node1\" class=\"node\">\n<title>9. PAP</title>\n<ellipse fill=\"none\" stroke=\"#000000\" cx=\"40.2964\" cy=\"-453\" rx=\"37.0935\" ry=\"18\"/>\n<text text-anchor=\"middle\" x=\"40.2964\" y=\"-449.3\" font-family=\"Times,serif\" font-size=\"14.00\" fill=\"#000000\">9. PAP</text>\n</g>\n<!-- 0. PMB -->\n<g id=\"node2\" class=\"node\">\n<title>0. PMB</title>\n<ellipse fill=\"none\" stroke=\"#000000\" cx=\"40.2964\" cy=\"-366\" rx=\"40.0939\" ry=\"18\"/>\n<text text-anchor=\"middle\" x=\"40.2964\" y=\"-362.3\" font-family=\"Times,serif\" font-size=\"14.00\" fill=\"#000000\">0. PMB</text>\n</g>\n<!-- 9. PAP&#45;&gt;0. PMB -->\n<g id=\"edge1\" class=\"edge\">\n<title>9. PAP&#45;&gt;0. PMB</title>\n<path fill=\"none\" stroke=\"#000000\" d=\"M40.2964,-434.9735C40.2964,-423.1918 40.2964,-407.5607 40.2964,-394.1581\"/>\n<polygon fill=\"#000000\" stroke=\"#000000\" points=\"43.7965,-394.0033 40.2964,-384.0034 36.7965,-394.0034 43.7965,-394.0033\"/>\n<text text-anchor=\"middle\" x=\"53.7964\" y=\"-405.8\" font-family=\"Times,serif\" font-size=\"14.00\" fill=\"#000000\">0.20</text>\n</g>\n<!-- 1. INT -->\n<g id=\"node3\" class=\"node\">\n<title>1. INT</title>\n<ellipse fill=\"none\" stroke=\"#000000\" cx=\"183.2964\" cy=\"-192\" rx=\"36.2938\" ry=\"18\"/>\n<text text-anchor=\"middle\" x=\"183.2964\" y=\"-188.3\" font-family=\"Times,serif\" font-size=\"14.00\" fill=\"#000000\">1. INT</text>\n</g>\n<!-- 0. PMB&#45;&gt;1. INT -->\n<g id=\"edge2\" class=\"edge\">\n<title>0. PMB&#45;&gt;1. INT</title>\n<path fill=\"none\" stroke=\"#000000\" d=\"M41.5647,-347.5796C42.907,-337.4335 45.6598,-324.9237 51.2964,-315 76.1484,-271.2462 121.7882,-233.9707 152.3407,-212.272\"/>\n<polygon fill=\"#000000\" stroke=\"#000000\" points=\"154.7015,-214.8934 160.9129,-206.3103 150.7047,-209.1466 154.7015,-214.8934\"/>\n<text text-anchor=\"middle\" x=\"107.7964\" y=\"-275.3\" font-family=\"Times,serif\" font-size=\"14.00\" fill=\"#000000\">0.15</text>\n</g>\n<!-- 8. SHNT -->\n<g id=\"node4\" class=\"node\">\n<title>8. SHNT</title>\n<ellipse fill=\"none\" stroke=\"#000000\" cx=\"386.2964\" cy=\"-279\" rx=\"45.4919\" ry=\"18\"/>\n<text text-anchor=\"middle\" x=\"386.2964\" y=\"-275.3\" font-family=\"Times,serif\" font-size=\"14.00\" fill=\"#000000\">8. SHNT</text>\n</g>\n<!-- 0. PMB&#45;&gt;8. SHNT -->\n<g id=\"edge9\" class=\"edge\">\n<title>0. PMB&#45;&gt;8. SHNT</title>\n<path fill=\"none\" stroke=\"#000000\" d=\"M45.4649,-347.9309C49.6979,-336.5663 56.8872,-322.651 68.2964,-315 89.6088,-300.708 245.7652,-288.2958 331.0487,-282.4931\"/>\n<polygon fill=\"#000000\" stroke=\"#000000\" points=\"331.3412,-285.9815 341.0839,-281.8186 330.8717,-278.9972 331.3412,-285.9815\"/>\n<text text-anchor=\"middle\" x=\"83.7964\" y=\"-318.8\" font-family=\"Times,serif\" font-size=\"14.00\" fill=\"#000000\">&#45;0.95</text>\n</g>\n<!-- 8. SHNT&#45;&gt;1. INT -->\n<g id=\"edge3\" class=\"edge\">\n<title>8. SHNT&#45;&gt;1. INT</title>\n<path fill=\"none\" stroke=\"#000000\" d=\"M355.0226,-265.5969C318.7276,-250.0419 258.9342,-224.4162 220.3431,-207.8772\"/>\n<polygon fill=\"#000000\" stroke=\"#000000\" points=\"221.5861,-204.602 211.0159,-203.8798 218.8286,-211.036 221.5861,-204.602\"/>\n<text text-anchor=\"middle\" x=\"310.7964\" y=\"-231.8\" font-family=\"Times,serif\" font-size=\"14.00\" fill=\"#000000\">0.16</text>\n</g>\n<!-- 14. VLNG -->\n<g id=\"node16\" class=\"node\">\n<title>14. VLNG</title>\n<ellipse fill=\"none\" stroke=\"#000000\" cx=\"464.2964\" cy=\"-192\" rx=\"51.9908\" ry=\"18\"/>\n<text text-anchor=\"middle\" x=\"464.2964\" y=\"-188.3\" font-family=\"Times,serif\" font-size=\"14.00\" fill=\"#000000\">14. VLNG</text>\n</g>\n<!-- 8. SHNT&#45;&gt;14. VLNG -->\n<g id=\"edge21\" class=\"edge\">\n<title>8. SHNT&#45;&gt;14. VLNG</title>\n<path fill=\"none\" stroke=\"#000000\" d=\"M401.7067,-261.8116C413.1696,-249.026 428.9877,-231.3829 441.8536,-217.0324\"/>\n<polygon fill=\"#000000\" stroke=\"#000000\" points=\"444.5817,-219.2326 448.6512,-209.4505 439.3697,-214.5598 444.5817,-219.2326\"/>\n<text text-anchor=\"middle\" x=\"445.7964\" y=\"-231.8\" font-family=\"Times,serif\" font-size=\"14.00\" fill=\"#000000\">&#45;0.13</text>\n</g>\n<!-- 5. FIO2 -->\n<g id=\"node5\" class=\"node\">\n<title>5. FIO2</title>\n<ellipse fill=\"none\" stroke=\"#000000\" cx=\"192.2964\" cy=\"-561\" rx=\"40.0939\" ry=\"18\"/>\n<text text-anchor=\"middle\" x=\"192.2964\" y=\"-557.3\" font-family=\"Times,serif\" font-size=\"14.00\" fill=\"#000000\">5. FIO2</text>\n</g>\n<!-- 5. FIO2&#45;&gt;8. SHNT -->\n<g id=\"edge12\" class=\"edge\">\n<title>5. FIO2&#45;&gt;8. SHNT</title>\n<path fill=\"none\" stroke=\"#000000\" d=\"M191.292,-542.6807C190.6866,-517.0177 192.5491,-469.6286 211.2964,-435 244.3328,-373.9776 310.9832,-325.0442 351.8229,-299.1629\"/>\n<polygon fill=\"#000000\" stroke=\"#000000\" points=\"353.7314,-302.0976 360.3723,-293.8424 350.0329,-296.1544 353.7314,-302.0976\"/>\n<text text-anchor=\"middle\" x=\"248.7964\" y=\"-405.8\" font-family=\"Times,serif\" font-size=\"14.00\" fill=\"#000000\">&#45;0.12</text>\n</g>\n<!-- 2. DISC -->\n<g id=\"node6\" class=\"node\">\n<title>2. DISC</title>\n<ellipse fill=\"none\" stroke=\"#000000\" cx=\"262.2964\" cy=\"-453\" rx=\"42.4939\" ry=\"18\"/>\n<text text-anchor=\"middle\" x=\"262.2964\" y=\"-449.3\" font-family=\"Times,serif\" font-size=\"14.00\" fill=\"#000000\">2. DISC</text>\n</g>\n<!-- 5. FIO2&#45;&gt;2. DISC -->\n<g id=\"edge4\" class=\"edge\">\n<title>5. FIO2&#45;&gt;2. DISC</title>\n<path fill=\"none\" stroke=\"#000000\" d=\"M198.7004,-543.2135C204.612,-528.0524 214.2824,-506.0697 226.2964,-489 229.2725,-484.7716 232.7683,-480.5958 236.3909,-476.6694\"/>\n<polygon fill=\"#000000\" stroke=\"#000000\" points=\"238.93,-479.0788 243.4102,-469.4778 233.9207,-474.1894 238.93,-479.0788\"/>\n<text text-anchor=\"middle\" x=\"239.7964\" y=\"-503.3\" font-family=\"Times,serif\" font-size=\"14.00\" fill=\"#000000\">0.10</text>\n</g>\n<!-- 7. ANES -->\n<g id=\"node7\" class=\"node\">\n<title>7. ANES</title>\n<ellipse fill=\"none\" stroke=\"#000000\" cx=\"89.2964\" cy=\"-561\" rx=\"44.6926\" ry=\"18\"/>\n<text text-anchor=\"middle\" x=\"89.2964\" y=\"-557.3\" font-family=\"Times,serif\" font-size=\"14.00\" fill=\"#000000\">7. ANES</text>\n</g>\n<!-- 7. ANES&#45;&gt;8. SHNT -->\n<g id=\"edge14\" class=\"edge\">\n<title>7. ANES&#45;&gt;8. SHNT</title>\n<path fill=\"none\" stroke=\"#000000\" d=\"M97.7657,-543.1099C105.0179,-528.2723 116.0448,-506.8022 127.2964,-489 170.9547,-419.9241 180.1839,-397.375 245.2964,-348 275.2445,-325.2903 313.8454,-307.0241 343.0852,-295.0044\"/>\n<polygon fill=\"#000000\" stroke=\"#000000\" points=\"344.6452,-298.1495 352.6164,-291.1702 342.0327,-291.6553 344.6452,-298.1495\"/>\n<text text-anchor=\"middle\" x=\"198.7964\" y=\"-405.8\" font-family=\"Times,serif\" font-size=\"14.00\" fill=\"#000000\">0.09</text>\n</g>\n<!-- 7. ANES&#45;&gt;2. DISC -->\n<g id=\"edge5\" class=\"edge\">\n<title>7. ANES&#45;&gt;2. DISC</title>\n<path fill=\"none\" stroke=\"#000000\" d=\"M105.4617,-544.02C121.3014,-528.1388 146.7254,-504.5909 172.2964,-489 186.5583,-480.3044 203.2906,-472.9399 218.4336,-467.1815\"/>\n<polygon fill=\"#000000\" stroke=\"#000000\" points=\"219.93,-470.3608 228.1133,-463.6315 217.5197,-463.7888 219.93,-470.3608\"/>\n<text text-anchor=\"middle\" x=\"187.7964\" y=\"-503.3\" font-family=\"Times,serif\" font-size=\"14.00\" fill=\"#000000\">&#45;0.05</text>\n</g>\n<!-- 11. VMCH -->\n<g id=\"node8\" class=\"node\">\n<title>11. VMCH</title>\n<ellipse fill=\"none\" stroke=\"#000000\" cx=\"323.2964\" cy=\"-648\" rx=\"53.0913\" ry=\"18\"/>\n<text text-anchor=\"middle\" x=\"323.2964\" y=\"-644.3\" font-family=\"Times,serif\" font-size=\"14.00\" fill=\"#000000\">11. VMCH</text>\n</g>\n<!-- 11. VMCH&#45;&gt;2. DISC -->\n<g id=\"edge6\" class=\"edge\">\n<title>11. VMCH&#45;&gt;2. DISC</title>\n<path fill=\"none\" stroke=\"#000000\" d=\"M314.1858,-630.2152C307.4356,-616.497 298.3886,-596.9028 292.2964,-579 281.0909,-546.0705 272.4737,-506.9316 267.4082,-481.1104\"/>\n<polygon fill=\"#000000\" stroke=\"#000000\" points=\"270.8378,-480.4103 265.5193,-471.2471 263.9628,-481.727 270.8378,-480.4103\"/>\n<text text-anchor=\"middle\" x=\"305.7964\" y=\"-557.3\" font-family=\"Times,serif\" font-size=\"14.00\" fill=\"#000000\">2.05</text>\n</g>\n<!-- 12. VTUB -->\n<g id=\"node9\" class=\"node\">\n<title>12. VTUB</title>\n<ellipse fill=\"none\" stroke=\"#000000\" cx=\"429.2964\" cy=\"-561\" rx=\"51.1914\" ry=\"18\"/>\n<text text-anchor=\"middle\" x=\"429.2964\" y=\"-557.3\" font-family=\"Times,serif\" font-size=\"14.00\" fill=\"#000000\">12. VTUB</text>\n</g>\n<!-- 11. VMCH&#45;&gt;12. VTUB -->\n<g id=\"edge19\" class=\"edge\">\n<title>11. VMCH&#45;&gt;12. VTUB</title>\n<path fill=\"none\" stroke=\"#000000\" d=\"M343.7343,-631.2255C360.0116,-617.8659 382.979,-599.0153 401.0204,-584.2077\"/>\n<polygon fill=\"#000000\" stroke=\"#000000\" points=\"403.412,-586.7727 408.9213,-577.723 398.971,-581.3619 403.412,-586.7727\"/>\n<text text-anchor=\"middle\" x=\"398.7964\" y=\"-600.8\" font-family=\"Times,serif\" font-size=\"14.00\" fill=\"#000000\">&#45;3.53</text>\n</g>\n<!-- 4. MVS -->\n<g id=\"node10\" class=\"node\">\n<title>4. MVS</title>\n<ellipse fill=\"none\" stroke=\"#000000\" cx=\"323.2964\" cy=\"-507\" rx=\"40.8928\" ry=\"18\"/>\n<text text-anchor=\"middle\" x=\"323.2964\" y=\"-503.3\" font-family=\"Times,serif\" font-size=\"14.00\" fill=\"#000000\">4. MVS</text>\n</g>\n<!-- 11. VMCH&#45;&gt;4. MVS -->\n<g id=\"edge8\" class=\"edge\">\n<title>11. VMCH&#45;&gt;4. MVS</title>\n<path fill=\"none\" stroke=\"#000000\" d=\"M323.2964,-629.8554C323.2964,-605.8485 323.2964,-563.2861 323.2964,-535.1035\"/>\n<polygon fill=\"#000000\" stroke=\"#000000\" points=\"326.7965,-535.075 323.2964,-525.075 319.7965,-535.075 326.7965,-535.075\"/>\n<text text-anchor=\"middle\" x=\"338.7964\" y=\"-600.8\" font-family=\"Times,serif\" font-size=\"14.00\" fill=\"#000000\">&#45;0.11</text>\n</g>\n<!-- 12. VTUB&#45;&gt;8. SHNT -->\n<g id=\"edge15\" class=\"edge\">\n<title>12. VTUB&#45;&gt;8. SHNT</title>\n<path fill=\"none\" stroke=\"#000000\" d=\"M427.164,-542.8957C425.0961,-528.1192 421.3651,-506.8427 415.2964,-489 412.4163,-480.5321 408.8002,-479.5867 406.2964,-471 389.8597,-414.6298 386.5534,-345.4865 386.1037,-307.4573\"/>\n<polygon fill=\"#000000\" stroke=\"#000000\" points=\"389.602,-307.1268 386.0442,-297.1472 382.6021,-307.1673 389.602,-307.1268\"/>\n<text text-anchor=\"middle\" x=\"408.7964\" y=\"-405.8\" font-family=\"Times,serif\" font-size=\"14.00\" fill=\"#000000\">0.55</text>\n</g>\n<!-- 12. VTUB&#45;&gt;2. DISC -->\n<g id=\"edge7\" class=\"edge\">\n<title>12. VTUB&#45;&gt;2. DISC</title>\n<path fill=\"none\" stroke=\"#000000\" d=\"M408.2104,-544.4765C401.4662,-538.6874 394.2197,-531.8999 388.2964,-525 375.9291,-510.5936 380.1873,-500.7794 365.2964,-489 349.6809,-476.6474 329.5247,-468.3695 311.189,-462.9027\"/>\n<polygon fill=\"#000000\" stroke=\"#000000\" points=\"312.0879,-459.52 301.5162,-460.2202 310.2171,-466.2654 312.0879,-459.52\"/>\n<text text-anchor=\"middle\" x=\"401.7964\" y=\"-503.3\" font-family=\"Times,serif\" font-size=\"14.00\" fill=\"#000000\">0.58</text>\n</g>\n<!-- 16. MINV -->\n<g id=\"node13\" class=\"node\">\n<title>16. MINV</title>\n<ellipse fill=\"none\" stroke=\"#000000\" cx=\"465.2964\" cy=\"-453\" rx=\"50.0912\" ry=\"18\"/>\n<text text-anchor=\"middle\" x=\"465.2964\" y=\"-449.3\" font-family=\"Times,serif\" font-size=\"14.00\" fill=\"#000000\">16. MINV</text>\n</g>\n<!-- 12. VTUB&#45;&gt;16. MINV -->\n<g id=\"edge26\" class=\"edge\">\n<title>12. VTUB&#45;&gt;16. MINV</title>\n<path fill=\"none\" stroke=\"#000000\" d=\"M435.4033,-542.6793C441.0748,-525.6649 449.5975,-500.0967 456.0934,-480.6091\"/>\n<polygon fill=\"#000000\" stroke=\"#000000\" points=\"459.4378,-481.6438 459.2797,-471.0502 452.797,-479.4302 459.4378,-481.6438\"/>\n<text text-anchor=\"middle\" x=\"466.7964\" y=\"-503.3\" font-family=\"Times,serif\" font-size=\"14.00\" fill=\"#000000\">0.43</text>\n</g>\n<!-- 18. PVS -->\n<g id=\"node14\" class=\"node\">\n<title>18. PVS</title>\n<ellipse fill=\"none\" stroke=\"#000000\" cx=\"561.2964\" cy=\"-366\" rx=\"42.7926\" ry=\"18\"/>\n<text text-anchor=\"middle\" x=\"561.2964\" y=\"-362.3\" font-family=\"Times,serif\" font-size=\"14.00\" fill=\"#000000\">18. PVS</text>\n</g>\n<!-- 12. VTUB&#45;&gt;18. PVS -->\n<g id=\"edge31\" class=\"edge\">\n<title>12. VTUB&#45;&gt;18. PVS</title>\n<path fill=\"none\" stroke=\"#000000\" d=\"M473.4933,-551.7368C500.4795,-545.1557 531.45,-535.6264 540.2964,-525 570.9711,-488.1535 569.8821,-428.9418 565.8812,-394.1202\"/>\n<polygon fill=\"#000000\" stroke=\"#000000\" points=\"569.3445,-393.6104 564.578,-384.1483 562.4035,-394.5176 569.3445,-393.6104\"/>\n<text text-anchor=\"middle\" x=\"583.7964\" y=\"-449.3\" font-family=\"Times,serif\" font-size=\"14.00\" fill=\"#000000\">&#45;3.44</text>\n</g>\n<!-- 4. MVS&#45;&gt;8. SHNT -->\n<g id=\"edge11\" class=\"edge\">\n<title>4. MVS&#45;&gt;8. SHNT</title>\n<path fill=\"none\" stroke=\"#000000\" d=\"M324.3505,-488.9042C325.8922,-467.7694 329.4783,-431.8905 337.2964,-402 346.1917,-367.9912 361.9456,-330.7205 373.1893,-306.2217\"/>\n<polygon fill=\"#000000\" stroke=\"#000000\" points=\"376.4982,-307.4072 377.5501,-296.8647 370.1534,-304.4502 376.4982,-307.4072\"/>\n<text text-anchor=\"middle\" x=\"350.7964\" y=\"-405.8\" font-family=\"Times,serif\" font-size=\"14.00\" fill=\"#000000\">0.30</text>\n</g>\n<!-- 3. KINK -->\n<g id=\"node11\" class=\"node\">\n<title>3. KINK</title>\n<ellipse fill=\"none\" stroke=\"#000000\" cx=\"613.2964\" cy=\"-561\" rx=\"44.393\" ry=\"18\"/>\n<text text-anchor=\"middle\" x=\"613.2964\" y=\"-557.3\" font-family=\"Times,serif\" font-size=\"14.00\" fill=\"#000000\">3. KINK</text>\n</g>\n<!-- 3. KINK&#45;&gt;8. SHNT -->\n<g id=\"edge10\" class=\"edge\">\n<title>3. KINK&#45;&gt;8. SHNT</title>\n<path fill=\"none\" stroke=\"#000000\" d=\"M616.0938,-543.0236C619.1669,-516.9303 621.1054,-468.0742 599.2964,-435 592.9691,-425.4044 518.7103,-390.5947 509.2964,-384 499.3328,-377.0202 446.4852,-331.3663 413.3853,-302.6022\"/>\n<polygon fill=\"#000000\" stroke=\"#000000\" points=\"415.2762,-299.6082 405.4337,-295.687 410.6826,-304.8902 415.2762,-299.6082\"/>\n<text text-anchor=\"middle\" x=\"584.7964\" y=\"-405.8\" font-family=\"Times,serif\" font-size=\"14.00\" fill=\"#000000\">5.57</text>\n</g>\n<!-- 3. KINK&#45;&gt;16. MINV -->\n<g id=\"edge25\" class=\"edge\">\n<title>3. KINK&#45;&gt;16. MINV</title>\n<path fill=\"none\" stroke=\"#000000\" d=\"M591.4585,-545.0642C566.2457,-526.6657 524.5957,-496.2725 496.0982,-475.4769\"/>\n<polygon fill=\"#000000\" stroke=\"#000000\" points=\"497.8502,-472.4227 487.7091,-469.3552 493.7239,-478.0772 497.8502,-472.4227\"/>\n<text text-anchor=\"middle\" x=\"574.7964\" y=\"-503.3\" font-family=\"Times,serif\" font-size=\"14.00\" fill=\"#000000\">4.39</text>\n</g>\n<!-- 3. KINK&#45;&gt;18. PVS -->\n<g id=\"edge30\" class=\"edge\">\n<title>3. KINK&#45;&gt;18. PVS</title>\n<path fill=\"none\" stroke=\"#000000\" d=\"M621.7711,-543.0721C624.0308,-537.4186 626.1589,-531.0637 627.2964,-525 634.6718,-485.6858 642.1923,-472.123 627.2964,-435 619.9171,-416.6094 605.0385,-400.3489 591.2733,-388.2391\"/>\n<polygon fill=\"#000000\" stroke=\"#000000\" points=\"593.2733,-385.3485 583.3623,-381.6039 588.775,-390.7118 593.2733,-385.3485\"/>\n<text text-anchor=\"middle\" x=\"655.7964\" y=\"-449.3\" font-family=\"Times,serif\" font-size=\"14.00\" fill=\"#000000\">&#45;35.30</text>\n</g>\n<!-- 6. APL -->\n<g id=\"node12\" class=\"node\">\n<title>6. APL</title>\n<ellipse fill=\"none\" stroke=\"#000000\" cx=\"756.2964\" cy=\"-366\" rx=\"38.1938\" ry=\"18\"/>\n<text text-anchor=\"middle\" x=\"756.2964\" y=\"-362.3\" font-family=\"Times,serif\" font-size=\"14.00\" fill=\"#000000\">6. APL</text>\n</g>\n<!-- 6. APL&#45;&gt;8. SHNT -->\n<g id=\"edge13\" class=\"edge\">\n<title>6. APL&#45;&gt;8. SHNT</title>\n<path fill=\"none\" stroke=\"#000000\" d=\"M721.82,-357.8934C655.8048,-342.3709 511.3692,-308.409 435.3354,-290.5308\"/>\n<polygon fill=\"#000000\" stroke=\"#000000\" points=\"436.0568,-287.105 425.5211,-288.2231 434.4545,-293.9192 436.0568,-287.105\"/>\n<text text-anchor=\"middle\" x=\"609.7964\" y=\"-318.8\" font-family=\"Times,serif\" font-size=\"14.00\" fill=\"#000000\">&#45;0.06</text>\n</g>\n<!-- 10. TPR -->\n<g id=\"node15\" class=\"node\">\n<title>10. TPR</title>\n<ellipse fill=\"none\" stroke=\"#000000\" cx=\"852.2964\" cy=\"-279\" rx=\"42.7926\" ry=\"18\"/>\n<text text-anchor=\"middle\" x=\"852.2964\" y=\"-275.3\" font-family=\"Times,serif\" font-size=\"14.00\" fill=\"#000000\">10. TPR</text>\n</g>\n<!-- 6. APL&#45;&gt;10. TPR -->\n<g id=\"edge18\" class=\"edge\">\n<title>6. APL&#45;&gt;10. TPR</title>\n<path fill=\"none\" stroke=\"#000000\" d=\"M774.3533,-349.636C789.0096,-336.3537 809.8673,-317.4514 826.3185,-302.5425\"/>\n<polygon fill=\"#000000\" stroke=\"#000000\" points=\"828.9346,-304.8951 833.9941,-295.5865 824.2339,-299.7082 828.9346,-304.8951\"/>\n<text text-anchor=\"middle\" x=\"823.7964\" y=\"-318.8\" font-family=\"Times,serif\" font-size=\"14.00\" fill=\"#000000\">1.98</text>\n</g>\n<!-- 16. MINV&#45;&gt;8. SHNT -->\n<g id=\"edge16\" class=\"edge\">\n<title>16. MINV&#45;&gt;8. SHNT</title>\n<path fill=\"none\" stroke=\"#000000\" d=\"M457.1396,-435.0343C443.2662,-404.4778 414.996,-342.2116 398.6738,-306.2616\"/>\n<polygon fill=\"#000000\" stroke=\"#000000\" points=\"401.7299,-304.5265 394.4089,-296.868 395.3561,-307.4204 401.7299,-304.5265\"/>\n<text text-anchor=\"middle\" x=\"447.7964\" y=\"-362.3\" font-family=\"Times,serif\" font-size=\"14.00\" fill=\"#000000\">0.40</text>\n</g>\n<!-- 16. MINV&#45;&gt;18. PVS -->\n<g id=\"edge32\" class=\"edge\">\n<title>16. MINV&#45;&gt;18. PVS</title>\n<path fill=\"none\" stroke=\"#000000\" d=\"M460.9637,-434.9358C459.5085,-424.4138 459.6627,-411.4093 466.2964,-402 472.416,-393.3201 493.8011,-384.8399 514.7351,-378.2924\"/>\n<polygon fill=\"#000000\" stroke=\"#000000\" points=\"516.0142,-381.5628 524.5847,-375.334 514.0005,-374.8587 516.0142,-381.5628\"/>\n<text text-anchor=\"middle\" x=\"481.7964\" y=\"-405.8\" font-family=\"Times,serif\" font-size=\"14.00\" fill=\"#000000\">&#45;3.27</text>\n</g>\n<!-- 18. PVS&#45;&gt;8. SHNT -->\n<g id=\"edge17\" class=\"edge\">\n<title>18. PVS&#45;&gt;8. SHNT</title>\n<path fill=\"none\" stroke=\"#000000\" d=\"M533.5212,-352.0227C521.0748,-345.5741 506.3017,-337.662 493.2964,-330 482.7815,-323.8052 481.0564,-320.7586 470.2964,-315 457.1262,-307.9515 442.2819,-301.2183 428.7761,-295.5218\"/>\n<polygon fill=\"#000000\" stroke=\"#000000\" points=\"429.7999,-292.1577 419.2215,-291.5675 427.123,-298.6256 429.7999,-292.1577\"/>\n<text text-anchor=\"middle\" x=\"506.7964\" y=\"-318.8\" font-family=\"Times,serif\" font-size=\"14.00\" fill=\"#000000\">0.09</text>\n</g>\n<!-- 18. PVS&#45;&gt;14. VLNG -->\n<g id=\"edge22\" class=\"edge\">\n<title>18. PVS&#45;&gt;14. VLNG</title>\n<path fill=\"none\" stroke=\"#000000\" d=\"M549.0525,-348.4893C539.6509,-334.7525 526.58,-315.0079 516.2964,-297 501.5126,-271.1115 486.6135,-240.4523 476.5763,-218.9692\"/>\n<polygon fill=\"#000000\" stroke=\"#000000\" points=\"479.7049,-217.3959 472.3246,-209.7944 473.3537,-220.3392 479.7049,-217.3959\"/>\n<text text-anchor=\"middle\" x=\"531.7964\" y=\"-275.3\" font-family=\"Times,serif\" font-size=\"14.00\" fill=\"#000000\">&#45;0.01</text>\n</g>\n<!-- 15. VALV -->\n<g id=\"node18\" class=\"node\">\n<title>15. VALV</title>\n<ellipse fill=\"none\" stroke=\"#000000\" cx=\"650.2964\" cy=\"-192\" rx=\"50.0912\" ry=\"18\"/>\n<text text-anchor=\"middle\" x=\"650.2964\" y=\"-188.3\" font-family=\"Times,serif\" font-size=\"14.00\" fill=\"#000000\">15. VALV</text>\n</g>\n<!-- 18. PVS&#45;&gt;15. VALV -->\n<g id=\"edge23\" class=\"edge\">\n<title>18. PVS&#45;&gt;15. VALV</title>\n<path fill=\"none\" stroke=\"#000000\" d=\"M594.6019,-354.5564C606.3304,-348.9206 618.5166,-340.9298 626.2964,-330 638.565,-312.7639 645.2434,-255.2055 648.263,-220.1007\"/>\n<polygon fill=\"#000000\" stroke=\"#000000\" points=\"651.7625,-220.2472 649.0848,-209.9964 644.7856,-219.6797 651.7625,-220.2472\"/>\n<text text-anchor=\"middle\" x=\"659.7964\" y=\"-275.3\" font-family=\"Times,serif\" font-size=\"14.00\" fill=\"#000000\">&#45;0.03</text>\n</g>\n<!-- 21. CCHL -->\n<g id=\"node19\" class=\"node\">\n<title>21. CCHL</title>\n<ellipse fill=\"none\" stroke=\"#000000\" cx=\"740.2964\" cy=\"-279\" rx=\"50.8918\" ry=\"18\"/>\n<text text-anchor=\"middle\" x=\"740.2964\" y=\"-275.3\" font-family=\"Times,serif\" font-size=\"14.00\" fill=\"#000000\">21. CCHL</text>\n</g>\n<!-- 18. PVS&#45;&gt;21. CCHL -->\n<g id=\"edge37\" class=\"edge\">\n<title>18. PVS&#45;&gt;21. CCHL</title>\n<path fill=\"none\" stroke=\"#000000\" d=\"M594.5739,-354.6401C612.5637,-348.1221 634.9867,-339.3826 654.2964,-330 672.3075,-321.2484 691.5494,-310.0281 707.2555,-300.341\"/>\n<polygon fill=\"#000000\" stroke=\"#000000\" points=\"709.4296,-303.1098 716.0584,-294.8449 705.7223,-297.1721 709.4296,-303.1098\"/>\n<text text-anchor=\"middle\" x=\"700.7964\" y=\"-318.8\" font-family=\"Times,serif\" font-size=\"14.00\" fill=\"#000000\">&#45;34.97</text>\n</g>\n<!-- 19. SAO2 -->\n<g id=\"node22\" class=\"node\">\n<title>19. SAO2</title>\n<ellipse fill=\"none\" stroke=\"#000000\" cx=\"561.2964\" cy=\"-105\" rx=\"49.2915\" ry=\"18\"/>\n<text text-anchor=\"middle\" x=\"561.2964\" y=\"-101.3\" font-family=\"Times,serif\" font-size=\"14.00\" fill=\"#000000\">19. SAO2</text>\n</g>\n<!-- 18. PVS&#45;&gt;19. SAO2 -->\n<g id=\"edge34\" class=\"edge\">\n<title>18. PVS&#45;&gt;19. SAO2</title>\n<path fill=\"none\" stroke=\"#000000\" d=\"M561.2964,-347.647C561.2964,-302.8139 561.2964,-187.4607 561.2964,-133.5557\"/>\n<polygon fill=\"#000000\" stroke=\"#000000\" points=\"564.7965,-133.3327 561.2964,-123.3327 557.7965,-133.3328 564.7965,-133.3327\"/>\n<text text-anchor=\"middle\" x=\"574.7964\" y=\"-231.8\" font-family=\"Times,serif\" font-size=\"14.00\" fill=\"#000000\">0.15</text>\n</g>\n<!-- 13. PRSS -->\n<g id=\"node17\" class=\"node\">\n<title>13. PRSS</title>\n<ellipse fill=\"none\" stroke=\"#000000\" cx=\"446.2964\" cy=\"-105\" rx=\"48.1917\" ry=\"18\"/>\n<text text-anchor=\"middle\" x=\"446.2964\" y=\"-101.3\" font-family=\"Times,serif\" font-size=\"14.00\" fill=\"#000000\">13. PRSS</text>\n</g>\n<!-- 14. VLNG&#45;&gt;13. PRSS -->\n<g id=\"edge20\" class=\"edge\">\n<title>14. VLNG&#45;&gt;13. PRSS</title>\n<path fill=\"none\" stroke=\"#000000\" d=\"M460.1378,-173.705C458.8744,-168.0365 457.5021,-161.7656 456.2964,-156 454.7399,-148.5565 453.1243,-140.4864 451.6574,-133.009\"/>\n<polygon fill=\"#000000\" stroke=\"#000000\" points=\"455.0479,-132.1085 449.7041,-122.96 448.1765,-133.4442 455.0479,-132.1085\"/>\n<text text-anchor=\"middle\" x=\"469.7964\" y=\"-144.8\" font-family=\"Times,serif\" font-size=\"14.00\" fill=\"#000000\">0.97</text>\n</g>\n<!-- 14. VLNG&#45;&gt;19. SAO2 -->\n<g id=\"edge33\" class=\"edge\">\n<title>14. VLNG&#45;&gt;19. SAO2</title>\n<path fill=\"none\" stroke=\"#000000\" d=\"M481.2119,-174.5519C491.1838,-164.4859 504.1838,-151.7359 516.2964,-141 521.2099,-136.645 526.5614,-132.1571 531.8035,-127.8906\"/>\n<polygon fill=\"#000000\" stroke=\"#000000\" points=\"534.261,-130.4062 539.8722,-121.4192 529.8814,-124.9455 534.261,-130.4062\"/>\n<text text-anchor=\"middle\" x=\"531.7964\" y=\"-144.8\" font-family=\"Times,serif\" font-size=\"14.00\" fill=\"#000000\">&#45;4.30</text>\n</g>\n<!-- 17. ACO2 -->\n<g id=\"node20\" class=\"node\">\n<title>17. ACO2</title>\n<ellipse fill=\"none\" stroke=\"#000000\" cx=\"740.2964\" cy=\"-18\" rx=\"50.0912\" ry=\"18\"/>\n<text text-anchor=\"middle\" x=\"740.2964\" y=\"-14.3\" font-family=\"Times,serif\" font-size=\"14.00\" fill=\"#000000\">17. ACO2</text>\n</g>\n<!-- 15. VALV&#45;&gt;17. ACO2 -->\n<g id=\"edge27\" class=\"edge\">\n<title>15. VALV&#45;&gt;17. ACO2</title>\n<path fill=\"none\" stroke=\"#000000\" d=\"M646.8695,-173.7856C643.6837,-151.9038 641.2941,-114.6851 655.2964,-87 665.691,-66.4479 685.2889,-49.8929 703.0488,-38.1555\"/>\n<polygon fill=\"#000000\" stroke=\"#000000\" points=\"704.9776,-41.0771 711.5713,-32.7842 701.2452,-35.1552 704.9776,-41.0771\"/>\n<text text-anchor=\"middle\" x=\"668.7964\" y=\"-101.3\" font-family=\"Times,serif\" font-size=\"14.00\" fill=\"#000000\">0.42</text>\n</g>\n<!-- 20. ECO2 -->\n<g id=\"node21\" class=\"node\">\n<title>20. ECO2</title>\n<ellipse fill=\"none\" stroke=\"#000000\" cx=\"740.2964\" cy=\"-105\" rx=\"49.2915\" ry=\"18\"/>\n<text text-anchor=\"middle\" x=\"740.2964\" y=\"-101.3\" font-family=\"Times,serif\" font-size=\"14.00\" fill=\"#000000\">20. ECO2</text>\n</g>\n<!-- 15. VALV&#45;&gt;20. ECO2 -->\n<g id=\"edge35\" class=\"edge\">\n<title>15. VALV&#45;&gt;20. ECO2</title>\n<path fill=\"none\" stroke=\"#000000\" d=\"M662.9696,-174.5843C670.8536,-164.2922 681.5159,-151.3017 692.2964,-141 697.2552,-136.2615 702.8384,-131.5791 708.397,-127.2372\"/>\n<polygon fill=\"#000000\" stroke=\"#000000\" points=\"710.58,-129.9746 716.4475,-121.1528 706.3593,-124.3901 710.58,-129.9746\"/>\n<text text-anchor=\"middle\" x=\"709.2964\" y=\"-144.8\" font-family=\"Times,serif\" font-size=\"14.00\" fill=\"#000000\">60.90</text>\n</g>\n<!-- 21. CCHL&#45;&gt;15. VALV -->\n<g id=\"edge24\" class=\"edge\">\n<title>21. CCHL&#45;&gt;15. VALV</title>\n<path fill=\"none\" stroke=\"#000000\" d=\"M720.3889,-262.1189C713.587,-256.1945 706.0061,-249.4153 699.2964,-243 690.5991,-234.6843 681.38,-225.2615 673.3131,-216.7978\"/>\n<polygon fill=\"#000000\" stroke=\"#000000\" points=\"675.6896,-214.2168 666.2766,-209.354 670.6026,-219.0254 675.6896,-214.2168\"/>\n<text text-anchor=\"middle\" x=\"712.7964\" y=\"-231.8\" font-family=\"Times,serif\" font-size=\"14.00\" fill=\"#000000\">0.01</text>\n</g>\n<!-- 21. CCHL&#45;&gt;17. ACO2 -->\n<g id=\"edge29\" class=\"edge\">\n<title>21. CCHL&#45;&gt;17. ACO2</title>\n<path fill=\"none\" stroke=\"#000000\" d=\"M753.2103,-261.3388C776.4508,-227.2799 820.8897,-150.293 798.2964,-87 792.1534,-69.7908 779.5478,-53.9255 767.653,-41.7584\"/>\n<polygon fill=\"#000000\" stroke=\"#000000\" points=\"770.0037,-39.1619 760.4028,-34.6816 765.1142,-44.1713 770.0037,-39.1619\"/>\n<text text-anchor=\"middle\" x=\"817.7964\" y=\"-144.8\" font-family=\"Times,serif\" font-size=\"14.00\" fill=\"#000000\">0.01</text>\n</g>\n<!-- 21. CCHL&#45;&gt;20. ECO2 -->\n<g id=\"edge36\" class=\"edge\">\n<title>21. CCHL&#45;&gt;20. ECO2</title>\n<path fill=\"none\" stroke=\"#000000\" d=\"M740.2964,-260.7078C740.2964,-230.3436 740.2964,-169.3226 740.2964,-133.3464\"/>\n<polygon fill=\"#000000\" stroke=\"#000000\" points=\"743.7965,-133.0471 740.2964,-123.0471 736.7965,-133.0471 743.7965,-133.0471\"/>\n<text text-anchor=\"middle\" x=\"753.7964\" y=\"-188.3\" font-family=\"Times,serif\" font-size=\"14.00\" fill=\"#000000\">0.22</text>\n</g>\n<!-- 20. ECO2&#45;&gt;17. ACO2 -->\n<g id=\"edge28\" class=\"edge\">\n<title>20. ECO2&#45;&gt;17. ACO2</title>\n<path fill=\"none\" stroke=\"#000000\" d=\"M740.2964,-86.9735C740.2964,-75.1918 740.2964,-59.5607 740.2964,-46.1581\"/>\n<polygon fill=\"#000000\" stroke=\"#000000\" points=\"743.7965,-46.0033 740.2964,-36.0034 736.7965,-46.0034 743.7965,-46.0033\"/>\n<text text-anchor=\"middle\" x=\"753.7964\" y=\"-57.8\" font-family=\"Times,serif\" font-size=\"14.00\" fill=\"#000000\">0.10</text>\n</g>\n</g>\n</svg>\n"
          },
          "metadata": {},
          "execution_count": 19
        }
      ]
    },
    {
      "cell_type": "code",
      "metadata": {
        "colab": {
          "base_uri": "https://localhost:8080/"
        },
        "id": "-ArOzSttfrYQ",
        "outputId": "be2288dd-0812-433d-b424-bb274b2cdeb2"
      },
      "source": [
        "from sklearn.linear_model import LinearRegression\n",
        "\n",
        "target = 20 # ECO2\n",
        "features = [i for i in range(X.shape[1]) if i != target]\n",
        "reg = LinearRegression()\n",
        "reg.fit(X.iloc[:, features], X.iloc[:, target])"
      ],
      "execution_count": null,
      "outputs": [
        {
          "output_type": "execute_result",
          "data": {
            "text/plain": [
              "LinearRegression(copy_X=True, fit_intercept=True, n_jobs=None, normalize=False)"
            ]
          },
          "metadata": {},
          "execution_count": 20
        }
      ]
    },
    {
      "cell_type": "code",
      "metadata": {
        "colab": {
          "base_uri": "https://localhost:8080/",
          "height": 726
        },
        "id": "V77VI7PufrqO",
        "outputId": "16611493-3a6b-4555-83ac-752c4463d8d0"
      },
      "source": [
        "ce = lingam.CausalEffect(model)\n",
        "effects = ce.estimate_effects_on_prediction(X, target, reg)\n",
        "\n",
        "df_effects = pd.DataFrame()\n",
        "df_effects['feature'] = X.columns\n",
        "df_effects['effect_plus'] = effects[:, 0]\n",
        "df_effects['effect_minus'] = effects[:, 1]\n",
        "df_effects"
      ],
      "execution_count": null,
      "outputs": [
        {
          "output_type": "execute_result",
          "data": {
            "text/html": [
              "<div>\n",
              "<style scoped>\n",
              "    .dataframe tbody tr th:only-of-type {\n",
              "        vertical-align: middle;\n",
              "    }\n",
              "\n",
              "    .dataframe tbody tr th {\n",
              "        vertical-align: top;\n",
              "    }\n",
              "\n",
              "    .dataframe thead th {\n",
              "        text-align: right;\n",
              "    }\n",
              "</style>\n",
              "<table border=\"1\" class=\"dataframe\">\n",
              "  <thead>\n",
              "    <tr style=\"text-align: right;\">\n",
              "      <th></th>\n",
              "      <th>feature</th>\n",
              "      <th>effect_plus</th>\n",
              "      <th>effect_minus</th>\n",
              "    </tr>\n",
              "  </thead>\n",
              "  <tbody>\n",
              "    <tr>\n",
              "      <th>0</th>\n",
              "      <td>PMB</td>\n",
              "      <td>0.169345</td>\n",
              "      <td>0.169345</td>\n",
              "    </tr>\n",
              "    <tr>\n",
              "      <th>1</th>\n",
              "      <td>INT</td>\n",
              "      <td>0.037287</td>\n",
              "      <td>0.037287</td>\n",
              "    </tr>\n",
              "    <tr>\n",
              "      <th>2</th>\n",
              "      <td>DISC</td>\n",
              "      <td>0.005330</td>\n",
              "      <td>0.005330</td>\n",
              "    </tr>\n",
              "    <tr>\n",
              "      <th>3</th>\n",
              "      <td>KINK</td>\n",
              "      <td>651.397724</td>\n",
              "      <td>651.397724</td>\n",
              "    </tr>\n",
              "    <tr>\n",
              "      <th>4</th>\n",
              "      <td>MVS</td>\n",
              "      <td>0.050625</td>\n",
              "      <td>0.050625</td>\n",
              "    </tr>\n",
              "    <tr>\n",
              "      <th>5</th>\n",
              "      <td>FIO2</td>\n",
              "      <td>0.009629</td>\n",
              "      <td>0.009629</td>\n",
              "    </tr>\n",
              "    <tr>\n",
              "      <th>6</th>\n",
              "      <td>APL</td>\n",
              "      <td>0.019900</td>\n",
              "      <td>0.019900</td>\n",
              "    </tr>\n",
              "    <tr>\n",
              "      <th>7</th>\n",
              "      <td>ANES</td>\n",
              "      <td>0.002551</td>\n",
              "      <td>0.002551</td>\n",
              "    </tr>\n",
              "    <tr>\n",
              "      <th>8</th>\n",
              "      <td>SHNT</td>\n",
              "      <td>0.976677</td>\n",
              "      <td>0.976677</td>\n",
              "    </tr>\n",
              "    <tr>\n",
              "      <th>9</th>\n",
              "      <td>PAP</td>\n",
              "      <td>0.164758</td>\n",
              "      <td>0.164758</td>\n",
              "    </tr>\n",
              "    <tr>\n",
              "      <th>10</th>\n",
              "      <td>TPR</td>\n",
              "      <td>0.010875</td>\n",
              "      <td>0.010875</td>\n",
              "    </tr>\n",
              "    <tr>\n",
              "      <th>11</th>\n",
              "      <td>VMCH</td>\n",
              "      <td>674.160212</td>\n",
              "      <td>674.160212</td>\n",
              "    </tr>\n",
              "    <tr>\n",
              "      <th>12</th>\n",
              "      <td>VTUB</td>\n",
              "      <td>682.653461</td>\n",
              "      <td>682.653461</td>\n",
              "    </tr>\n",
              "    <tr>\n",
              "      <th>13</th>\n",
              "      <td>PRSS</td>\n",
              "      <td>0.047484</td>\n",
              "      <td>0.047484</td>\n",
              "    </tr>\n",
              "    <tr>\n",
              "      <th>14</th>\n",
              "      <td>VLNG</td>\n",
              "      <td>13.549575</td>\n",
              "      <td>13.549575</td>\n",
              "    </tr>\n",
              "    <tr>\n",
              "      <th>15</th>\n",
              "      <td>VALV</td>\n",
              "      <td>768.411152</td>\n",
              "      <td>768.411152</td>\n",
              "    </tr>\n",
              "    <tr>\n",
              "      <th>16</th>\n",
              "      <td>MINV</td>\n",
              "      <td>293.821398</td>\n",
              "      <td>293.821398</td>\n",
              "    </tr>\n",
              "    <tr>\n",
              "      <th>17</th>\n",
              "      <td>ACO2</td>\n",
              "      <td>1134.495981</td>\n",
              "      <td>1134.495981</td>\n",
              "    </tr>\n",
              "    <tr>\n",
              "      <th>18</th>\n",
              "      <td>PVS</td>\n",
              "      <td>1014.853262</td>\n",
              "      <td>1014.853262</td>\n",
              "    </tr>\n",
              "    <tr>\n",
              "      <th>19</th>\n",
              "      <td>SAO2</td>\n",
              "      <td>0.081895</td>\n",
              "      <td>0.081895</td>\n",
              "    </tr>\n",
              "    <tr>\n",
              "      <th>20</th>\n",
              "      <td>ECO2</td>\n",
              "      <td>958.297732</td>\n",
              "      <td>958.297732</td>\n",
              "    </tr>\n",
              "    <tr>\n",
              "      <th>21</th>\n",
              "      <td>CCHL</td>\n",
              "      <td>987.116729</td>\n",
              "      <td>987.116729</td>\n",
              "    </tr>\n",
              "  </tbody>\n",
              "</table>\n",
              "</div>"
            ],
            "text/plain": [
              "   feature  effect_plus  effect_minus\n",
              "0      PMB     0.169345      0.169345\n",
              "1      INT     0.037287      0.037287\n",
              "2     DISC     0.005330      0.005330\n",
              "3     KINK   651.397724    651.397724\n",
              "4      MVS     0.050625      0.050625\n",
              "5     FIO2     0.009629      0.009629\n",
              "6      APL     0.019900      0.019900\n",
              "7     ANES     0.002551      0.002551\n",
              "8     SHNT     0.976677      0.976677\n",
              "9      PAP     0.164758      0.164758\n",
              "10     TPR     0.010875      0.010875\n",
              "11    VMCH   674.160212    674.160212\n",
              "12    VTUB   682.653461    682.653461\n",
              "13    PRSS     0.047484      0.047484\n",
              "14    VLNG    13.549575     13.549575\n",
              "15    VALV   768.411152    768.411152\n",
              "16    MINV   293.821398    293.821398\n",
              "17    ACO2  1134.495981   1134.495981\n",
              "18     PVS  1014.853262   1014.853262\n",
              "19    SAO2     0.081895      0.081895\n",
              "20    ECO2   958.297732    958.297732\n",
              "21    CCHL   987.116729    987.116729"
            ]
          },
          "metadata": {},
          "execution_count": 21
        }
      ]
    },
    {
      "cell_type": "code",
      "metadata": {
        "colab": {
          "base_uri": "https://localhost:8080/"
        },
        "id": "k8M0eML8gwp8",
        "outputId": "5943bab0-b20c-4a26-9fc9-2a46ebac0383"
      },
      "source": [
        "print(df_effects.sort_values(by='effect_plus', ascending=False))"
      ],
      "execution_count": null,
      "outputs": [
        {
          "output_type": "stream",
          "name": "stdout",
          "text": [
            "   feature  effect_plus  effect_minus\n",
            "17    ACO2  1134.495981   1134.495981\n",
            "18     PVS  1014.853262   1014.853262\n",
            "21    CCHL   987.116729    987.116729\n",
            "20    ECO2   958.297732    958.297732\n",
            "15    VALV   768.411152    768.411152\n",
            "12    VTUB   682.653461    682.653461\n",
            "11    VMCH   674.160212    674.160212\n",
            "3     KINK   651.397724    651.397724\n",
            "16    MINV   293.821398    293.821398\n",
            "14    VLNG    13.549575     13.549575\n",
            "8     SHNT     0.976677      0.976677\n",
            "0      PMB     0.169345      0.169345\n",
            "9      PAP     0.164758      0.164758\n",
            "19    SAO2     0.081895      0.081895\n",
            "4      MVS     0.050625      0.050625\n",
            "13    PRSS     0.047484      0.047484\n",
            "1      INT     0.037287      0.037287\n",
            "6      APL     0.019900      0.019900\n",
            "10     TPR     0.010875      0.010875\n",
            "5     FIO2     0.009629      0.009629\n",
            "2     DISC     0.005330      0.005330\n",
            "7     ANES     0.002551      0.002551\n"
          ]
        }
      ]
    },
    {
      "cell_type": "code",
      "metadata": {
        "colab": {
          "base_uri": "https://localhost:8080/"
        },
        "id": "HrwNZZr3Vogz",
        "outputId": "02f2c0e0-7d36-4aba-8548-f4427322ee15"
      },
      "source": [
        "max_index = np.unravel_index(np.argmax(effects), effects.shape)\n",
        "print(X.columns[max_index[0]])"
      ],
      "execution_count": null,
      "outputs": [
        {
          "output_type": "stream",
          "name": "stdout",
          "text": [
            "ACO2\n"
          ]
        }
      ]
    },
    {
      "cell_type": "code",
      "metadata": {
        "colab": {
          "base_uri": "https://localhost:8080/"
        },
        "id": "6uT8cvclgCie",
        "outputId": "25151342-6c9f-4b3d-98c4-60f2ac6d6666"
      },
      "source": [
        "# To estimate of the intervention such that the expectation of the prediction of \n",
        "# the post-intervention observations is equal or close to a specified value, we use estimate_optimal_intervention method of CausalEffect.\n",
        "\n",
        "# aco2 = 15\n",
        "c = ce.estimate_optimal_intervention(X, target, reg, 1, 15)\n",
        "print(f'Optimal intervention: {c:.3f}')"
      ],
      "execution_count": null,
      "outputs": [
        {
          "output_type": "stream",
          "name": "stdout",
          "text": [
            "Optimal intervention: -4.465\n"
          ]
        }
      ]
    },
    {
      "cell_type": "code",
      "metadata": {
        "colab": {
          "base_uri": "https://localhost:8080/"
        },
        "id": "ZOOcIhXKgCo9",
        "outputId": "eb775e4b-b052-49dd-9a00-51372a50c899"
      },
      "source": [
        "# aco2 = 21\n",
        "c = ce.estimate_optimal_intervention(X, target, reg, 1, 21)\n",
        "print(f'Optimal intervention: {c:.3f}')"
      ],
      "execution_count": null,
      "outputs": [
        {
          "output_type": "stream",
          "name": "stdout",
          "text": [
            "Optimal intervention: -4.522\n"
          ]
        }
      ]
    },
    {
      "cell_type": "code",
      "metadata": {
        "colab": {
          "base_uri": "https://localhost:8080/"
        },
        "id": "B0lDq6WDgC0k",
        "outputId": "72df2716-4a76-40e1-dd1c-db5d088e3a84"
      },
      "source": [
        "# aco2 = 30\n",
        "c = ce.estimate_optimal_intervention(X, target, reg, 1, 30)\n",
        "print(f'Optimal intervention: {c:.3f}')"
      ],
      "execution_count": null,
      "outputs": [
        {
          "output_type": "stream",
          "name": "stdout",
          "text": [
            "Optimal intervention: -4.608\n"
          ]
        }
      ]
    }
  ]
}