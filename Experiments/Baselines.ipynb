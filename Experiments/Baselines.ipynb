{
  "nbformat": 4,
  "nbformat_minor": 0,
  "metadata": {
    "colab": {
      "name": "DiscreteDataset_Baselines.ipynb",
      "provenance": []
    },
    "kernelspec": {
      "name": "python3",
      "display_name": "Python 3"
    },
    "language_info": {
      "name": "python"
    }
  },
  "cells": [
    {
      "cell_type": "code",
      "metadata": {
        "colab": {
          "base_uri": "https://localhost:8080/"
        },
        "id": "pROssN-E-cVQ",
        "outputId": "5e9718c4-5cbd-4de0-d5a4-d33b08541ff2"
      },
      "source": [
        "import pandas as pd\n",
        "import csv\n",
        "import numpy as np\n",
        "import os\n",
        "from google.colab import drive\n",
        "import matplotlib.pyplot as plt\n",
        "import re\n",
        "import sys\n",
        "from sklearn.model_selection import train_test_split\n",
        "from sklearn.preprocessing import LabelEncoder\n",
        "from sklearn.metrics import classification_report\n",
        "\n",
        "drive.mount(\"/content/drive\")"
      ],
      "execution_count": null,
      "outputs": [
        {
          "output_type": "stream",
          "name": "stdout",
          "text": [
            "Mounted at /content/drive\n"
          ]
        }
      ]
    },
    {
      "cell_type": "code",
      "metadata": {
        "id": "51F14tihEo5l"
      },
      "source": [
        "# df1 = pd.DataFrame(columns=['train', 'softINT','hardIntKink'],index=['PMB', 'INT', 'DISC', 'KINK', 'MVS', 'FIO2', 'APL', 'ANES', 'SHNT',\n",
        "#        'PAP', 'TPR', 'VMCH', 'VTUB', 'PRSS', 'VLNG', 'VALV', 'MINV', 'ACO2',\n",
        "#        'PVS', 'SAO2', 'CCHL'])\n",
        "# df2 = pd.DataFrame(columns=['train', 'softINT','hardIntKink'],index=['PMB', 'INT', 'DISC', 'KINK', 'MVS', 'FIO2', 'APL', 'ANES', 'SHNT',\n",
        "#        'PAP', 'TPR', 'VMCH', 'VTUB', 'PRSS', 'VLNG', 'VALV', 'MINV', 'ACO2',\n",
        "#        'PVS', 'SAO2', 'CCHL'])\n",
        "\n",
        "df1 = pd.DataFrame(columns=['train', 'softINT','hardIntKink'],index=['ACO2', 'VLNG'])\n",
        "df2 = pd.DataFrame(columns=['train', 'softINT','hardIntKink'],index=['ACO2', 'VLNG'])"
      ],
      "execution_count": null,
      "outputs": []
    },
    {
      "cell_type": "code",
      "metadata": {
        "id": "F8p0PKYV-n9L"
      },
      "source": [
        "# ALARM TESTING LINEAR\n",
        "\n",
        "# # Testing Data 1 -> Soft Int\n",
        "# df = pd.read_csv(\"/content/drive/MyDrive/TL3_CTrain2.csv\")\n",
        "# df = df.apply(LabelEncoder().fit_transform)\n",
        "\n",
        "# # X_test = df.drop(['ECO2'],axis = 1)\n",
        "# X_test = df[['ACO2', 'VLNG']]\n",
        "# y_test = df['ECO2']\n",
        "\n",
        "# # Testing Data 2 -> Hard Int & Kink\n",
        "# df = pd.read_csv(\"/content/drive/MyDrive/TL3_CTest.csv\")\n",
        "# df = df.apply(LabelEncoder().fit_transform)\n",
        "\n",
        "# # X_test = df.drop(['ECO2'],axis = 1)\n",
        "# X_test = df[['ACO2', 'VLNG']]\n",
        "# y_test = df['ECO2']\n"
      ],
      "execution_count": null,
      "outputs": []
    },
    {
      "cell_type": "code",
      "metadata": {
        "id": "_I4vhHAx-n7T"
      },
      "source": [
        "# ALARM DATASET\n",
        "\n",
        "# df = pd.read_csv(\"/content/drive/MyDrive/TL3_CTrain1.csv\")\n",
        "# df = pd.read_csv(\"/content/drive/MyDrive/TL3_CTrain2.csv\")\n",
        "df = pd.read_csv(\"/content/drive/MyDrive/TL3_CTest.csv\")\n",
        "df = df.apply(LabelEncoder().fit_transform)\n",
        "\n",
        "# X_train,X_test,y_train,y_test = train_test_split(df.drop(['ECO2'],axis = 1), df['ECO2'],test_size=0.2)\n",
        "X_train,X_test,y_train,y_test = train_test_split(df[['ACO2', 'VLNG']], df['ECO2'],test_size=0.2)\n"
      ],
      "execution_count": null,
      "outputs": []
    },
    {
      "cell_type": "code",
      "metadata": {
        "id": "aSPm0XSE-oBf"
      },
      "source": [
        "# Adaboost classifier\n",
        "\n",
        "from sklearn.ensemble import AdaBoostClassifier\n",
        "from sklearn import metrics\n",
        "\n",
        "abc = AdaBoostClassifier(n_estimators = 1000,random_state=49)\n",
        "\n",
        "model = abc.fit(X_train, y_train)\n"
      ],
      "execution_count": null,
      "outputs": []
    },
    {
      "cell_type": "code",
      "metadata": {
        "colab": {
          "base_uri": "https://localhost:8080/"
        },
        "id": "CB1alRKD_4lH",
        "outputId": "ec96756c-69d8-447c-bc2e-209b51302932"
      },
      "source": [
        "y_pred = model.predict(X_test)\n",
        "print(\"Accuracy:\",metrics.accuracy_score(y_test, y_pred))\n",
        "\n",
        "print(classification_report(y_test, y_pred))"
      ],
      "execution_count": null,
      "outputs": [
        {
          "output_type": "stream",
          "name": "stdout",
          "text": [
            "Accuracy: 0.885\n",
            "              precision    recall  f1-score   support\n",
            "\n",
            "           0       0.93      0.73      0.82        71\n",
            "           1       0.87      0.97      0.92       129\n",
            "\n",
            "    accuracy                           0.89       200\n",
            "   macro avg       0.90      0.85      0.87       200\n",
            "weighted avg       0.89      0.89      0.88       200\n",
            "\n"
          ]
        }
      ]
    },
    {
      "cell_type": "code",
      "metadata": {
        "colab": {
          "base_uri": "https://localhost:8080/"
        },
        "id": "1tmCp-CL-oC5",
        "outputId": "8bb69d24-f308-482a-b312-d0fdbea7a649"
      },
      "source": [
        "importances = model.feature_importances_\n",
        "importances\n",
        "# import matplotlib.pyplot as plt\n",
        "# indices = np.argsort(importances)\n",
        "\n",
        "# fig, ax = plt.subplots(figsize=(8, 8))\n",
        "\n",
        "# ax.barh(range(len(importances)), importances[indices])\n",
        "# ax.set_yticks(range(len(importances)))\n",
        "# _ = ax.set_yticklabels(np.array(X_train.columns)[indices])\n"
      ],
      "execution_count": null,
      "outputs": [
        {
          "output_type": "execute_result",
          "data": {
            "text/plain": [
              "array([0.461, 0.535])"
            ]
          },
          "metadata": {},
          "execution_count": 29
        }
      ]
    },
    {
      "cell_type": "code",
      "metadata": {
        "id": "r8WZrAGAE2G-"
      },
      "source": [
        "for i in range(2):\n",
        "  df1['hardIntKink'][i] = importances[i]"
      ],
      "execution_count": null,
      "outputs": []
    },
    {
      "cell_type": "code",
      "metadata": {
        "colab": {
          "base_uri": "https://localhost:8080/",
          "height": 110
        },
        "id": "x__kxMfJE4pE",
        "outputId": "d787c131-eb9d-4672-83da-1ac4bc889f1a"
      },
      "source": [
        "df1"
      ],
      "execution_count": null,
      "outputs": [
        {
          "output_type": "execute_result",
          "data": {
            "text/html": [
              "<div>\n",
              "<style scoped>\n",
              "    .dataframe tbody tr th:only-of-type {\n",
              "        vertical-align: middle;\n",
              "    }\n",
              "\n",
              "    .dataframe tbody tr th {\n",
              "        vertical-align: top;\n",
              "    }\n",
              "\n",
              "    .dataframe thead th {\n",
              "        text-align: right;\n",
              "    }\n",
              "</style>\n",
              "<table border=\"1\" class=\"dataframe\">\n",
              "  <thead>\n",
              "    <tr style=\"text-align: right;\">\n",
              "      <th></th>\n",
              "      <th>train</th>\n",
              "      <th>softINT</th>\n",
              "      <th>hardIntKink</th>\n",
              "    </tr>\n",
              "  </thead>\n",
              "  <tbody>\n",
              "    <tr>\n",
              "      <th>ACO2</th>\n",
              "      <td>0.005</td>\n",
              "      <td>0.042</td>\n",
              "      <td>0.461</td>\n",
              "    </tr>\n",
              "    <tr>\n",
              "      <th>VLNG</th>\n",
              "      <td>0.931</td>\n",
              "      <td>0.926</td>\n",
              "      <td>0.535</td>\n",
              "    </tr>\n",
              "  </tbody>\n",
              "</table>\n",
              "</div>"
            ],
            "text/plain": [
              "      train softINT hardIntKink\n",
              "ACO2  0.005   0.042       0.461\n",
              "VLNG  0.931   0.926       0.535"
            ]
          },
          "metadata": {},
          "execution_count": 31
        }
      ]
    },
    {
      "cell_type": "code",
      "metadata": {
        "id": "3gAQxvsf-oG1"
      },
      "source": [
        "# Random Forest Classifier\n",
        "\n",
        "from sklearn.ensemble import RandomForestClassifier\n",
        "from sklearn import metrics \n",
        "\n",
        "clf = RandomForestClassifier(n_estimators = 1000,random_state=49,class_weight='balanced')  \n",
        "model2 = clf.fit(X_train, y_train)"
      ],
      "execution_count": null,
      "outputs": []
    },
    {
      "cell_type": "code",
      "metadata": {
        "colab": {
          "base_uri": "https://localhost:8080/"
        },
        "id": "y443sgxD-oIH",
        "outputId": "60bd813a-53cb-428d-f9d8-0176171c6ba2"
      },
      "source": [
        "y_pred = model2.predict(X_test)\n",
        "  \n",
        "print(\"ACCURACY OF RANDOM FOREST THE MODEL: \", metrics.accuracy_score(y_test, y_pred))\n",
        "\n",
        "print(classification_report(y_test, y_pred))"
      ],
      "execution_count": null,
      "outputs": [
        {
          "output_type": "stream",
          "name": "stdout",
          "text": [
            "ACCURACY OF RANDOM FOREST THE MODEL:  0.885\n",
            "              precision    recall  f1-score   support\n",
            "\n",
            "           0       0.93      0.73      0.82        71\n",
            "           1       0.87      0.97      0.92       129\n",
            "\n",
            "    accuracy                           0.89       200\n",
            "   macro avg       0.90      0.85      0.87       200\n",
            "weighted avg       0.89      0.89      0.88       200\n",
            "\n"
          ]
        }
      ]
    },
    {
      "cell_type": "code",
      "metadata": {
        "colab": {
          "base_uri": "https://localhost:8080/"
        },
        "id": "9gWj-l9S-oL_",
        "outputId": "336e2ad3-03df-4607-caa1-69f6218765f3"
      },
      "source": [
        "importances = model2.feature_importances_\n",
        "importances\n",
        "# import matplotlib.pyplot as plt\n",
        "# indices = np.argsort(importances)\n",
        "\n",
        "# fig, ax = plt.subplots(figsize=(8, 8))\n",
        "# ax.barh(range(len(importances)), importances[indices])\n",
        "# ax.set_yticks(range(len(importances)))\n",
        "# _ = ax.set_yticklabels(np.array(X_train.columns)[indices])"
      ],
      "execution_count": null,
      "outputs": [
        {
          "output_type": "execute_result",
          "data": {
            "text/plain": [
              "array([0.36372846, 0.63627154])"
            ]
          },
          "metadata": {},
          "execution_count": 34
        }
      ]
    },
    {
      "cell_type": "code",
      "metadata": {
        "id": "hMzo7NGCFABf"
      },
      "source": [
        "for i in range(2):\n",
        "  df2['hardIntKink'][i] = importances[i]"
      ],
      "execution_count": null,
      "outputs": []
    },
    {
      "cell_type": "code",
      "metadata": {
        "colab": {
          "base_uri": "https://localhost:8080/",
          "height": 110
        },
        "id": "NUg5vnq7FAOj",
        "outputId": "2feeb135-86bc-4a3a-e640-b552a30075e7"
      },
      "source": [
        "df2"
      ],
      "execution_count": null,
      "outputs": [
        {
          "output_type": "execute_result",
          "data": {
            "text/html": [
              "<div>\n",
              "<style scoped>\n",
              "    .dataframe tbody tr th:only-of-type {\n",
              "        vertical-align: middle;\n",
              "    }\n",
              "\n",
              "    .dataframe tbody tr th {\n",
              "        vertical-align: top;\n",
              "    }\n",
              "\n",
              "    .dataframe thead th {\n",
              "        text-align: right;\n",
              "    }\n",
              "</style>\n",
              "<table border=\"1\" class=\"dataframe\">\n",
              "  <thead>\n",
              "    <tr style=\"text-align: right;\">\n",
              "      <th></th>\n",
              "      <th>train</th>\n",
              "      <th>softINT</th>\n",
              "      <th>hardIntKink</th>\n",
              "    </tr>\n",
              "  </thead>\n",
              "  <tbody>\n",
              "    <tr>\n",
              "      <th>ACO2</th>\n",
              "      <td>0.519754</td>\n",
              "      <td>0.623655</td>\n",
              "      <td>0.363728</td>\n",
              "    </tr>\n",
              "    <tr>\n",
              "      <th>VLNG</th>\n",
              "      <td>0.480246</td>\n",
              "      <td>0.376345</td>\n",
              "      <td>0.636272</td>\n",
              "    </tr>\n",
              "  </tbody>\n",
              "</table>\n",
              "</div>"
            ],
            "text/plain": [
              "         train   softINT hardIntKink\n",
              "ACO2  0.519754  0.623655    0.363728\n",
              "VLNG  0.480246  0.376345    0.636272"
            ]
          },
          "metadata": {},
          "execution_count": 36
        }
      ]
    },
    {
      "cell_type": "code",
      "metadata": {
        "id": "4VDoehUPFNWx"
      },
      "source": [
        "from google.colab import files\n",
        "\n",
        "df2.to_csv(r'TL_FeatureImp_CRF.csv', header = True, index = False)\n",
        "df1.to_csv(r'TL_FeatureImp_CAda.csv', header = True, index = False)\n",
        "files.download('TL_FeatureImp_CRF.csv')\n",
        "files.download('TL_FeatureImp_CAda.csv')"
      ],
      "execution_count": null,
      "outputs": []
    },
    {
      "cell_type": "code",
      "metadata": {
        "id": "zE6yBPpLGuAY"
      },
      "source": [
        "df1n = df1.astype(float)\n",
        "df2n = df2.astype(float)\n",
        "\n",
        "df1n['SInt_diff'] = df1n['train'] - df1n['softINT']\n",
        "df1n['HIntKink_diff'] = df1n['train'] - df1n['hardIntKink']\n",
        "\n",
        "df2n['SInt_diff'] = df2n['train'] - df2n['softINT']\n",
        "df2n['HIntKink_diff'] = df2n['train'] - df2n['hardIntKink']\n",
        "\n",
        "df2n = df2n.drop(['softINT','train','hardIntKink'], axis = 1)\n",
        "df1n = df1n.drop(['softINT','train','hardIntKink'], axis = 1)"
      ],
      "execution_count": null,
      "outputs": []
    },
    {
      "cell_type": "code",
      "metadata": {
        "id": "_UGi_aYlroMc"
      },
      "source": [
        "# df1 = pd.read_csv(\"/content/drive/MyDrive/TL_FeatureImp_CRF.csv\")\n",
        "# df2 = pd.read_csv(\"/content/drive/MyDrive/TL_FeatureImp_CAda.csv\")\n",
        "\n",
        "df1 = pd.read_csv(\"/content/drive/MyDrive/TL_FeatureImp_RRF.csv\")\n",
        "df2 = pd.read_csv(\"/content/drive/MyDrive/TL_FeatureImp_RAda.csv\")\n",
        "\n",
        "df2 = df2.drop(['hardINT'], axis = 1)\n",
        "df1 = df1.drop(['hardINT'], axis = 1)\n",
        "\n",
        "df1.rename(index = {0: \"PMB\", 1:\"INT\", 2:\"DISC\",3:\"KINK\", 4:\"MVS\", 5:\"FIO2\", 6:\"APL\", 7:\"ANES\", 8:\"SHNT\", 9:\"PAP\",\n",
        "                     10:\"TPR\", 11:\"VMCH\", 12:\"VTUB\", 13:\"PRSS\", 14:\"VLNG\",15:\"VALV\", 16:\"MINV\",17:\"ACO2\",18:\"PVS\",19:\"SAO2\",20:\"CCHL\"},\n",
        "                                 inplace = True)\n",
        "df2.rename(index = {0: \"PMB\", 1:\"INT\", 2:\"DISC\",3:\"KINK\", 4:\"MVS\", 5:\"FIO2\", 6:\"APL\", 7:\"ANES\", 8:\"SHNT\", 9:\"PAP\",\n",
        "                     10:\"TPR\", 11:\"VMCH\", 12:\"VTUB\", 13:\"PRSS\", 14:\"VLNG\",15:\"VALV\", 16:\"MINV\",17:\"ACO2\",18:\"PVS\",19:\"SAO2\",20:\"CCHL\"},\n",
        "                                 inplace = True)\n",
        "\n",
        "df1.rename(columns = {'train':'Domain 1', 'softINT':'Domain 2',\n",
        "                              'hardIntKink':'Domain 3'}, inplace = True)\n",
        "df2.rename(columns = {'train':'Domain 1', 'softINT':'Domain 2',\n",
        "                              'hardIntKink':'Domain 3'}, inplace = True)\n",
        "\n",
        "df1n = df1.astype(float)\n",
        "df2n = df2.astype(float)"
      ],
      "execution_count": null,
      "outputs": []
    },
    {
      "cell_type": "code",
      "metadata": {
        "id": "-vsXyQ9J-V0c"
      },
      "source": [
        "df1n = df1n.sort_values(by=['Domain 1'], ascending=False)\n",
        "df2n = df2n.sort_values(by=['Domain 1'], ascending=False)"
      ],
      "execution_count": null,
      "outputs": []
    },
    {
      "cell_type": "code",
      "metadata": {
        "id": "r7EpU_m1romJ"
      },
      "source": [
        "a1 = df1n['Domain 1']\n",
        "a2 = df1n['Domain 2']\n",
        "a3 = df1n['Domain 3']\n",
        "\n",
        "a1=a1.sort_values(ascending=False)\n",
        "a2=a2.sort_values(ascending=False)\n",
        "a3=a3.sort_values(ascending=False)\n",
        "\n",
        "a1=a1.reset_index(drop=True)\n",
        "a2=a2.reset_index(drop=True)\n",
        "a3=a3.reset_index(drop=True)\n",
        "\n"
      ],
      "execution_count": null,
      "outputs": []
    },
    {
      "cell_type": "code",
      "metadata": {
        "colab": {
          "base_uri": "https://localhost:8080/",
          "height": 336
        },
        "id": "UBCkXyHXsEsV",
        "outputId": "e6b5942b-cd05-4103-942d-4fcf35b3a88c"
      },
      "source": [
        "colors = ['#5cb85c', '#5bc0de', '#d9534f']\n",
        "\n",
        "# plot with annotations is probably easier\n",
        "p1 = df1n.plot.bar(width=0.7, color=colors, figsize=(20, 5),title='Feature Importance using Random Forest')\n",
        "p1.set_xticklabels(p1.get_xticklabels(), rotation=0)\n",
        "\n",
        "for p in p1.patches:\n",
        "  # if p.get_height() > 0.0001:\n",
        "    # p1.annotate(f'{p.get_height():0.2f}', (p.get_x() + p.get_width() / 2., p.get_height()), ha = 'center', va = 'center', xytext = (0, 10), textcoords = 'offset points')\n",
        "    n = p.get_height()\n",
        "    # print(n)\n",
        "    r = 0\n",
        "    if (a1[a1 == n].any()): r = a1[a1 == n].index[0]+1\n",
        "    if (a2[a2 == n].any()): r = a2[a2 == n].index[0]+1\n",
        "    if (a3[a3 == n].any()): r = a3[a3 == n].index[0]+1\n",
        "\n",
        "    p1.annotate(r, (p.get_x() + p.get_width() / 2., p.get_height()), ha = 'center', va = 'center', xytext = (0, 10), textcoords = 'offset points')"
      ],
      "execution_count": null,
      "outputs": [
        {
          "output_type": "display_data",
          "data": {
            "image/png": "[encoded data removed]",
            "text/plain": [
              "<Figure size 1440x360 with 1 Axes>"
            ]
          },
          "metadata": {
            "needs_background": "light"
          }
        }
      ]
    },
    {
      "cell_type": "code",
      "metadata": {
        "colab": {
          "base_uri": "https://localhost:8080/",
          "height": 353
        },
        "id": "QNZX_ukv_OLc",
        "outputId": "7cc20ed6-96df-4a8e-d402-7a0ae82d6bdd"
      },
      "source": [
        "colors = ['#5bc0de', '#d9534f']\n",
        "\n",
        "df = df1n\n",
        "df['SInt_diff'] = df['train'] - df['softINT']\n",
        "df['HIntKink_diff'] = df['train'] - df['hardIntKink']\n",
        "df = df.drop(['softINT','train','hardIntKink'], axis = 1)\n",
        "\n",
        "# plot with annotations is probably easier\n",
        "p1 = df.plot.bar(width=0.7, color=colors,rot=0, figsize=(20, 5),title='Feature Importance Differences using Random Forest')\n",
        "plt.axhline(0, color='black')"
      ],
      "execution_count": null,
      "outputs": [
        {
          "output_type": "execute_result",
          "data": {
            "text/plain": [
              "<matplotlib.lines.Line2D at 0x7f6035c265d0>"
            ]
          },
          "metadata": {},
          "execution_count": 14
        },
        {
          "output_type": "display_data",
          "data": {
            "image/png": "[encoded data removed]",
            "text/plain": [
              "<Figure size 1440x360 with 1 Axes>"
            ]
          },
          "metadata": {
            "needs_background": "light"
          }
        }
      ]
    },
    {
      "cell_type": "code",
      "metadata": {
        "colab": {
          "base_uri": "https://localhost:8080/",
          "height": 444
        },
        "id": "PoTs7RkD_Od-",
        "outputId": "6658a3ea-5a15-4e3f-f870-0a2c340ede00"
      },
      "source": [
        "colors = ['#5cb85c', '#5bc0de', '#d9534f']\n",
        "\n",
        "dfn = df1n.loc[['VALV','VLNG','INT','KINK','ACO2','DISC','VTUB','VMCH','MVS']]\n",
        "dfn = dfn.sort_values(by=['Domain 1'], ascending=False)\n",
        "\n",
        "# plot with annotations is probably easier\n",
        "p1 = dfn.plot.bar(width=0.7, color=colors, figsize=(20, 7),title='Feature Importance using Random Forest for Causal Path variables (Continuous Data)')\n",
        "p1.set_xticklabels(p1.get_xticklabels(), rotation=0)\n",
        "\n",
        "for p in p1.patches:\n",
        "  # if p.get_height() > 0.0001:\n",
        "    # p1.annotate(f'{p.get_height():0.2f}', (p.get_x() + p.get_width() / 2., p.get_height()), ha = 'center', va = 'center', xytext = (0, 10), textcoords = 'offset points')\n",
        "    n = p.get_height()\n",
        "    # print(n)\n",
        "    r = 0\n",
        "    if (a1[a1 == n].any()): r = a1[a1 == n].index[0]+1\n",
        "    if (a2[a2 == n].any()): r = a2[a2 == n].index[0]+1\n",
        "    if (a3[a3 == n].any()): r = a3[a3 == n].index[0]+1\n",
        "\n",
        "    p1.annotate(r, (p.get_x() + p.get_width() / 2., p.get_height()), ha = 'center', va = 'center', xytext = (0, 10), textcoords = 'offset points')"
      ],
      "execution_count": null,
      "outputs": [
        {
          "output_type": "display_data",
          "data": {
            "image/png": "[encoded data removed]",
            "text/plain": [
              "<Figure size 1440x504 with 1 Axes>"
            ]
          },
          "metadata": {
            "needs_background": "light"
          }
        }
      ]
    },
    {
      "cell_type": "code",
      "metadata": {
        "colab": {
          "base_uri": "https://localhost:8080/",
          "height": 17
        },
        "id": "UiM_8xldzZOY",
        "outputId": "6c6dac1c-389c-4060-c5a3-51e794580c63"
      },
      "source": [
        "from google.colab import files\n",
        "p1.get_figure().savefig('TLp_RRF.pdf')\n",
        "\n",
        "files.download('TLp_RRF.pdf')"
      ],
      "execution_count": null,
      "outputs": [
        {
          "output_type": "display_data",
          "data": {
            "application/javascript": [
              "\n",
              "    async function download(id, filename, size) {\n",
              "      if (!google.colab.kernel.accessAllowed) {\n",
              "        return;\n",
              "      }\n",
              "      const div = document.createElement('div');\n",
              "      const label = document.createElement('label');\n",
              "      label.textContent = `Downloading \"${filename}\": `;\n",
              "      div.appendChild(label);\n",
              "      const progress = document.createElement('progress');\n",
              "      progress.max = size;\n",
              "      div.appendChild(progress);\n",
              "      document.body.appendChild(div);\n",
              "\n",
              "      const buffers = [];\n",
              "      let downloaded = 0;\n",
              "\n",
              "      const channel = await google.colab.kernel.comms.open(id);\n",
              "      // Send a message to notify the kernel that we're ready.\n",
              "      channel.send({})\n",
              "\n",
              "      for await (const message of channel.messages) {\n",
              "        // Send a message to notify the kernel that we're ready.\n",
              "        channel.send({})\n",
              "        if (message.buffers) {\n",
              "          for (const buffer of message.buffers) {\n",
              "            buffers.push(buffer);\n",
              "            downloaded += buffer.byteLength;\n",
              "            progress.value = downloaded;\n",
              "          }\n",
              "        }\n",
              "      }\n",
              "      const blob = new Blob(buffers, {type: 'application/binary'});\n",
              "      const a = document.createElement('a');\n",
              "      a.href = window.URL.createObjectURL(blob);\n",
              "      a.download = filename;\n",
              "      div.appendChild(a);\n",
              "      a.click();\n",
              "      div.remove();\n",
              "    }\n",
              "  "
            ],
            "text/plain": [
              "<IPython.core.display.Javascript object>"
            ]
          },
          "metadata": {}
        },
        {
          "output_type": "display_data",
          "data": {
            "application/javascript": [
              "download(\"download_8477af10-0c0c-41d5-af31-aced7a3e063d\", \"TLp_RRF.pdf\", 19879)"
            ],
            "text/plain": [
              "<IPython.core.display.Javascript object>"
            ]
          },
          "metadata": {}
        }
      ]
    },
    {
      "cell_type": "code",
      "metadata": {
        "colab": {
          "base_uri": "https://localhost:8080/",
          "height": 353
        },
        "id": "YLQU9V_TDWYD",
        "outputId": "1f8a818f-894b-4450-aaea-5795d9387275"
      },
      "source": [
        "colors = ['#5bc0de', '#d9534f']\n",
        "\n",
        "df = df1n.loc[['VALV','VLNG','INT','KINK','ACO2','DISC','VTUB','VMCH','MVS']]\n",
        "df = df.sort_values(by=['Domain 1'], ascending=False)\n",
        "df['SInt_diff'] = df['Domain 1'] - df['Domain 2']\n",
        "df['HIntKink_diff'] = df['Domain 1'] - df['Domain 3']\n",
        "df = df.drop(['Domain 2','Domain 1','Domain 3'], axis = 1)\n",
        "\n",
        "# plot with annotations is probably easier\n",
        "p1 = df.plot.bar(width=0.7, color=colors, figsize=(15, 5),title='Feature Importance Difference using Random Forest for Causal Path variables (Continuous Data)')\n",
        "p1.set_xticklabels(p1.get_xticklabels(), rotation=0)\n",
        "plt.axhline(0, color='black')\n"
      ],
      "execution_count": null,
      "outputs": [
        {
          "output_type": "execute_result",
          "data": {
            "text/plain": [
              "<matplotlib.lines.Line2D at 0x7f88c5140a50>"
            ]
          },
          "metadata": {},
          "execution_count": 28
        },
        {
          "output_type": "display_data",
          "data": {
            "image/png": "[encoded data removed]",
            "text/plain": [
              "<Figure size 1080x360 with 1 Axes>"
            ]
          },
          "metadata": {
            "needs_background": "light"
          }
        }
      ]
    },
    {
      "cell_type": "code",
      "metadata": {
        "colab": {
          "base_uri": "https://localhost:8080/",
          "height": 17
        },
        "id": "DQlQNohKDXTc",
        "outputId": "1fead1db-b3e3-4c30-cba5-9121157892ea"
      },
      "source": [
        "from google.colab import files\n",
        "p1.get_figure().savefig('TLp_RRF_diff.pdf')\n",
        "\n",
        "files.download('TLp_RRF_diff.pdf')"
      ],
      "execution_count": null,
      "outputs": [
        {
          "output_type": "display_data",
          "data": {
            "application/javascript": [
              "\n",
              "    async function download(id, filename, size) {\n",
              "      if (!google.colab.kernel.accessAllowed) {\n",
              "        return;\n",
              "      }\n",
              "      const div = document.createElement('div');\n",
              "      const label = document.createElement('label');\n",
              "      label.textContent = `Downloading \"${filename}\": `;\n",
              "      div.appendChild(label);\n",
              "      const progress = document.createElement('progress');\n",
              "      progress.max = size;\n",
              "      div.appendChild(progress);\n",
              "      document.body.appendChild(div);\n",
              "\n",
              "      const buffers = [];\n",
              "      let downloaded = 0;\n",
              "\n",
              "      const channel = await google.colab.kernel.comms.open(id);\n",
              "      // Send a message to notify the kernel that we're ready.\n",
              "      channel.send({})\n",
              "\n",
              "      for await (const message of channel.messages) {\n",
              "        // Send a message to notify the kernel that we're ready.\n",
              "        channel.send({})\n",
              "        if (message.buffers) {\n",
              "          for (const buffer of message.buffers) {\n",
              "            buffers.push(buffer);\n",
              "            downloaded += buffer.byteLength;\n",
              "            progress.value = downloaded;\n",
              "          }\n",
              "        }\n",
              "      }\n",
              "      const blob = new Blob(buffers, {type: 'application/binary'});\n",
              "      const a = document.createElement('a');\n",
              "      a.href = window.URL.createObjectURL(blob);\n",
              "      a.download = filename;\n",
              "      div.appendChild(a);\n",
              "      a.click();\n",
              "      div.remove();\n",
              "    }\n",
              "  "
            ],
            "text/plain": [
              "<IPython.core.display.Javascript object>"
            ]
          },
          "metadata": {}
        },
        {
          "output_type": "display_data",
          "data": {
            "application/javascript": [
              "download(\"download_bad3f1d2-4d9c-43fa-89a8-bdc2613ea6de\", \"TLp_RRF_diff.pdf\", 17599)"
            ],
            "text/plain": [
              "<IPython.core.display.Javascript object>"
            ]
          },
          "metadata": {}
        }
      ]
    },
    {
      "cell_type": "code",
      "metadata": {
        "id": "pAmRcFAYsOua"
      },
      "source": [
        "a1 = df2n['Domain 1']\n",
        "a2 = df2n['Domain 2']\n",
        "a3 = df2n['Domain 3']\n",
        "\n",
        "a1=a1.sort_values(ascending=False)\n",
        "a2=a2.sort_values(ascending=False)\n",
        "a3=a3.sort_values(ascending=False)\n",
        "\n",
        "a1=a1.reset_index(drop=True)\n",
        "a2=a2.reset_index(drop=True)\n",
        "a3=a3.reset_index(drop=True)\n",
        "\n"
      ],
      "execution_count": null,
      "outputs": []
    },
    {
      "cell_type": "code",
      "metadata": {
        "colab": {
          "base_uri": "https://localhost:8080/",
          "height": 444
        },
        "id": "coOXFLv936eO",
        "outputId": "11a7521f-9aa4-44ad-fcde-bc5a0c20195a"
      },
      "source": [
        "colors = ['#5cb85c', '#5bc0de', '#d9534f']\n",
        "\n",
        "dfn = df2n.loc[['VALV','VLNG','INT','KINK','ACO2','DISC','VTUB','VMCH','MVS']]\n",
        "dfn = dfn.sort_values(by=['Domain 1'], ascending=False)\n",
        "\n",
        "# plot with annotations is probably easier\n",
        "p1 = dfn.plot.bar(width=0.7, color=colors, figsize=(20, 7),title='Feature Importance using Adaboost for Causal Path variables (Continuous Data)')\n",
        "p1.set_xticklabels(p1.get_xticklabels(), rotation=0)\n",
        "\n",
        "for p in p1.patches:\n",
        "  # if p.get_height() > 0.0001:\n",
        "    # p1.annotate(f'{p.get_height():0.2f}', (p.get_x() + p.get_width() / 2., p.get_height()), ha = 'center', va = 'center', xytext = (0, 10), textcoords = 'offset points')\n",
        "    n = p.get_height()\n",
        "    # print(n)\n",
        "    r = 0\n",
        "    if (a1[a1 == n].any()): r = a1[a1 == n].index[0]+1\n",
        "    if (a2[a2 == n].any()): r = a2[a2 == n].index[0]+1\n",
        "    if (a3[a3 == n].any()): r = a3[a3 == n].index[0]+1\n",
        "\n",
        "    p1.annotate(r, (p.get_x() + p.get_width() / 2., p.get_height()), ha = 'center', va = 'center', xytext = (0, 10), textcoords = 'offset points')"
      ],
      "execution_count": null,
      "outputs": [
        {
          "output_type": "display_data",
          "data": {
            "image/png": "[encoded data removed]",
            "text/plain": [
              "<Figure size 1440x504 with 1 Axes>"
            ]
          },
          "metadata": {
            "needs_background": "light"
          }
        }
      ]
    },
    {
      "cell_type": "code",
      "metadata": {
        "colab": {
          "base_uri": "https://localhost:8080/",
          "height": 17
        },
        "id": "x_Ix59dY36gb",
        "outputId": "4a9f1499-4652-4387-c909-7cc07e62a569"
      },
      "source": [
        "from google.colab import files\n",
        "p1.get_figure().savefig('TLp_RAda.pdf')\n",
        "\n",
        "files.download('TLp_RAda.pdf')"
      ],
      "execution_count": null,
      "outputs": [
        {
          "output_type": "display_data",
          "data": {
            "application/javascript": [
              "\n",
              "    async function download(id, filename, size) {\n",
              "      if (!google.colab.kernel.accessAllowed) {\n",
              "        return;\n",
              "      }\n",
              "      const div = document.createElement('div');\n",
              "      const label = document.createElement('label');\n",
              "      label.textContent = `Downloading \"${filename}\": `;\n",
              "      div.appendChild(label);\n",
              "      const progress = document.createElement('progress');\n",
              "      progress.max = size;\n",
              "      div.appendChild(progress);\n",
              "      document.body.appendChild(div);\n",
              "\n",
              "      const buffers = [];\n",
              "      let downloaded = 0;\n",
              "\n",
              "      const channel = await google.colab.kernel.comms.open(id);\n",
              "      // Send a message to notify the kernel that we're ready.\n",
              "      channel.send({})\n",
              "\n",
              "      for await (const message of channel.messages) {\n",
              "        // Send a message to notify the kernel that we're ready.\n",
              "        channel.send({})\n",
              "        if (message.buffers) {\n",
              "          for (const buffer of message.buffers) {\n",
              "            buffers.push(buffer);\n",
              "            downloaded += buffer.byteLength;\n",
              "            progress.value = downloaded;\n",
              "          }\n",
              "        }\n",
              "      }\n",
              "      const blob = new Blob(buffers, {type: 'application/binary'});\n",
              "      const a = document.createElement('a');\n",
              "      a.href = window.URL.createObjectURL(blob);\n",
              "      a.download = filename;\n",
              "      div.appendChild(a);\n",
              "      a.click();\n",
              "      div.remove();\n",
              "    }\n",
              "  "
            ],
            "text/plain": [
              "<IPython.core.display.Javascript object>"
            ]
          },
          "metadata": {}
        },
        {
          "output_type": "display_data",
          "data": {
            "application/javascript": [
              "download(\"download_e5febcd3-10e0-4ad6-8794-2337a4f9a5e7\", \"TLp_RAda.pdf\", 18864)"
            ],
            "text/plain": [
              "<IPython.core.display.Javascript object>"
            ]
          },
          "metadata": {}
        }
      ]
    },
    {
      "cell_type": "code",
      "metadata": {
        "colab": {
          "base_uri": "https://localhost:8080/",
          "height": 353
        },
        "id": "FqbvDAtp36kj",
        "outputId": "aa75eae6-ee00-40eb-ae09-e02baeadac3e"
      },
      "source": [
        "colors = ['#5bc0de', '#d9534f']\n",
        "\n",
        "df = df2n.loc[['VALV','VLNG','INT','KINK','ACO2','DISC','VTUB','VMCH','MVS']]\n",
        "df = df.sort_values(by=['Domain 1'], ascending=False)\n",
        "df['SInt_diff'] = df['Domain 1'] - df['Domain 2']\n",
        "df['HIntKink_diff'] = df['Domain 1'] - df['Domain 3']\n",
        "df = df.drop(['Domain 2','Domain 1','Domain 3'], axis = 1)\n",
        "\n",
        "# plot with annotations is probably easier\n",
        "p1 = df.plot.bar(width=0.7, color=colors, figsize=(15, 5),title='Feature Importance Difference using Adaboost for Causal Path variables (Continuous Data)')\n",
        "p1.set_xticklabels(p1.get_xticklabels(), rotation=0)\n",
        "plt.axhline(0, color='black')"
      ],
      "execution_count": null,
      "outputs": [
        {
          "output_type": "execute_result",
          "data": {
            "text/plain": [
              "<matplotlib.lines.Line2D at 0x7f88c50ba4d0>"
            ]
          },
          "metadata": {},
          "execution_count": 35
        },
        {
          "output_type": "display_data",
          "data": {
            "image/png": "[encoded data removed]",
            "text/plain": [
              "<Figure size 1080x360 with 1 Axes>"
            ]
          },
          "metadata": {
            "needs_background": "light"
          }
        }
      ]
    },
    {
      "cell_type": "code",
      "metadata": {
        "colab": {
          "base_uri": "https://localhost:8080/",
          "height": 17
        },
        "id": "GT2n5HG937Ur",
        "outputId": "3a3766d2-1bed-4822-d89b-ea82126fa620"
      },
      "source": [
        "from google.colab import files\n",
        "p1.get_figure().savefig('TLp_RAda_diff.pdf')\n",
        "\n",
        "files.download('TLp_RAda_diff.pdf')"
      ],
      "execution_count": null,
      "outputs": [
        {
          "output_type": "display_data",
          "data": {
            "application/javascript": [
              "\n",
              "    async function download(id, filename, size) {\n",
              "      if (!google.colab.kernel.accessAllowed) {\n",
              "        return;\n",
              "      }\n",
              "      const div = document.createElement('div');\n",
              "      const label = document.createElement('label');\n",
              "      label.textContent = `Downloading \"${filename}\": `;\n",
              "      div.appendChild(label);\n",
              "      const progress = document.createElement('progress');\n",
              "      progress.max = size;\n",
              "      div.appendChild(progress);\n",
              "      document.body.appendChild(div);\n",
              "\n",
              "      const buffers = [];\n",
              "      let downloaded = 0;\n",
              "\n",
              "      const channel = await google.colab.kernel.comms.open(id);\n",
              "      // Send a message to notify the kernel that we're ready.\n",
              "      channel.send({})\n",
              "\n",
              "      for await (const message of channel.messages) {\n",
              "        // Send a message to notify the kernel that we're ready.\n",
              "        channel.send({})\n",
              "        if (message.buffers) {\n",
              "          for (const buffer of message.buffers) {\n",
              "            buffers.push(buffer);\n",
              "            downloaded += buffer.byteLength;\n",
              "            progress.value = downloaded;\n",
              "          }\n",
              "        }\n",
              "      }\n",
              "      const blob = new Blob(buffers, {type: 'application/binary'});\n",
              "      const a = document.createElement('a');\n",
              "      a.href = window.URL.createObjectURL(blob);\n",
              "      a.download = filename;\n",
              "      div.appendChild(a);\n",
              "      a.click();\n",
              "      div.remove();\n",
              "    }\n",
              "  "
            ],
            "text/plain": [
              "<IPython.core.display.Javascript object>"
            ]
          },
          "metadata": {}
        },
        {
          "output_type": "display_data",
          "data": {
            "application/javascript": [
              "download(\"download_f21e0e18-a335-4186-859b-47b1c7affe0f\", \"TLp_RAda_diff.pdf\", 18066)"
            ],
            "text/plain": [
              "<IPython.core.display.Javascript object>"
            ]
          },
          "metadata": {}
        }
      ]
    },
    {
      "cell_type": "markdown",
      "metadata": {
        "id": "iOVd3X0gWmUY"
      },
      "source": [
        "MARKOV BLANKET"
      ]
    },
    {
      "cell_type": "code",
      "metadata": {
        "id": "Is7IetXcWow8"
      },
      "source": [
        "import pandas as pd\n",
        "# RF\n",
        "df1 = {'Domain 1':  [0.519754, 0.480246],\n",
        "        'Domain 2': [0.623655,0.376345],\n",
        "        'Domain 3': [0.363728,0.636272]\n",
        "        }\n",
        "\n",
        "df1 = pd.DataFrame(df1)\n",
        "\n",
        "# Ada\n",
        "df2 = {'Domain 1':  [0.005,0.931],\n",
        "        'Domain 2': [0.042,0.926],\n",
        "        'Domain 3': [0.461,0.535]\n",
        "        }\n",
        "\n",
        "df2 = pd.DataFrame(df2)"
      ],
      "execution_count": null,
      "outputs": []
    },
    {
      "cell_type": "code",
      "metadata": {
        "id": "FAq6sGUFT_JQ"
      },
      "source": [
        "import pandas as pd\n",
        "# Continuous Data\n",
        "# RF\n",
        "df1 = {'Domain 1':  [0.993206, 0.00679356],\n",
        "        'Domain 2': [0.986078,0.0139218],\n",
        "        'Domain 3': [0.987533,0.0124666]\n",
        "        }\n",
        "\n",
        "df1 = pd.DataFrame(df1)\n",
        "\n",
        "# Ada\n",
        "df2 = {'Domain 1':  [0.990189,0.00981079],\n",
        "        'Domain 2': [0.983004,0.0169964],\n",
        "        'Domain 3': [0.980315,0.0196853]\n",
        "        }\n",
        "\n",
        "df2 = pd.DataFrame(df2)\n"
      ],
      "execution_count": null,
      "outputs": []
    },
    {
      "cell_type": "code",
      "metadata": {
        "id": "DDaIePmNYf-6"
      },
      "source": [
        "df1.rename(index = {0: \"ACO2\", 1:\"VLNG\"}, inplace = True)\n",
        "df2.rename(index = {0: \"ACO2\", 1:\"VLNG\"}, inplace = True)\n",
        "\n",
        "df1n = df1.astype(float)\n",
        "df2n = df2.astype(float)\n",
        "\n",
        "df1n = df1n.sort_values(by=['Domain 1'], ascending=False)\n",
        "df2n = df2n.sort_values(by=['Domain 1'], ascending=False)"
      ],
      "execution_count": null,
      "outputs": []
    },
    {
      "cell_type": "code",
      "metadata": {
        "id": "b4PtBPIpZHS1"
      },
      "source": [
        "# Continuous Case ICP\n",
        "import pandas as pd\n",
        "# Continuous Data\n",
        "# RF\n",
        "df1 = {'Domain 1':  [3.08456e-05,0.332166,0.305982,0.00323259,0.354673,0.00391527],\n",
        "        'Domain 2': [0.000123579,0.323497,0.329321,0.00554778,0.333946,0.0075643],\n",
        "        'Domain 3': [9.15169e-05,0.334178,0.280211,0.00478817,0.371169,0.00956237]\n",
        "        }\n",
        "\n",
        "df1 = pd.DataFrame(df1)\n",
        "\n",
        "# Ada\n",
        "df2 = {'Domain 1':  [0,0.550956,0.188784,0.00442188,0.249554,0.0062841],\n",
        "        'Domain 2': [0,0.379701,0.36177,0.0231525,0.221051,0.014325],\n",
        "        'Domain 3': [0,0.367455,0.251972,0.00640422,0.337968,0.0362012]\n",
        "        }\n",
        "\n",
        "df2 = pd.DataFrame(df2)\n",
        "\n",
        "df1.rename(index = {0: \"PMB\", 1:\"VALV\", 2:\"CCHL\", 3:\"VLNG\", 4:\"ACO2\", 5:\"SAO2\"}, inplace = True)\n",
        "df2.rename(index = {0: \"PMB\", 1:\"VALV\", 2:\"CCHL\", 3:\"VLNG\", 4:\"ACO2\", 5:\"SAO2\"}, inplace = True)\n",
        "\n",
        "df1n = df1.astype(float)\n",
        "df2n = df2.astype(float)\n",
        "\n",
        "df1n = df1n.sort_values(by=['Domain 1'], ascending=False)\n",
        "df2n = df2n.sort_values(by=['Domain 1'], ascending=False)"
      ],
      "execution_count": null,
      "outputs": []
    },
    {
      "cell_type": "code",
      "metadata": {
        "id": "KBobW_7kYgA7"
      },
      "source": [
        "a1 = df2n['Domain 1']\n",
        "a2 = df2n['Domain 2']\n",
        "a3 = df2n['Domain 3']\n",
        "\n",
        "a1=a1.sort_values(ascending=False)\n",
        "a2=a2.sort_values(ascending=False)\n",
        "a3=a3.sort_values(ascending=False)\n",
        "\n",
        "a1=a1.reset_index(drop=True)\n",
        "a2=a2.reset_index(drop=True)\n",
        "a3=a3.reset_index(drop=True)"
      ],
      "execution_count": null,
      "outputs": []
    },
    {
      "cell_type": "code",
      "metadata": {
        "colab": {
          "base_uri": "https://localhost:8080/",
          "height": 444
        },
        "id": "XhI3cyPUYgGD",
        "outputId": "68c886d7-f259-4630-d1e4-72836a8e6bf5"
      },
      "source": [
        "colors = ['#5cb85c', '#5bc0de', '#d9534f']\n",
        "\n",
        "# plot with annotations is probably easier\n",
        "p1 = df2n.plot.bar(width=0.7, color=colors, figsize=(10, 7),title='Feature Importance using ICP + Adaboost (Continuous Data)')\n",
        "p1.set_xticklabels(p1.get_xticklabels(), rotation=0)\n",
        "\n",
        "for p in p1.patches:\n",
        "  # if p.get_height() > 0.0001:\n",
        "    # p1.annotate(f'{p.get_height():0.2f}', (p.get_x() + p.get_width() / 2., p.get_height()), ha = 'center', va = 'center', xytext = (0, 10), textcoords = 'offset points')\n",
        "    n = p.get_height()\n",
        "    # print(n)\n",
        "    r = 0\n",
        "    if (a1[a1 == n].any()): r = a1[a1 == n].index[0]+1\n",
        "    if (a2[a2 == n].any()): r = a2[a2 == n].index[0]+1\n",
        "    if (a3[a3 == n].any()): r = a3[a3 == n].index[0]+1\n",
        "\n",
        "    p1.annotate(r, (p.get_x() + p.get_width() / 2., p.get_height()), ha = 'center', va = 'center', xytext = (0, 10), textcoords = 'offset points')"
      ],
      "execution_count": null,
      "outputs": [
        {
          "output_type": "display_data",
          "data": {
            "image/png": "[encoded data removed]",
            "text/plain": [
              "<Figure size 720x504 with 1 Axes>"
            ]
          },
          "metadata": {
            "needs_background": "light"
          }
        }
      ]
    },
    {
      "cell_type": "code",
      "metadata": {
        "colab": {
          "base_uri": "https://localhost:8080/",
          "height": 17
        },
        "id": "nPxIVmowYgHy",
        "outputId": "fce7f96c-dd4a-4be9-b228-2a6c904c098e"
      },
      "source": [
        "from google.colab import files\n",
        "p1.get_figure().savefig('TLp_RAda_ICP.pdf')\n",
        "\n",
        "files.download('TLp_RAda_ICP.pdf')"
      ],
      "execution_count": null,
      "outputs": [
        {
          "output_type": "display_data",
          "data": {
            "application/javascript": [
              "\n",
              "    async function download(id, filename, size) {\n",
              "      if (!google.colab.kernel.accessAllowed) {\n",
              "        return;\n",
              "      }\n",
              "      const div = document.createElement('div');\n",
              "      const label = document.createElement('label');\n",
              "      label.textContent = `Downloading \"${filename}\": `;\n",
              "      div.appendChild(label);\n",
              "      const progress = document.createElement('progress');\n",
              "      progress.max = size;\n",
              "      div.appendChild(progress);\n",
              "      document.body.appendChild(div);\n",
              "\n",
              "      const buffers = [];\n",
              "      let downloaded = 0;\n",
              "\n",
              "      const channel = await google.colab.kernel.comms.open(id);\n",
              "      // Send a message to notify the kernel that we're ready.\n",
              "      channel.send({})\n",
              "\n",
              "      for await (const message of channel.messages) {\n",
              "        // Send a message to notify the kernel that we're ready.\n",
              "        channel.send({})\n",
              "        if (message.buffers) {\n",
              "          for (const buffer of message.buffers) {\n",
              "            buffers.push(buffer);\n",
              "            downloaded += buffer.byteLength;\n",
              "            progress.value = downloaded;\n",
              "          }\n",
              "        }\n",
              "      }\n",
              "      const blob = new Blob(buffers, {type: 'application/binary'});\n",
              "      const a = document.createElement('a');\n",
              "      a.href = window.URL.createObjectURL(blob);\n",
              "      a.download = filename;\n",
              "      div.appendChild(a);\n",
              "      a.click();\n",
              "      div.remove();\n",
              "    }\n",
              "  "
            ],
            "text/plain": [
              "<IPython.core.display.Javascript object>"
            ]
          },
          "metadata": {}
        },
        {
          "output_type": "display_data",
          "data": {
            "application/javascript": [
              "download(\"download_997b3097-5f30-47dd-b275-827edaca9015\", \"TLp_RAda_ICP.pdf\", 16010)"
            ],
            "text/plain": [
              "<IPython.core.display.Javascript object>"
            ]
          },
          "metadata": {}
        }
      ]
    },
    {
      "cell_type": "code",
      "metadata": {
        "colab": {
          "base_uri": "https://localhost:8080/",
          "height": 461
        },
        "id": "n3Q95IHzYgL5",
        "outputId": "7ce9de21-3688-41a6-a6d2-5c85e8ab2839"
      },
      "source": [
        "import matplotlib.pyplot as plt\n",
        "colors = ['#5bc0de', '#d9534f']\n",
        "\n",
        "df = df2n\n",
        "df['SInt_diff'] = df['Domain 1'] - df['Domain 2']\n",
        "df['HIntKink_diff'] = df['Domain 1'] - df['Domain 3']\n",
        "df = df.drop(['Domain 2','Domain 1','Domain 3'], axis = 1)\n",
        "\n",
        "# plot with annotations is probably easier\n",
        "p1 = df.plot.bar(width=0.7, color=colors,rot=0, figsize=(10, 7),title='Feature Importance Differences ICP + Adaboost (Continuous Data)')\n",
        "plt.axhline(0, color='black')"
      ],
      "execution_count": null,
      "outputs": [
        {
          "output_type": "execute_result",
          "data": {
            "text/plain": [
              "<matplotlib.lines.Line2D at 0x7f66ed0ac0d0>"
            ]
          },
          "metadata": {},
          "execution_count": 44
        },
        {
          "output_type": "display_data",
          "data": {
            "image/png": "[encoded data removed]",
            "text/plain": [
              "<Figure size 720x504 with 1 Axes>"
            ]
          },
          "metadata": {
            "needs_background": "light"
          }
        }
      ]
    },
    {
      "cell_type": "code",
      "metadata": {
        "colab": {
          "base_uri": "https://localhost:8080/",
          "height": 17
        },
        "id": "_OCOYdqWYgO5",
        "outputId": "d627c0ac-ce28-4fd8-b7a3-e40b87e740f2"
      },
      "source": [
        "from google.colab import files\n",
        "p1.get_figure().savefig('TLp_RAda_ICP_diff.pdf')\n",
        "\n",
        "files.download('TLp_RAda_ICP_diff.pdf')"
      ],
      "execution_count": null,
      "outputs": [
        {
          "output_type": "display_data",
          "data": {
            "application/javascript": [
              "\n",
              "    async function download(id, filename, size) {\n",
              "      if (!google.colab.kernel.accessAllowed) {\n",
              "        return;\n",
              "      }\n",
              "      const div = document.createElement('div');\n",
              "      const label = document.createElement('label');\n",
              "      label.textContent = `Downloading \"${filename}\": `;\n",
              "      div.appendChild(label);\n",
              "      const progress = document.createElement('progress');\n",
              "      progress.max = size;\n",
              "      div.appendChild(progress);\n",
              "      document.body.appendChild(div);\n",
              "\n",
              "      const buffers = [];\n",
              "      let downloaded = 0;\n",
              "\n",
              "      const channel = await google.colab.kernel.comms.open(id);\n",
              "      // Send a message to notify the kernel that we're ready.\n",
              "      channel.send({})\n",
              "\n",
              "      for await (const message of channel.messages) {\n",
              "        // Send a message to notify the kernel that we're ready.\n",
              "        channel.send({})\n",
              "        if (message.buffers) {\n",
              "          for (const buffer of message.buffers) {\n",
              "            buffers.push(buffer);\n",
              "            downloaded += buffer.byteLength;\n",
              "            progress.value = downloaded;\n",
              "          }\n",
              "        }\n",
              "      }\n",
              "      const blob = new Blob(buffers, {type: 'application/binary'});\n",
              "      const a = document.createElement('a');\n",
              "      a.href = window.URL.createObjectURL(blob);\n",
              "      a.download = filename;\n",
              "      div.appendChild(a);\n",
              "      a.click();\n",
              "      div.remove();\n",
              "    }\n",
              "  "
            ],
            "text/plain": [
              "<IPython.core.display.Javascript object>"
            ]
          },
          "metadata": {}
        },
        {
          "output_type": "display_data",
          "data": {
            "application/javascript": [
              "download(\"download_5035b655-2a55-4c6c-968b-dd318da97ab6\", \"TLp_RAda_ICP_diff.pdf\", 15691)"
            ],
            "text/plain": [
              "<IPython.core.display.Javascript object>"
            ]
          },
          "metadata": {}
        }
      ]
    }
  ]
}